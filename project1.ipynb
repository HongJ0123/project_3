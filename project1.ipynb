{
 "cells": [
  {
   "cell_type": "markdown",
   "id": "f61ae17f",
   "metadata": {},
   "source": [
    "# Project 1"
   ]
  },
  {
   "cell_type": "code",
   "execution_count": 10,
   "id": "e636532b",
   "metadata": {},
   "outputs": [],
   "source": [
    "import plotly.io as pio\n",
    "\n",
    "pio.renderers.default = \"vscode+jupyterlab+notebook_connected\""
   ]
  },
  {
   "cell_type": "code",
   "execution_count": 11,
   "id": "8cc7ea1b-c353-4209-bcf6-dcdd985559ca",
   "metadata": {
    "scrolled": true
   },
   "outputs": [],
   "source": [
    "import pandas as pd\n",
    "\n",
    "pd.options.display.max_rows = 1000\n",
    "df=pd.read_csv(\"https://data.cityofnewyork.us/resource/k397-673e.csv\")"
   ]
  },
  {
   "cell_type": "code",
   "execution_count": 12,
   "id": "8987019e",
   "metadata": {},
   "outputs": [],
   "source": [
    "import plotly.io as pio\n",
    "\n",
    "pio.renderers.default = \"vscode+jupyterlab+notebook_connected\""
   ]
  },
  {
   "cell_type": "code",
   "execution_count": 13,
   "id": "103e26bc-23b9-42ef-a29d-f5586503fd30",
   "metadata": {},
   "outputs": [
    {
     "data": {
      "text/plain": [
       "64803.85066"
      ]
     },
     "execution_count": 13,
     "metadata": {},
     "output_type": "execute_result"
    }
   ],
   "source": [
    "mean_value = df['base_salary'].mean()\n",
    "mean_value"
   ]
  },
  {
   "cell_type": "code",
   "execution_count": 14,
   "id": "e63ba4c7-fbce-4c7a-b050-410138e7b2c0",
   "metadata": {},
   "outputs": [
    {
     "data": {
      "text/plain": [
       "61680.0"
      ]
     },
     "execution_count": 14,
     "metadata": {},
     "output_type": "execute_result"
    }
   ],
   "source": [
    "median_value = df['base_salary'].median()\n",
    "median_value"
   ]
  },
  {
   "cell_type": "code",
   "execution_count": 15,
   "id": "f0cb821d-569b-4d93-848f-31034ad4e8a8",
   "metadata": {},
   "outputs": [
    {
     "data": {
      "text/plain": [
       "57127.0"
      ]
     },
     "execution_count": 15,
     "metadata": {},
     "output_type": "execute_result"
    }
   ],
   "source": [
    "mode_value = df['base_salary'].mode()[0]\n",
    "mode_value"
   ]
  },
  {
   "cell_type": "code",
   "execution_count": 16,
   "id": "c69c9a74-8271-4dbf-a888-e5aa12b651bf",
   "metadata": {},
   "outputs": [
    {
     "data": {
      "text/html": [
       "<div>\n",
       "<style scoped>\n",
       "    .dataframe tbody tr th:only-of-type {\n",
       "        vertical-align: middle;\n",
       "    }\n",
       "\n",
       "    .dataframe tbody tr th {\n",
       "        vertical-align: top;\n",
       "    }\n",
       "\n",
       "    .dataframe thead th {\n",
       "        text-align: right;\n",
       "    }\n",
       "</style>\n",
       "<table border=\"1\" class=\"dataframe\">\n",
       "  <thead>\n",
       "    <tr style=\"text-align: right;\">\n",
       "      <th></th>\n",
       "      <th>fiscal_year</th>\n",
       "      <th>base_salary</th>\n",
       "    </tr>\n",
       "  </thead>\n",
       "  <tbody>\n",
       "  </tbody>\n",
       "</table>\n",
       "</div>"
      ],
      "text/plain": [
       "Empty DataFrame\n",
       "Columns: [fiscal_year, base_salary]\n",
       "Index: []"
      ]
     },
     "execution_count": 16,
     "metadata": {},
     "output_type": "execute_result"
    }
   ],
   "source": [
    "yearly_count=df.groupby(\"fiscal_year\")[\"base_salary\"].sum().reset_index()\n",
    "yearly_count[\"base_salary\"]=yearly_count[\"base_salary\"]/1e6\n",
    "yearly_count_filtered=yearly_count[yearly_count[\"fiscal_year\"].isin(range(2020,2022))]\n",
    "yearly_count_filtered"
   ]
  },
  {
   "cell_type": "code",
   "execution_count": 17,
   "id": "0ddbe168-e8e4-4951-a762-0b6d5f31b290",
   "metadata": {},
   "outputs": [
    {
     "data": {
      "text/html": [
       "        <script type=\"text/javascript\">\n",
       "        window.PlotlyConfig = {MathJaxConfig: 'local'};\n",
       "        if (window.MathJax && window.MathJax.Hub && window.MathJax.Hub.Config) {window.MathJax.Hub.Config({SVG: {font: \"STIX-Web\"}});}\n",
       "        if (typeof require !== 'undefined') {\n",
       "        require.undef(\"plotly\");\n",
       "        requirejs.config({\n",
       "            paths: {\n",
       "                'plotly': ['https://cdn.plot.ly/plotly-2.32.0.min']\n",
       "            }\n",
       "        });\n",
       "        require(['plotly'], function(Plotly) {\n",
       "            window._Plotly = Plotly;\n",
       "        });\n",
       "        }\n",
       "        </script>\n",
       "        "
      ]
     },
     "metadata": {},
     "output_type": "display_data"
    },
    {
     "data": {
      "application/vnd.plotly.v1+json": {
       "config": {
        "plotlyServerURL": "https://plot.ly"
       },
       "data": [],
       "layout": {
        "autosize": true,
        "bargap": 0.8,
        "barmode": "relative",
        "legend": {
         "tracegroupgap": 0
        },
        "template": {
         "data": {
          "bar": [
           {
            "error_x": {
             "color": "#2a3f5f"
            },
            "error_y": {
             "color": "#2a3f5f"
            },
            "marker": {
             "line": {
              "color": "#E5ECF6",
              "width": 0.5
             },
             "pattern": {
              "fillmode": "overlay",
              "size": 10,
              "solidity": 0.2
             }
            },
            "type": "bar"
           }
          ],
          "barpolar": [
           {
            "marker": {
             "line": {
              "color": "#E5ECF6",
              "width": 0.5
             },
             "pattern": {
              "fillmode": "overlay",
              "size": 10,
              "solidity": 0.2
             }
            },
            "type": "barpolar"
           }
          ],
          "carpet": [
           {
            "aaxis": {
             "endlinecolor": "#2a3f5f",
             "gridcolor": "white",
             "linecolor": "white",
             "minorgridcolor": "white",
             "startlinecolor": "#2a3f5f"
            },
            "baxis": {
             "endlinecolor": "#2a3f5f",
             "gridcolor": "white",
             "linecolor": "white",
             "minorgridcolor": "white",
             "startlinecolor": "#2a3f5f"
            },
            "type": "carpet"
           }
          ],
          "choropleth": [
           {
            "colorbar": {
             "outlinewidth": 0,
             "ticks": ""
            },
            "type": "choropleth"
           }
          ],
          "contour": [
           {
            "colorbar": {
             "outlinewidth": 0,
             "ticks": ""
            },
            "colorscale": [
             [
              0,
              "#0d0887"
             ],
             [
              0.1111111111111111,
              "#46039f"
             ],
             [
              0.2222222222222222,
              "#7201a8"
             ],
             [
              0.3333333333333333,
              "#9c179e"
             ],
             [
              0.4444444444444444,
              "#bd3786"
             ],
             [
              0.5555555555555556,
              "#d8576b"
             ],
             [
              0.6666666666666666,
              "#ed7953"
             ],
             [
              0.7777777777777778,
              "#fb9f3a"
             ],
             [
              0.8888888888888888,
              "#fdca26"
             ],
             [
              1,
              "#f0f921"
             ]
            ],
            "type": "contour"
           }
          ],
          "contourcarpet": [
           {
            "colorbar": {
             "outlinewidth": 0,
             "ticks": ""
            },
            "type": "contourcarpet"
           }
          ],
          "heatmap": [
           {
            "colorbar": {
             "outlinewidth": 0,
             "ticks": ""
            },
            "colorscale": [
             [
              0,
              "#0d0887"
             ],
             [
              0.1111111111111111,
              "#46039f"
             ],
             [
              0.2222222222222222,
              "#7201a8"
             ],
             [
              0.3333333333333333,
              "#9c179e"
             ],
             [
              0.4444444444444444,
              "#bd3786"
             ],
             [
              0.5555555555555556,
              "#d8576b"
             ],
             [
              0.6666666666666666,
              "#ed7953"
             ],
             [
              0.7777777777777778,
              "#fb9f3a"
             ],
             [
              0.8888888888888888,
              "#fdca26"
             ],
             [
              1,
              "#f0f921"
             ]
            ],
            "type": "heatmap"
           }
          ],
          "heatmapgl": [
           {
            "colorbar": {
             "outlinewidth": 0,
             "ticks": ""
            },
            "colorscale": [
             [
              0,
              "#0d0887"
             ],
             [
              0.1111111111111111,
              "#46039f"
             ],
             [
              0.2222222222222222,
              "#7201a8"
             ],
             [
              0.3333333333333333,
              "#9c179e"
             ],
             [
              0.4444444444444444,
              "#bd3786"
             ],
             [
              0.5555555555555556,
              "#d8576b"
             ],
             [
              0.6666666666666666,
              "#ed7953"
             ],
             [
              0.7777777777777778,
              "#fb9f3a"
             ],
             [
              0.8888888888888888,
              "#fdca26"
             ],
             [
              1,
              "#f0f921"
             ]
            ],
            "type": "heatmapgl"
           }
          ],
          "histogram": [
           {
            "marker": {
             "pattern": {
              "fillmode": "overlay",
              "size": 10,
              "solidity": 0.2
             }
            },
            "type": "histogram"
           }
          ],
          "histogram2d": [
           {
            "colorbar": {
             "outlinewidth": 0,
             "ticks": ""
            },
            "colorscale": [
             [
              0,
              "#0d0887"
             ],
             [
              0.1111111111111111,
              "#46039f"
             ],
             [
              0.2222222222222222,
              "#7201a8"
             ],
             [
              0.3333333333333333,
              "#9c179e"
             ],
             [
              0.4444444444444444,
              "#bd3786"
             ],
             [
              0.5555555555555556,
              "#d8576b"
             ],
             [
              0.6666666666666666,
              "#ed7953"
             ],
             [
              0.7777777777777778,
              "#fb9f3a"
             ],
             [
              0.8888888888888888,
              "#fdca26"
             ],
             [
              1,
              "#f0f921"
             ]
            ],
            "type": "histogram2d"
           }
          ],
          "histogram2dcontour": [
           {
            "colorbar": {
             "outlinewidth": 0,
             "ticks": ""
            },
            "colorscale": [
             [
              0,
              "#0d0887"
             ],
             [
              0.1111111111111111,
              "#46039f"
             ],
             [
              0.2222222222222222,
              "#7201a8"
             ],
             [
              0.3333333333333333,
              "#9c179e"
             ],
             [
              0.4444444444444444,
              "#bd3786"
             ],
             [
              0.5555555555555556,
              "#d8576b"
             ],
             [
              0.6666666666666666,
              "#ed7953"
             ],
             [
              0.7777777777777778,
              "#fb9f3a"
             ],
             [
              0.8888888888888888,
              "#fdca26"
             ],
             [
              1,
              "#f0f921"
             ]
            ],
            "type": "histogram2dcontour"
           }
          ],
          "mesh3d": [
           {
            "colorbar": {
             "outlinewidth": 0,
             "ticks": ""
            },
            "type": "mesh3d"
           }
          ],
          "parcoords": [
           {
            "line": {
             "colorbar": {
              "outlinewidth": 0,
              "ticks": ""
             }
            },
            "type": "parcoords"
           }
          ],
          "pie": [
           {
            "automargin": true,
            "type": "pie"
           }
          ],
          "scatter": [
           {
            "fillpattern": {
             "fillmode": "overlay",
             "size": 10,
             "solidity": 0.2
            },
            "type": "scatter"
           }
          ],
          "scatter3d": [
           {
            "line": {
             "colorbar": {
              "outlinewidth": 0,
              "ticks": ""
             }
            },
            "marker": {
             "colorbar": {
              "outlinewidth": 0,
              "ticks": ""
             }
            },
            "type": "scatter3d"
           }
          ],
          "scattercarpet": [
           {
            "marker": {
             "colorbar": {
              "outlinewidth": 0,
              "ticks": ""
             }
            },
            "type": "scattercarpet"
           }
          ],
          "scattergeo": [
           {
            "marker": {
             "colorbar": {
              "outlinewidth": 0,
              "ticks": ""
             }
            },
            "type": "scattergeo"
           }
          ],
          "scattergl": [
           {
            "marker": {
             "colorbar": {
              "outlinewidth": 0,
              "ticks": ""
             }
            },
            "type": "scattergl"
           }
          ],
          "scattermapbox": [
           {
            "marker": {
             "colorbar": {
              "outlinewidth": 0,
              "ticks": ""
             }
            },
            "type": "scattermapbox"
           }
          ],
          "scatterpolar": [
           {
            "marker": {
             "colorbar": {
              "outlinewidth": 0,
              "ticks": ""
             }
            },
            "type": "scatterpolar"
           }
          ],
          "scatterpolargl": [
           {
            "marker": {
             "colorbar": {
              "outlinewidth": 0,
              "ticks": ""
             }
            },
            "type": "scatterpolargl"
           }
          ],
          "scatterternary": [
           {
            "marker": {
             "colorbar": {
              "outlinewidth": 0,
              "ticks": ""
             }
            },
            "type": "scatterternary"
           }
          ],
          "surface": [
           {
            "colorbar": {
             "outlinewidth": 0,
             "ticks": ""
            },
            "colorscale": [
             [
              0,
              "#0d0887"
             ],
             [
              0.1111111111111111,
              "#46039f"
             ],
             [
              0.2222222222222222,
              "#7201a8"
             ],
             [
              0.3333333333333333,
              "#9c179e"
             ],
             [
              0.4444444444444444,
              "#bd3786"
             ],
             [
              0.5555555555555556,
              "#d8576b"
             ],
             [
              0.6666666666666666,
              "#ed7953"
             ],
             [
              0.7777777777777778,
              "#fb9f3a"
             ],
             [
              0.8888888888888888,
              "#fdca26"
             ],
             [
              1,
              "#f0f921"
             ]
            ],
            "type": "surface"
           }
          ],
          "table": [
           {
            "cells": {
             "fill": {
              "color": "#EBF0F8"
             },
             "line": {
              "color": "white"
             }
            },
            "header": {
             "fill": {
              "color": "#C8D4E3"
             },
             "line": {
              "color": "white"
             }
            },
            "type": "table"
           }
          ]
         },
         "layout": {
          "annotationdefaults": {
           "arrowcolor": "#2a3f5f",
           "arrowhead": 0,
           "arrowwidth": 1
          },
          "autotypenumbers": "strict",
          "coloraxis": {
           "colorbar": {
            "outlinewidth": 0,
            "ticks": ""
           }
          },
          "colorscale": {
           "diverging": [
            [
             0,
             "#8e0152"
            ],
            [
             0.1,
             "#c51b7d"
            ],
            [
             0.2,
             "#de77ae"
            ],
            [
             0.3,
             "#f1b6da"
            ],
            [
             0.4,
             "#fde0ef"
            ],
            [
             0.5,
             "#f7f7f7"
            ],
            [
             0.6,
             "#e6f5d0"
            ],
            [
             0.7,
             "#b8e186"
            ],
            [
             0.8,
             "#7fbc41"
            ],
            [
             0.9,
             "#4d9221"
            ],
            [
             1,
             "#276419"
            ]
           ],
           "sequential": [
            [
             0,
             "#0d0887"
            ],
            [
             0.1111111111111111,
             "#46039f"
            ],
            [
             0.2222222222222222,
             "#7201a8"
            ],
            [
             0.3333333333333333,
             "#9c179e"
            ],
            [
             0.4444444444444444,
             "#bd3786"
            ],
            [
             0.5555555555555556,
             "#d8576b"
            ],
            [
             0.6666666666666666,
             "#ed7953"
            ],
            [
             0.7777777777777778,
             "#fb9f3a"
            ],
            [
             0.8888888888888888,
             "#fdca26"
            ],
            [
             1,
             "#f0f921"
            ]
           ],
           "sequentialminus": [
            [
             0,
             "#0d0887"
            ],
            [
             0.1111111111111111,
             "#46039f"
            ],
            [
             0.2222222222222222,
             "#7201a8"
            ],
            [
             0.3333333333333333,
             "#9c179e"
            ],
            [
             0.4444444444444444,
             "#bd3786"
            ],
            [
             0.5555555555555556,
             "#d8576b"
            ],
            [
             0.6666666666666666,
             "#ed7953"
            ],
            [
             0.7777777777777778,
             "#fb9f3a"
            ],
            [
             0.8888888888888888,
             "#fdca26"
            ],
            [
             1,
             "#f0f921"
            ]
           ]
          },
          "colorway": [
           "#636efa",
           "#EF553B",
           "#00cc96",
           "#ab63fa",
           "#FFA15A",
           "#19d3f3",
           "#FF6692",
           "#B6E880",
           "#FF97FF",
           "#FECB52"
          ],
          "font": {
           "color": "#2a3f5f"
          },
          "geo": {
           "bgcolor": "white",
           "lakecolor": "white",
           "landcolor": "#E5ECF6",
           "showlakes": true,
           "showland": true,
           "subunitcolor": "white"
          },
          "hoverlabel": {
           "align": "left"
          },
          "hovermode": "closest",
          "mapbox": {
           "style": "light"
          },
          "paper_bgcolor": "white",
          "plot_bgcolor": "#E5ECF6",
          "polar": {
           "angularaxis": {
            "gridcolor": "white",
            "linecolor": "white",
            "ticks": ""
           },
           "bgcolor": "#E5ECF6",
           "radialaxis": {
            "gridcolor": "white",
            "linecolor": "white",
            "ticks": ""
           }
          },
          "scene": {
           "xaxis": {
            "backgroundcolor": "#E5ECF6",
            "gridcolor": "white",
            "gridwidth": 2,
            "linecolor": "white",
            "showbackground": true,
            "ticks": "",
            "zerolinecolor": "white"
           },
           "yaxis": {
            "backgroundcolor": "#E5ECF6",
            "gridcolor": "white",
            "gridwidth": 2,
            "linecolor": "white",
            "showbackground": true,
            "ticks": "",
            "zerolinecolor": "white"
           },
           "zaxis": {
            "backgroundcolor": "#E5ECF6",
            "gridcolor": "white",
            "gridwidth": 2,
            "linecolor": "white",
            "showbackground": true,
            "ticks": "",
            "zerolinecolor": "white"
           }
          },
          "shapedefaults": {
           "line": {
            "color": "#2a3f5f"
           }
          },
          "ternary": {
           "aaxis": {
            "gridcolor": "white",
            "linecolor": "white",
            "ticks": ""
           },
           "baxis": {
            "gridcolor": "white",
            "linecolor": "white",
            "ticks": ""
           },
           "bgcolor": "#E5ECF6",
           "caxis": {
            "gridcolor": "white",
            "linecolor": "white",
            "ticks": ""
           }
          },
          "title": {
           "x": 0.05
          },
          "xaxis": {
           "automargin": true,
           "gridcolor": "white",
           "linecolor": "white",
           "ticks": "",
           "title": {
            "standoff": 15
           },
           "zerolinecolor": "white",
           "zerolinewidth": 2
          },
          "yaxis": {
           "automargin": true,
           "gridcolor": "white",
           "linecolor": "white",
           "ticks": "",
           "title": {
            "standoff": 15
           },
           "zerolinecolor": "white",
           "zerolinewidth": 2
          }
         }
        },
        "title": {
         "text": "Yearly Salary Counts"
        },
        "xaxis": {
         "anchor": "y",
         "autorange": true,
         "categoryarray": [],
         "categoryorder": "array",
         "domain": [
          0,
          1
         ],
         "dtick": 1,
         "range": [
          -1,
          6
         ],
         "tickmode": "linear",
         "title": {
          "text": "Year"
         }
        },
        "yaxis": {
         "anchor": "x",
         "autorange": true,
         "domain": [
          0,
          1
         ],
         "range": [
          -1,
          4
         ],
         "title": {
          "text": "sum of Salary Amount"
         }
        }
       }
      },
      "image/png": "[encoded data removed]",
      "text/html": [
       "<div>                            <div id=\"baf15fd6-c28b-4127-8238-e4cf5e398ec2\" class=\"plotly-graph-div\" style=\"height:525px; width:100%;\"></div>            <script type=\"text/javascript\">                require([\"plotly\"], function(Plotly) {                    window.PLOTLYENV=window.PLOTLYENV || {};                                    if (document.getElementById(\"baf15fd6-c28b-4127-8238-e4cf5e398ec2\")) {                    Plotly.newPlot(                        \"baf15fd6-c28b-4127-8238-e4cf5e398ec2\",                        [],                        {\"template\":{\"data\":{\"histogram2dcontour\":[{\"type\":\"histogram2dcontour\",\"colorbar\":{\"outlinewidth\":0,\"ticks\":\"\"},\"colorscale\":[[0.0,\"#0d0887\"],[0.1111111111111111,\"#46039f\"],[0.2222222222222222,\"#7201a8\"],[0.3333333333333333,\"#9c179e\"],[0.4444444444444444,\"#bd3786\"],[0.5555555555555556,\"#d8576b\"],[0.6666666666666666,\"#ed7953\"],[0.7777777777777778,\"#fb9f3a\"],[0.8888888888888888,\"#fdca26\"],[1.0,\"#f0f921\"]]}],\"choropleth\":[{\"type\":\"choropleth\",\"colorbar\":{\"outlinewidth\":0,\"ticks\":\"\"}}],\"histogram2d\":[{\"type\":\"histogram2d\",\"colorbar\":{\"outlinewidth\":0,\"ticks\":\"\"},\"colorscale\":[[0.0,\"#0d0887\"],[0.1111111111111111,\"#46039f\"],[0.2222222222222222,\"#7201a8\"],[0.3333333333333333,\"#9c179e\"],[0.4444444444444444,\"#bd3786\"],[0.5555555555555556,\"#d8576b\"],[0.6666666666666666,\"#ed7953\"],[0.7777777777777778,\"#fb9f3a\"],[0.8888888888888888,\"#fdca26\"],[1.0,\"#f0f921\"]]}],\"heatmap\":[{\"type\":\"heatmap\",\"colorbar\":{\"outlinewidth\":0,\"ticks\":\"\"},\"colorscale\":[[0.0,\"#0d0887\"],[0.1111111111111111,\"#46039f\"],[0.2222222222222222,\"#7201a8\"],[0.3333333333333333,\"#9c179e\"],[0.4444444444444444,\"#bd3786\"],[0.5555555555555556,\"#d8576b\"],[0.6666666666666666,\"#ed7953\"],[0.7777777777777778,\"#fb9f3a\"],[0.8888888888888888,\"#fdca26\"],[1.0,\"#f0f921\"]]}],\"heatmapgl\":[{\"type\":\"heatmapgl\",\"colorbar\":{\"outlinewidth\":0,\"ticks\":\"\"},\"colorscale\":[[0.0,\"#0d0887\"],[0.1111111111111111,\"#46039f\"],[0.2222222222222222,\"#7201a8\"],[0.3333333333333333,\"#9c179e\"],[0.4444444444444444,\"#bd3786\"],[0.5555555555555556,\"#d8576b\"],[0.6666666666666666,\"#ed7953\"],[0.7777777777777778,\"#fb9f3a\"],[0.8888888888888888,\"#fdca26\"],[1.0,\"#f0f921\"]]}],\"contourcarpet\":[{\"type\":\"contourcarpet\",\"colorbar\":{\"outlinewidth\":0,\"ticks\":\"\"}}],\"contour\":[{\"type\":\"contour\",\"colorbar\":{\"outlinewidth\":0,\"ticks\":\"\"},\"colorscale\":[[0.0,\"#0d0887\"],[0.1111111111111111,\"#46039f\"],[0.2222222222222222,\"#7201a8\"],[0.3333333333333333,\"#9c179e\"],[0.4444444444444444,\"#bd3786\"],[0.5555555555555556,\"#d8576b\"],[0.6666666666666666,\"#ed7953\"],[0.7777777777777778,\"#fb9f3a\"],[0.8888888888888888,\"#fdca26\"],[1.0,\"#f0f921\"]]}],\"surface\":[{\"type\":\"surface\",\"colorbar\":{\"outlinewidth\":0,\"ticks\":\"\"},\"colorscale\":[[0.0,\"#0d0887\"],[0.1111111111111111,\"#46039f\"],[0.2222222222222222,\"#7201a8\"],[0.3333333333333333,\"#9c179e\"],[0.4444444444444444,\"#bd3786\"],[0.5555555555555556,\"#d8576b\"],[0.6666666666666666,\"#ed7953\"],[0.7777777777777778,\"#fb9f3a\"],[0.8888888888888888,\"#fdca26\"],[1.0,\"#f0f921\"]]}],\"mesh3d\":[{\"type\":\"mesh3d\",\"colorbar\":{\"outlinewidth\":0,\"ticks\":\"\"}}],\"scatter\":[{\"fillpattern\":{\"fillmode\":\"overlay\",\"size\":10,\"solidity\":0.2},\"type\":\"scatter\"}],\"parcoords\":[{\"type\":\"parcoords\",\"line\":{\"colorbar\":{\"outlinewidth\":0,\"ticks\":\"\"}}}],\"scatterpolargl\":[{\"type\":\"scatterpolargl\",\"marker\":{\"colorbar\":{\"outlinewidth\":0,\"ticks\":\"\"}}}],\"bar\":[{\"error_x\":{\"color\":\"#2a3f5f\"},\"error_y\":{\"color\":\"#2a3f5f\"},\"marker\":{\"line\":{\"color\":\"#E5ECF6\",\"width\":0.5},\"pattern\":{\"fillmode\":\"overlay\",\"size\":10,\"solidity\":0.2}},\"type\":\"bar\"}],\"scattergeo\":[{\"type\":\"scattergeo\",\"marker\":{\"colorbar\":{\"outlinewidth\":0,\"ticks\":\"\"}}}],\"scatterpolar\":[{\"type\":\"scatterpolar\",\"marker\":{\"colorbar\":{\"outlinewidth\":0,\"ticks\":\"\"}}}],\"histogram\":[{\"marker\":{\"pattern\":{\"fillmode\":\"overlay\",\"size\":10,\"solidity\":0.2}},\"type\":\"histogram\"}],\"scattergl\":[{\"type\":\"scattergl\",\"marker\":{\"colorbar\":{\"outlinewidth\":0,\"ticks\":\"\"}}}],\"scatter3d\":[{\"type\":\"scatter3d\",\"line\":{\"colorbar\":{\"outlinewidth\":0,\"ticks\":\"\"}},\"marker\":{\"colorbar\":{\"outlinewidth\":0,\"ticks\":\"\"}}}],\"scattermapbox\":[{\"type\":\"scattermapbox\",\"marker\":{\"colorbar\":{\"outlinewidth\":0,\"ticks\":\"\"}}}],\"scatterternary\":[{\"type\":\"scatterternary\",\"marker\":{\"colorbar\":{\"outlinewidth\":0,\"ticks\":\"\"}}}],\"scattercarpet\":[{\"type\":\"scattercarpet\",\"marker\":{\"colorbar\":{\"outlinewidth\":0,\"ticks\":\"\"}}}],\"carpet\":[{\"aaxis\":{\"endlinecolor\":\"#2a3f5f\",\"gridcolor\":\"white\",\"linecolor\":\"white\",\"minorgridcolor\":\"white\",\"startlinecolor\":\"#2a3f5f\"},\"baxis\":{\"endlinecolor\":\"#2a3f5f\",\"gridcolor\":\"white\",\"linecolor\":\"white\",\"minorgridcolor\":\"white\",\"startlinecolor\":\"#2a3f5f\"},\"type\":\"carpet\"}],\"table\":[{\"cells\":{\"fill\":{\"color\":\"#EBF0F8\"},\"line\":{\"color\":\"white\"}},\"header\":{\"fill\":{\"color\":\"#C8D4E3\"},\"line\":{\"color\":\"white\"}},\"type\":\"table\"}],\"barpolar\":[{\"marker\":{\"line\":{\"color\":\"#E5ECF6\",\"width\":0.5},\"pattern\":{\"fillmode\":\"overlay\",\"size\":10,\"solidity\":0.2}},\"type\":\"barpolar\"}],\"pie\":[{\"automargin\":true,\"type\":\"pie\"}]},\"layout\":{\"autotypenumbers\":\"strict\",\"colorway\":[\"#636efa\",\"#EF553B\",\"#00cc96\",\"#ab63fa\",\"#FFA15A\",\"#19d3f3\",\"#FF6692\",\"#B6E880\",\"#FF97FF\",\"#FECB52\"],\"font\":{\"color\":\"#2a3f5f\"},\"hovermode\":\"closest\",\"hoverlabel\":{\"align\":\"left\"},\"paper_bgcolor\":\"white\",\"plot_bgcolor\":\"#E5ECF6\",\"polar\":{\"bgcolor\":\"#E5ECF6\",\"angularaxis\":{\"gridcolor\":\"white\",\"linecolor\":\"white\",\"ticks\":\"\"},\"radialaxis\":{\"gridcolor\":\"white\",\"linecolor\":\"white\",\"ticks\":\"\"}},\"ternary\":{\"bgcolor\":\"#E5ECF6\",\"aaxis\":{\"gridcolor\":\"white\",\"linecolor\":\"white\",\"ticks\":\"\"},\"baxis\":{\"gridcolor\":\"white\",\"linecolor\":\"white\",\"ticks\":\"\"},\"caxis\":{\"gridcolor\":\"white\",\"linecolor\":\"white\",\"ticks\":\"\"}},\"coloraxis\":{\"colorbar\":{\"outlinewidth\":0,\"ticks\":\"\"}},\"colorscale\":{\"sequential\":[[0.0,\"#0d0887\"],[0.1111111111111111,\"#46039f\"],[0.2222222222222222,\"#7201a8\"],[0.3333333333333333,\"#9c179e\"],[0.4444444444444444,\"#bd3786\"],[0.5555555555555556,\"#d8576b\"],[0.6666666666666666,\"#ed7953\"],[0.7777777777777778,\"#fb9f3a\"],[0.8888888888888888,\"#fdca26\"],[1.0,\"#f0f921\"]],\"sequentialminus\":[[0.0,\"#0d0887\"],[0.1111111111111111,\"#46039f\"],[0.2222222222222222,\"#7201a8\"],[0.3333333333333333,\"#9c179e\"],[0.4444444444444444,\"#bd3786\"],[0.5555555555555556,\"#d8576b\"],[0.6666666666666666,\"#ed7953\"],[0.7777777777777778,\"#fb9f3a\"],[0.8888888888888888,\"#fdca26\"],[1.0,\"#f0f921\"]],\"diverging\":[[0,\"#8e0152\"],[0.1,\"#c51b7d\"],[0.2,\"#de77ae\"],[0.3,\"#f1b6da\"],[0.4,\"#fde0ef\"],[0.5,\"#f7f7f7\"],[0.6,\"#e6f5d0\"],[0.7,\"#b8e186\"],[0.8,\"#7fbc41\"],[0.9,\"#4d9221\"],[1,\"#276419\"]]},\"xaxis\":{\"gridcolor\":\"white\",\"linecolor\":\"white\",\"ticks\":\"\",\"title\":{\"standoff\":15},\"zerolinecolor\":\"white\",\"automargin\":true,\"zerolinewidth\":2},\"yaxis\":{\"gridcolor\":\"white\",\"linecolor\":\"white\",\"ticks\":\"\",\"title\":{\"standoff\":15},\"zerolinecolor\":\"white\",\"automargin\":true,\"zerolinewidth\":2},\"scene\":{\"xaxis\":{\"backgroundcolor\":\"#E5ECF6\",\"gridcolor\":\"white\",\"linecolor\":\"white\",\"showbackground\":true,\"ticks\":\"\",\"zerolinecolor\":\"white\",\"gridwidth\":2},\"yaxis\":{\"backgroundcolor\":\"#E5ECF6\",\"gridcolor\":\"white\",\"linecolor\":\"white\",\"showbackground\":true,\"ticks\":\"\",\"zerolinecolor\":\"white\",\"gridwidth\":2},\"zaxis\":{\"backgroundcolor\":\"#E5ECF6\",\"gridcolor\":\"white\",\"linecolor\":\"white\",\"showbackground\":true,\"ticks\":\"\",\"zerolinecolor\":\"white\",\"gridwidth\":2}},\"shapedefaults\":{\"line\":{\"color\":\"#2a3f5f\"}},\"annotationdefaults\":{\"arrowcolor\":\"#2a3f5f\",\"arrowhead\":0,\"arrowwidth\":1},\"geo\":{\"bgcolor\":\"white\",\"landcolor\":\"#E5ECF6\",\"subunitcolor\":\"white\",\"showland\":true,\"showlakes\":true,\"lakecolor\":\"white\"},\"title\":{\"x\":0.05},\"mapbox\":{\"style\":\"light\"}}},\"xaxis\":{\"anchor\":\"y\",\"domain\":[0.0,1.0],\"title\":{\"text\":\"Year\"},\"categoryorder\":\"array\",\"categoryarray\":[],\"tickmode\":\"linear\",\"dtick\":1},\"yaxis\":{\"anchor\":\"x\",\"domain\":[0.0,1.0],\"title\":{\"text\":\"sum of Salary Amount\"}},\"legend\":{\"tracegroupgap\":0},\"title\":{\"text\":\"Yearly Salary Counts\"},\"barmode\":\"relative\",\"bargap\":0.8},                        {\"responsive\": true}                    ).then(function(){\n",
       "                            \n",
       "var gd = document.getElementById('baf15fd6-c28b-4127-8238-e4cf5e398ec2');\n",
       "var x = new MutationObserver(function (mutations, observer) {{\n",
       "        var display = window.getComputedStyle(gd).display;\n",
       "        if (!display || display === 'none') {{\n",
       "            console.log([gd, 'removed!']);\n",
       "            Plotly.purge(gd);\n",
       "            observer.disconnect();\n",
       "        }}\n",
       "}});\n",
       "\n",
       "// Listen for the removal of the full notebook cells\n",
       "var notebookContainer = gd.closest('#notebook-container');\n",
       "if (notebookContainer) {{\n",
       "    x.observe(notebookContainer, {childList: true});\n",
       "}}\n",
       "\n",
       "// Listen for the clearing of the current output cell\n",
       "var outputEl = gd.closest('.output');\n",
       "if (outputEl) {{\n",
       "    x.observe(outputEl, {childList: true});\n",
       "}}\n",
       "\n",
       "                        })                };                });            </script>        </div>"
      ]
     },
     "metadata": {},
     "output_type": "display_data"
    }
   ],
   "source": [
    "import plotly.express as px\n",
    "\n",
    "fig = px.histogram(\n",
    "    yearly_count_filtered, \n",
    "    x=\"fiscal_year\", \n",
    "    y=\"base_salary\", \n",
    "    color=\"fiscal_year\",\n",
    "    title=\"Yearly Salary Counts\", \n",
    "    labels={\"fiscal_year\": \"Year\", \"base_salary\": \"Salary Amount\"}\n",
    ")\n",
    "\n",
    "fig.update_xaxes(tickmode='linear', dtick=1)\n",
    "\n",
    "fig.update_layout(bargap=0.8)"
   ]
  },
  {
   "cell_type": "markdown",
   "id": "fd499e00-9ef2-44fe-82fa-5e3913227f07",
   "metadata": {},
   "source": [
    "Using the Python standard library "
   ]
  },
  {
   "cell_type": "code",
   "execution_count": 5,
   "id": "a71c3a6f-ca03-4363-90c2-b9aac84b7bbb",
   "metadata": {
    "scrolled": true
   },
   "outputs": [
    {
     "data": {
      "text/plain": [
       "[86005.0,\n",
       " 86005.0,\n",
       " 86005.0,\n",
       " 86005.0,\n",
       " 86005.0,\n",
       " 86005.0,\n",
       " 94415.0,\n",
       " 86005.0,\n",
       " 86005.0,\n",
       " 67676.0,\n",
       " 236088.0,\n",
       " 86005.0,\n",
       " 83791.0,\n",
       " 83791.0,\n",
       " 73403.0,\n",
       " 62306.0,\n",
       " 73049.0,\n",
       " 66603.0,\n",
       " 67677.0,\n",
       " 68751.0,\n",
       " 71231.0,\n",
       " 73317.0,\n",
       " 67980.0,\n",
       " 73049.0,\n",
       " 75197.0,\n",
       " 59083.0,\n",
       " 66603.0,\n",
       " 66603.0,\n",
       " 59740.0,\n",
       " 73049.0,\n",
       " 66950.0,\n",
       " 62310.0,\n",
       " 71000.0,\n",
       " 60157.0,\n",
       " 67677.0,\n",
       " 73049.0,\n",
       " 96717.0,\n",
       " 66950.0,\n",
       " 66603.0,\n",
       " 62306.0,\n",
       " 66950.0,\n",
       " 66950.0,\n",
       " 66603.0,\n",
       " 83791.0,\n",
       " 62306.0,\n",
       " 86005.0,\n",
       " 67676.0,\n",
       " 72100.0,\n",
       " 62306.0,\n",
       " 62306.0,\n",
       " 53712.0,\n",
       " 48601.0,\n",
       " 96717.0,\n",
       " 74160.0,\n",
       " 59740.0,\n",
       " 63860.0,\n",
       " 70600.0,\n",
       " 118306.0,\n",
       " 83791.0,\n",
       " 64454.0,\n",
       " 62306.0,\n",
       " 76220.0,\n",
       " 62306.0,\n",
       " 66603.0,\n",
       " 63860.0,\n",
       " 90000.0,\n",
       " 68750.0,\n",
       " 62377.0,\n",
       " 75197.0,\n",
       " 63860.0,\n",
       " 70900.0,\n",
       " 66603.0,\n",
       " 68751.0,\n",
       " 37.22,\n",
       " 35.45,\n",
       " 96717.0,\n",
       " 59740.0,\n",
       " 59740.0,\n",
       " 75197.0,\n",
       " 64000.0,\n",
       " 184236.0,\n",
       " 58000.0,\n",
       " 66603.0,\n",
       " 66603.0,\n",
       " 66603.0,\n",
       " 90737.0,\n",
       " 62000.0,\n",
       " 91311.0,\n",
       " 151131.0,\n",
       " 28.84,\n",
       " 62306.0,\n",
       " 93900.0,\n",
       " 60156.0,\n",
       " 82.0,\n",
       " 88463.0,\n",
       " 75197.0,\n",
       " 63860.0,\n",
       " 66603.0,\n",
       " 100000.0,\n",
       " 44290.0,\n",
       " 90236.0,\n",
       " 73007.0,\n",
       " 90000.0,\n",
       " 136887.0,\n",
       " 65000.0,\n",
       " 85000.0,\n",
       " 83500.0,\n",
       " 77344.0,\n",
       " 60491.0,\n",
       " 73371.0,\n",
       " 224538.0,\n",
       " 60491.0,\n",
       " 93900.0,\n",
       " 81350.0,\n",
       " 83500.0,\n",
       " 85399.0,\n",
       " 64663.0,\n",
       " 85490.0,\n",
       " 70921.0,\n",
       " 45.7,\n",
       " 88651.0,\n",
       " 67238.0,\n",
       " 68835.0,\n",
       " 222924.0,\n",
       " 243171.0,\n",
       " 237407.0,\n",
       " 222924.0,\n",
       " 222924.0,\n",
       " 222924.0,\n",
       " 222924.0,\n",
       " 196950.0,\n",
       " 198734.0,\n",
       " 195978.0,\n",
       " 196950.0,\n",
       " 195826.0,\n",
       " 196950.0,\n",
       " 196950.0,\n",
       " 196950.0,\n",
       " 185886.0,\n",
       " 185886.0,\n",
       " 185886.0,\n",
       " 185843.0,\n",
       " 216431.0,\n",
       " 182304.0,\n",
       " 182304.0,\n",
       " 176785.0,\n",
       " 173216.0,\n",
       " 174070.0,\n",
       " 174070.0,\n",
       " 222924.0,\n",
       " 174070.0,\n",
       " 174070.0,\n",
       " 174070.0,\n",
       " 164358.0,\n",
       " 159890.0,\n",
       " 159890.0,\n",
       " 157764.0,\n",
       " 154072.0,\n",
       " 159890.0,\n",
       " 153361.0,\n",
       " 151270.0,\n",
       " 154072.0,\n",
       " 150839.0,\n",
       " 150839.0,\n",
       " 150839.0,\n",
       " 150839.0,\n",
       " 144534.0,\n",
       " 141766.0,\n",
       " 141766.0,\n",
       " 142001.0,\n",
       " 141766.0,\n",
       " 140899.0,\n",
       " 141766.0,\n",
       " 150839.0,\n",
       " 141766.0,\n",
       " 139652.0,\n",
       " 137601.0,\n",
       " 137601.0,\n",
       " 137601.0,\n",
       " 137601.0,\n",
       " 141766.0,\n",
       " 150839.0,\n",
       " 131121.0,\n",
       " 130592.0,\n",
       " 130594.0,\n",
       " 127203.0,\n",
       " 126080.0,\n",
       " 124878.0,\n",
       " 129082.0,\n",
       " 124878.0,\n",
       " 124878.0,\n",
       " 124878.0,\n",
       " 124531.0,\n",
       " 124878.0,\n",
       " 137601.0,\n",
       " 129598.0,\n",
       " 124878.0,\n",
       " 122768.0,\n",
       " 141766.0,\n",
       " 121120.0,\n",
       " 121120.0,\n",
       " 120974.0,\n",
       " 112700.0,\n",
       " 124878.0,\n",
       " 135820.0,\n",
       " 117810.0,\n",
       " 115820.0,\n",
       " 115822.0,\n",
       " 115820.0,\n",
       " 115819.0,\n",
       " 113882.0,\n",
       " 117810.0,\n",
       " 113326.0,\n",
       " 112148.0,\n",
       " 112735.0,\n",
       " 112148.0,\n",
       " 112148.0,\n",
       " 115820.0,\n",
       " 111121.0,\n",
       " 117810.0,\n",
       " 115820.0,\n",
       " 115820.0,\n",
       " 111948.0,\n",
       " 107242.0,\n",
       " 107242.0,\n",
       " 216431.0,\n",
       " 107242.0,\n",
       " 107242.0,\n",
       " 107242.0,\n",
       " 107242.0,\n",
       " 107242.0,\n",
       " 107242.0,\n",
       " 117810.0,\n",
       " 107242.0,\n",
       " 115820.0,\n",
       " 107242.0,\n",
       " 145230.0,\n",
       " 107242.0,\n",
       " 99918.0,\n",
       " 98388.0,\n",
       " 98388.0,\n",
       " 98388.0,\n",
       " 98388.0,\n",
       " 98388.0,\n",
       " 98388.0,\n",
       " 98388.0,\n",
       " 98388.0,\n",
       " 98388.0,\n",
       " 98388.0,\n",
       " 98388.0,\n",
       " 98388.0,\n",
       " 98388.0,\n",
       " 98388.0,\n",
       " 98388.0,\n",
       " 98388.0,\n",
       " 98388.0,\n",
       " 98388.0,\n",
       " 99591.0,\n",
       " 98388.0,\n",
       " 98388.0,\n",
       " 98388.0,\n",
       " 86575.0,\n",
       " 98388.0,\n",
       " 98388.0,\n",
       " 79428.0,\n",
       " 98388.0,\n",
       " 91311.0,\n",
       " 98388.0,\n",
       " 91310.0,\n",
       " 98388.0,\n",
       " 98388.0,\n",
       " 98388.0,\n",
       " 89708.0,\n",
       " 91770.0,\n",
       " 98388.0,\n",
       " 91770.0,\n",
       " 107242.0,\n",
       " 91770.0,\n",
       " 98388.0,\n",
       " 83059.0,\n",
       " 79428.0,\n",
       " 66.29,\n",
       " 79428.0,\n",
       " 98388.0,\n",
       " 86885.0,\n",
       " 86575.0,\n",
       " 86575.0,\n",
       " 86575.0,\n",
       " 98388.0,\n",
       " 82234.0,\n",
       " 60.46,\n",
       " 86575.0,\n",
       " 86575.0,\n",
       " 86575.0,\n",
       " 86575.0,\n",
       " 86575.0,\n",
       " 85853.0,\n",
       " 86575.0,\n",
       " 86575.0,\n",
       " 86444.0,\n",
       " 79428.0,\n",
       " 79428.0,\n",
       " 74507.0,\n",
       " 98388.0,\n",
       " 74507.0,\n",
       " 70291.0,\n",
       " 79428.0,\n",
       " 86575.0,\n",
       " 86575.0,\n",
       " 79428.0,\n",
       " 81938.0,\n",
       " 86575.0,\n",
       " 86575.0,\n",
       " 83059.0,\n",
       " 86575.0,\n",
       " 86575.0,\n",
       " 79428.0,\n",
       " 70291.0,\n",
       " 86575.0,\n",
       " 79428.0,\n",
       " 117810.0,\n",
       " 71805.0,\n",
       " 79428.0,\n",
       " 79428.0,\n",
       " 86575.0,\n",
       " 141766.0,\n",
       " 79428.0,\n",
       " 79428.0,\n",
       " 79428.0,\n",
       " 79428.0,\n",
       " 79428.0,\n",
       " 79428.0,\n",
       " 79428.0,\n",
       " 79428.0,\n",
       " 79428.0,\n",
       " 79428.0,\n",
       " 98388.0,\n",
       " 79428.0,\n",
       " 79428.0,\n",
       " 79428.0,\n",
       " 79428.0,\n",
       " 79428.0,\n",
       " 79428.0,\n",
       " 77918.0,\n",
       " 77916.0,\n",
       " 79428.0,\n",
       " 79428.0,\n",
       " 79428.0,\n",
       " 74507.0,\n",
       " 79428.0,\n",
       " 79428.0,\n",
       " 137601.0,\n",
       " 70291.0,\n",
       " 79428.0,\n",
       " 79428.0,\n",
       " 79428.0,\n",
       " 79428.0,\n",
       " 79428.0,\n",
       " 79428.0,\n",
       " 79428.0,\n",
       " 70291.0,\n",
       " 79428.0,\n",
       " 79428.0,\n",
       " 74507.0,\n",
       " 79428.0,\n",
       " 79428.0,\n",
       " 74507.0,\n",
       " 74507.0,\n",
       " 62480.0,\n",
       " 74507.0,\n",
       " 70291.0,\n",
       " 74507.0,\n",
       " 70291.0,\n",
       " 73507.0,\n",
       " 73507.0,\n",
       " 74507.0,\n",
       " 74507.0,\n",
       " 74507.0,\n",
       " 70291.0,\n",
       " 74507.0,\n",
       " 72725.0,\n",
       " 70291.0,\n",
       " 70291.0,\n",
       " 79428.0,\n",
       " 71515.0,\n",
       " 74507.0,\n",
       " 70291.0,\n",
       " 70291.0,\n",
       " 70291.0,\n",
       " 70291.0,\n",
       " 74507.0,\n",
       " 70291.0,\n",
       " 71805.0,\n",
       " 70291.0,\n",
       " 107242.0,\n",
       " 70291.0,\n",
       " 70291.0,\n",
       " 70291.0,\n",
       " 70291.0,\n",
       " 70291.0,\n",
       " 70291.0,\n",
       " 70291.0,\n",
       " 70291.0,\n",
       " 70291.0,\n",
       " 70291.0,\n",
       " 70291.0,\n",
       " 70291.0,\n",
       " 70291.0,\n",
       " 70291.0,\n",
       " 66230.0,\n",
       " 70291.0,\n",
       " 70291.0,\n",
       " 66000.0,\n",
       " 70291.0,\n",
       " 70291.0,\n",
       " 66230.0,\n",
       " 70291.0,\n",
       " 74507.0,\n",
       " 98388.0,\n",
       " 70291.0,\n",
       " 70291.0,\n",
       " 70291.0,\n",
       " 66230.0,\n",
       " 66230.0,\n",
       " 62480.0,\n",
       " 70291.0,\n",
       " 70291.0,\n",
       " 62480.0,\n",
       " 70291.0,\n",
       " 64454.0,\n",
       " 70291.0,\n",
       " 70291.0,\n",
       " 66230.0,\n",
       " 70291.0,\n",
       " 70291.0,\n",
       " 8.75,\n",
       " 62480.0,\n",
       " 62480.0,\n",
       " 66186.0,\n",
       " 62480.0,\n",
       " 62480.0,\n",
       " 62480.0,\n",
       " 62480.0,\n",
       " 62480.0,\n",
       " 62480.0,\n",
       " 62480.0,\n",
       " 66000.0,\n",
       " 62480.0,\n",
       " 70291.0,\n",
       " 66230.0,\n",
       " 62480.0,\n",
       " 74507.0,\n",
       " 173216.0,\n",
       " 62480.0,\n",
       " 62480.0,\n",
       " 52.94,\n",
       " 62480.0,\n",
       " 66230.0,\n",
       " 59873.0,\n",
       " 104118.0,\n",
       " 62480.0,\n",
       " 86575.0,\n",
       " 70291.0,\n",
       " 62480.0,\n",
       " 62480.0,\n",
       " 62480.0,\n",
       " 59083.0,\n",
       " 79428.0,\n",
       " 62480.0,\n",
       " 57490.0,\n",
       " 52480.0,\n",
       " 58729.0,\n",
       " 62480.0,\n",
       " 62480.0,\n",
       " 52126.0,\n",
       " 62480.0,\n",
       " 52480.0,\n",
       " 62480.0,\n",
       " 62480.0,\n",
       " 62480.0,\n",
       " 52480.0,\n",
       " 62480.0,\n",
       " 49.02,\n",
       " 62480.0,\n",
       " 79428.0,\n",
       " 86575.0,\n",
       " 52480.0,\n",
       " 62480.0,\n",
       " 55000.0,\n",
       " 52480.0,\n",
       " 52480.0,\n",
       " 52480.0,\n",
       " 52480.0,\n",
       " 52480.0,\n",
       " 54000.0,\n",
       " 52480.0,\n",
       " 79428.0,\n",
       " 52480.0,\n",
       " 52480.0,\n",
       " 52480.0,\n",
       " 62480.0,\n",
       " 79428.0,\n",
       " 79428.0,\n",
       " 46856.0,\n",
       " 70291.0,\n",
       " 62480.0,\n",
       " 46856.0,\n",
       " 79428.0,\n",
       " 46856.0,\n",
       " 79428.0,\n",
       " 86575.0,\n",
       " 86575.0,\n",
       " 98388.0,\n",
       " 66230.0,\n",
       " 66230.0,\n",
       " 42000.0,\n",
       " 62480.0,\n",
       " 70291.0,\n",
       " 46856.0,\n",
       " 46856.0,\n",
       " 62480.0,\n",
       " 46856.0,\n",
       " 62480.0,\n",
       " 46856.0,\n",
       " 74507.0,\n",
       " 62480.0,\n",
       " 66230.0,\n",
       " 107242.0,\n",
       " 78233.0,\n",
       " 52480.0,\n",
       " 46856.0,\n",
       " 86575.0,\n",
       " 107242.0,\n",
       " 62480.0,\n",
       " 104118.0,\n",
       " 104118.0,\n",
       " 66230.0,\n",
       " 171569.0,\n",
       " 62480.0,\n",
       " 62480.0,\n",
       " 46856.0,\n",
       " 79428.0,\n",
       " 46856.0,\n",
       " 70291.0,\n",
       " 79428.0,\n",
       " 66230.0,\n",
       " 8.75,\n",
       " 62480.0,\n",
       " 62480.0,\n",
       " 62480.0,\n",
       " 84053.0,\n",
       " 62480.0,\n",
       " 66230.0,\n",
       " 66230.0,\n",
       " 86575.0,\n",
       " 46856.0,\n",
       " 98388.0,\n",
       " 46856.0,\n",
       " 46856.0,\n",
       " 68244.0,\n",
       " 62480.0,\n",
       " 98388.0,\n",
       " 77115.0,\n",
       " 70291.0,\n",
       " 66230.0,\n",
       " 52480.0,\n",
       " 46856.0,\n",
       " 70291.0,\n",
       " 60660.0,\n",
       " 46856.0,\n",
       " 104118.0,\n",
       " 121241.0,\n",
       " 15.75,\n",
       " 46856.0,\n",
       " 62480.0,\n",
       " 62480.0,\n",
       " 62480.0,\n",
       " 52480.0,\n",
       " 15.75,\n",
       " 95522.0,\n",
       " 212000.0,\n",
       " 62480.0,\n",
       " 80140.0,\n",
       " 51.83,\n",
       " 8.75,\n",
       " 77115.0,\n",
       " 15.75,\n",
       " 68244.0,\n",
       " 114379.0,\n",
       " 15.75,\n",
       " 72337.0,\n",
       " 62480.0,\n",
       " 15.75,\n",
       " 15.75,\n",
       " 73403.0,\n",
       " 15.75,\n",
       " 18.0,\n",
       " 18.0,\n",
       " 18.0,\n",
       " 15.75,\n",
       " 15.75,\n",
       " 15.75,\n",
       " 15.75,\n",
       " 15.75,\n",
       " 15.75,\n",
       " 227786.0,\n",
       " 193500.0,\n",
       " 179040.0,\n",
       " 163243.0,\n",
       " 161628.0,\n",
       " 156958.0,\n",
       " 147708.0,\n",
       " 147708.0,\n",
       " 146010.0,\n",
       " 120507.0,\n",
       " 125681.0,\n",
       " 125681.0,\n",
       " 125681.0,\n",
       " 107129.0,\n",
       " 102326.0,\n",
       " 116820.0,\n",
       " 107129.0,\n",
       " 227786.0,\n",
       " 107129.0,\n",
       " 107129.0,\n",
       " 107129.0,\n",
       " 107129.0,\n",
       " 107129.0,\n",
       " 107129.0,\n",
       " 104053.0,\n",
       " 118450.0,\n",
       " 96224.0,\n",
       " 81272.0,\n",
       " 80892.0,\n",
       " 77889.0,\n",
       " 82400.0,\n",
       " 93519.0,\n",
       " 93519.0,\n",
       " 93519.0,\n",
       " 84460.0,\n",
       " 82000.0,\n",
       " 76734.0,\n",
       " 74266.0,\n",
       " 68481.0,\n",
       " 80638.0,\n",
       " 67323.0,\n",
       " 63709.0,\n",
       " 62820.0,\n",
       " 63000.0,\n",
       " 50848.0,\n",
       " 38.46,\n",
       " 25677.0,\n",
       " 25677.0,\n",
       " 25677.0,\n",
       " 25677.0,\n",
       " 16.0,\n",
       " 83000.0,\n",
       " 83000.0,\n",
       " 15.5,\n",
       " 15.5,\n",
       " 25677.0,\n",
       " 15.5,\n",
       " 15.5,\n",
       " 15.5,\n",
       " 16.0,\n",
       " 15.5,\n",
       " 15.5,\n",
       " 15.75,\n",
       " 38.46,\n",
       " 15.5,\n",
       " 15.5,\n",
       " 15.5,\n",
       " 52184.0,\n",
       " 243272.0,\n",
       " 225771.0,\n",
       " 225771.0,\n",
       " 227786.0,\n",
       " 205248.0,\n",
       " 205248.0,\n",
       " 205248.0,\n",
       " 198633.0,\n",
       " 197822.0,\n",
       " 197477.0,\n",
       " 205248.0,\n",
       " 189147.0,\n",
       " 187937.0,\n",
       " 185869.0,\n",
       " 185869.0,\n",
       " 185019.0,\n",
       " 185019.0,\n",
       " 185019.0,\n",
       " 185019.0,\n",
       " 185019.0,\n",
       " 185019.0,\n",
       " 185019.0,\n",
       " 185019.0,\n",
       " 185019.0,\n",
       " 185019.0,\n",
       " 185019.0,\n",
       " 185019.0,\n",
       " 185019.0,\n",
       " 185019.0,\n",
       " 180435.0,\n",
       " 185019.0,\n",
       " 175638.0,\n",
       " 169027.0,\n",
       " 169027.0,\n",
       " 169027.0,\n",
       " 169245.0,\n",
       " 169580.0,\n",
       " 169027.0,\n",
       " 169027.0,\n",
       " 169027.0,\n",
       " 169027.0,\n",
       " 169027.0,\n",
       " 169027.0,\n",
       " 169027.0,\n",
       " 169027.0,\n",
       " 169027.0,\n",
       " 169027.0,\n",
       " 169027.0,\n",
       " 169259.0,\n",
       " 169258.0,\n",
       " 169245.0,\n",
       " 169245.0,\n",
       " 169245.0,\n",
       " 169191.0,\n",
       " 169027.0,\n",
       " 169027.0,\n",
       " 169027.0,\n",
       " 169027.0,\n",
       " 169027.0,\n",
       " 169027.0,\n",
       " 169027.0,\n",
       " 169027.0,\n",
       " 169027.0,\n",
       " 169027.0,\n",
       " 169027.0,\n",
       " 169027.0,\n",
       " 164104.0,\n",
       " 169027.0,\n",
       " 164104.0,\n",
       " 164104.0,\n",
       " 164104.0,\n",
       " 164104.0,\n",
       " 164104.0,\n",
       " 164104.0,\n",
       " 164104.0,\n",
       " 164104.0,\n",
       " 164104.0,\n",
       " 164104.0,\n",
       " 164104.0,\n",
       " 164104.0,\n",
       " 160989.0,\n",
       " 164104.0,\n",
       " 158885.0,\n",
       " 159142.0,\n",
       " 159022.0,\n",
       " 157477.0,\n",
       " 157477.0,\n",
       " 243171.0,\n",
       " 164104.0,\n",
       " 164104.0,\n",
       " 153666.0,\n",
       " 164104.0,\n",
       " 153666.0,\n",
       " 153666.0,\n",
       " 153666.0,\n",
       " 153666.0,\n",
       " 153666.0,\n",
       " 153666.0,\n",
       " 153666.0,\n",
       " 154399.0,\n",
       " 154399.0,\n",
       " 153666.0,\n",
       " 153666.0,\n",
       " 153666.0,\n",
       " 153666.0,\n",
       " 153666.0,\n",
       " 153666.0,\n",
       " 153667.0,\n",
       " 153666.0,\n",
       " 153666.0,\n",
       " 153666.0,\n",
       " 153666.0,\n",
       " 153666.0,\n",
       " 153666.0,\n",
       " 153666.0,\n",
       " 153666.0,\n",
       " 153666.0,\n",
       " 153666.0,\n",
       " 153666.0,\n",
       " 153666.0,\n",
       " 153666.0,\n",
       " 153666.0,\n",
       " 153666.0,\n",
       " 153666.0,\n",
       " 153666.0,\n",
       " 153666.0,\n",
       " 153666.0,\n",
       " 153666.0,\n",
       " 153666.0,\n",
       " 153666.0,\n",
       " 153666.0,\n",
       " 153666.0,\n",
       " 153666.0,\n",
       " 153666.0,\n",
       " 153666.0,\n",
       " 153666.0,\n",
       " 153666.0,\n",
       " 153666.0,\n",
       " 153666.0,\n",
       " 153666.0,\n",
       " 153666.0,\n",
       " 153666.0,\n",
       " 164104.0,\n",
       " 153667.0,\n",
       " 153667.0,\n",
       " 153667.0,\n",
       " 153667.0,\n",
       " 153666.0,\n",
       " 153666.0,\n",
       " 153666.0,\n",
       " 153666.0,\n",
       " 153666.0,\n",
       " 153666.0,\n",
       " 153666.0,\n",
       " 153666.0,\n",
       " 153666.0,\n",
       " 153666.0,\n",
       " 153666.0,\n",
       " 153666.0,\n",
       " 153666.0,\n",
       " 153666.0,\n",
       " 153666.0,\n",
       " 153666.0,\n",
       " 153666.0,\n",
       " 153666.0,\n",
       " 153666.0,\n",
       " 153666.0,\n",
       " 153666.0,\n",
       " 153666.0,\n",
       " 153666.0,\n",
       " 153666.0,\n",
       " 153666.0,\n",
       " 153666.0,\n",
       " 153666.0,\n",
       " 153666.0,\n",
       " 153666.0,\n",
       " 153666.0,\n",
       " 153666.0,\n",
       " 153666.0,\n",
       " 153666.0,\n",
       " 153666.0,\n",
       " 153666.0,\n",
       " 153666.0,\n",
       " 153666.0,\n",
       " 153666.0,\n",
       " 153666.0,\n",
       " 153666.0,\n",
       " 153666.0,\n",
       " 153666.0,\n",
       " 153666.0,\n",
       " 153666.0,\n",
       " 153666.0,\n",
       " 153666.0,\n",
       " 153666.0,\n",
       " 153666.0,\n",
       " 153666.0,\n",
       " 153666.0,\n",
       " 153666.0,\n",
       " 153666.0,\n",
       " 153666.0,\n",
       " 153666.0,\n",
       " 136975.0,\n",
       " 153666.0,\n",
       " 153666.0,\n",
       " 153666.0,\n",
       " 149988.0,\n",
       " 147774.0,\n",
       " 149153.0,\n",
       " 125053.0,\n",
       " 153666.0,\n",
       " 143841.0,\n",
       " 143446.0,\n",
       " 142057.0,\n",
       " 142057.0,\n",
       " 142057.0,\n",
       " 142057.0,\n",
       " 142057.0,\n",
       " 142057.0,\n",
       " 142057.0,\n",
       " 142057.0,\n",
       " 142058.0,\n",
       " 142058.0,\n",
       " 169027.0,\n",
       " 142057.0,\n",
       " 142057.0,\n",
       " 142057.0,\n",
       " 142057.0,\n",
       " 142057.0,\n",
       " 142057.0,\n",
       " 142057.0,\n",
       " 142057.0,\n",
       " 142057.0,\n",
       " 142057.0,\n",
       " 142057.0,\n",
       " 142057.0,\n",
       " 142057.0,\n",
       " 142057.0,\n",
       " 142057.0,\n",
       " 142195.0,\n",
       " 142057.0,\n",
       " 142057.0,\n",
       " 142057.0,\n",
       " 142057.0,\n",
       " 142057.0,\n",
       " 142057.0,\n",
       " 142057.0,\n",
       " 142057.0,\n",
       " 142057.0,\n",
       " 142057.0,\n",
       " 142057.0,\n",
       " 142057.0,\n",
       " 142057.0,\n",
       " 142057.0,\n",
       " 142057.0,\n",
       " 142057.0,\n",
       " 142057.0,\n",
       " 142057.0,\n",
       " 142057.0,\n",
       " 142057.0,\n",
       " 142057.0,\n",
       " 142057.0,\n",
       " 142057.0,\n",
       " 142057.0,\n",
       " 142057.0,\n",
       " 169027.0,\n",
       " 142057.0,\n",
       " 142057.0,\n",
       " 142057.0,\n",
       " 142057.0,\n",
       " 142057.0,\n",
       " 142057.0,\n",
       " 133726.0,\n",
       " 142057.0,\n",
       " 139652.0,\n",
       " 139652.0,\n",
       " 142057.0,\n",
       " 141360.0,\n",
       " 153666.0,\n",
       " 138396.0,\n",
       " 153666.0,\n",
       " 138396.0,\n",
       " 125684.0,\n",
       " 133040.0,\n",
       " 133040.0,\n",
       " 133040.0,\n",
       " 133920.0,\n",
       " 142057.0,\n",
       " 133040.0,\n",
       " 133040.0,\n",
       " 133920.0,\n",
       " 133040.0,\n",
       " 142057.0,\n",
       " 133040.0,\n",
       " 133040.0,\n",
       " 133040.0,\n",
       " 133040.0,\n",
       " 133040.0,\n",
       " 133040.0,\n",
       " 132952.0,\n",
       " 133040.0,\n",
       " 133040.0,\n",
       " 133040.0,\n",
       " 133040.0,\n",
       " 133040.0,\n",
       " 133040.0,\n",
       " 133040.0,\n",
       " 133040.0,\n",
       " 133040.0,\n",
       " 133040.0,\n",
       " 133040.0,\n",
       " 133040.0,\n",
       " 133040.0,\n",
       " 133040.0,\n",
       " 153666.0,\n",
       " 133040.0,\n",
       " 133040.0,\n",
       " 133040.0,\n",
       " 133040.0,\n",
       " 133040.0,\n",
       " 133040.0,\n",
       " 133040.0,\n",
       " 133040.0,\n",
       " 133040.0,\n",
       " 133040.0,\n",
       " 133040.0,\n",
       " 133040.0,\n",
       " 133040.0,\n",
       " ...]"
      ]
     },
     "execution_count": 5,
     "metadata": {},
     "output_type": "execute_result"
    }
   ],
   "source": [
    "import csv\n",
    "\n",
    "salary=[]\n",
    "with open(\"NYC_payroll_2024.csv\") as file:\n",
    "    reader = csv.DictReader(file)\n",
    "    for row in reader:\n",
    "        base_salary = float(row[\"Base Salary\"].replace(\",\", \"\").strip())\n",
    "        salary.append(base_salary)\n",
    "\n",
    "salary"
   ]
  },
  {
   "cell_type": "code",
   "execution_count": 6,
   "id": "bfa03745-636e-416d-955d-67f69ee34bbd",
   "metadata": {},
   "outputs": [
    {
     "data": {
      "text/plain": [
       "52513.43312758744"
      ]
     },
     "execution_count": 6,
     "metadata": {},
     "output_type": "execute_result"
    }
   ],
   "source": [
    "mean_salary = sum(salary) / len(salary) if salary else 0\n",
    "mean_salary"
   ]
  },
  {
   "cell_type": "code",
   "execution_count": 7,
   "id": "df6ac888-c2db-452d-aa23-39e6493e0ab2",
   "metadata": {},
   "outputs": [
    {
     "data": {
      "text/plain": [
       "50207.0"
      ]
     },
     "execution_count": 7,
     "metadata": {},
     "output_type": "execute_result"
    }
   ],
   "source": [
    "sorted_salary = sorted(salary)\n",
    "n = len(sorted_salary)\n",
    "median_salary = (sorted_salary[n // 2] if n % 2 == 1 else\n",
    "                 (sorted_salary[n // 2 - 1] + sorted_salary[n // 2]) / 2) if n > 0 else 0\n",
    "median_salary"
   ]
  },
  {
   "cell_type": "code",
   "execution_count": 8,
   "id": "12b57ba9-108e-49df-80fa-c8c31ca368ce",
   "metadata": {},
   "outputs": [
    {
     "data": {
      "text/plain": [
       "33.18"
      ]
     },
     "execution_count": 8,
     "metadata": {},
     "output_type": "execute_result"
    }
   ],
   "source": [
    "salary_counts = {}\n",
    "for salary in sorted_salary:\n",
    "    if salary in salary_counts:\n",
    "        salary_counts[salary] += 1\n",
    "    else:\n",
    "        salary_counts[salary] = 1\n",
    "\n",
    "max_count = max(salary_counts.values())\n",
    "for val, count in salary_counts.items():\n",
    "    if count == max_count:\n",
    "        mode_salary = val\n",
    "\n",
    "mode_salary"
   ]
  },
  {
   "cell_type": "code",
   "execution_count": 9,
   "id": "31c94af9-57db-4d52-af7a-708ea0e1b574",
   "metadata": {},
   "outputs": [
    {
     "name": "stdout",
     "output_type": "stream",
     "text": [
      "{2020: 27574295079.50714, 2016: 784713.409999999, 2022: 167719536.99, 2021: 27317851866.834507, 2015: 3621945.0699999966}\n"
     ]
    }
   ],
   "source": [
    "import csv\n",
    "\n",
    "def calculate_yearly_salary(file_path):\n",
    "    yearly_salary = {}\n",
    "    with open(file_path) as file:\n",
    "        reader = csv.DictReader(file)\n",
    "        for row in reader:\n",
    "            year = int(row[\"Fiscal Year\"].strip())\n",
    "            try:\n",
    "                base_salary = float(row[\"Base Salary\"].replace(\",\", \"\").strip())\n",
    "            except ValueError:\n",
    "                base_salary = 0\n",
    "\n",
    "            if year not in yearly_salary:\n",
    "                yearly_salary[year] = 0\n",
    "            yearly_salary[year] += base_salary\n",
    "\n",
    "    return yearly_salary\n",
    "\n",
    "yearly_salary_dict = calculate_yearly_salary(\"NYC_payroll_2024.csv\")\n",
    "print(yearly_salary_dict)"
   ]
  },
  {
   "cell_type": "code",
   "execution_count": 11,
   "id": "611f2236-8031-4859-9ecc-35b76e9ce8d6",
   "metadata": {},
   "outputs": [],
   "source": [
    "max_length = 20\n",
    "max_sum = max(yearly_salary_dict.values())"
   ]
  },
  {
   "cell_type": "code",
   "execution_count": 14,
   "id": "10ac75a1-bb53-4370-8c01-e5a463a63caf",
   "metadata": {},
   "outputs": [
    {
     "name": "stdout",
     "output_type": "stream",
     "text": [
      "2020: ******************** (27574295079.51)\n",
      "2016: * (784713.41)\n",
      "2022: * (167719536.99)\n",
      "2021: ******************* (27317851866.83)\n",
      "2015: * (3621945.07)\n"
     ]
    }
   ],
   "source": [
    "for year, base_salary in yearly_salary_dict.items():  \n",
    "    bar_length = int((base_salary / max_sum) * max_length)\n",
    "    bar_length = max(bar_length, 1)  \n",
    "    bar = \"*\" * bar_length  \n",
    "    print(f\"{year}: {bar} ({base_salary:.2f})\") "
   ]
  },
  {
   "cell_type": "code",
   "execution_count": null,
   "id": "e11c0278-2e0b-4a7f-a54e-0169769d790f",
   "metadata": {},
   "outputs": [],
   "source": []
  }
 ],
 "metadata": {
  "kernelspec": {
   "display_name": "base",
   "language": "python",
   "name": "python3"
  },
  "language_info": {
   "codemirror_mode": {
    "name": "ipython",
    "version": 3
   },
   "file_extension": ".py",
   "mimetype": "text/x-python",
   "name": "python",
   "nbconvert_exporter": "python",
   "pygments_lexer": "ipython3",
   "version": "3.12.2"
  }
 },
 "nbformat": 4,
 "nbformat_minor": 5
}
