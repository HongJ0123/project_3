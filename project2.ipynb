{
 "cells": [
  {
   "cell_type": "markdown",
   "id": "5f19c4f1",
   "metadata": {},
   "source": [
    "# Project 2"
   ]
  },
  {
   "cell_type": "code",
   "execution_count": 139,
   "id": "fa5c8eeb-a66a-4a7d-b41e-9850b439a638",
   "metadata": {},
   "outputs": [],
   "source": [
    "import pandas as pd\n",
    "import plotly.express as px\n",
    "\n",
    "import plotly.io as pio\n",
    "\n",
    "pio.renderers.default = \"vscode+jupyterlab+notebook_connected\""
   ]
  },
  {
   "cell_type": "code",
   "execution_count": 140,
   "id": "5932af94-3472-41e0-9550-2c4c02253aab",
   "metadata": {
    "scrolled": true
   },
   "outputs": [
    {
     "data": {
      "text/html": [
       "<div>\n",
       "<style scoped>\n",
       "    .dataframe tbody tr th:only-of-type {\n",
       "        vertical-align: middle;\n",
       "    }\n",
       "\n",
       "    .dataframe tbody tr th {\n",
       "        vertical-align: top;\n",
       "    }\n",
       "\n",
       "    .dataframe thead th {\n",
       "        text-align: right;\n",
       "    }\n",
       "</style>\n",
       "<table border=\"1\" class=\"dataframe\">\n",
       "  <thead>\n",
       "    <tr style=\"text-align: right;\">\n",
       "      <th></th>\n",
       "      <th>plate</th>\n",
       "      <th>state</th>\n",
       "      <th>license_type</th>\n",
       "      <th>summons_number</th>\n",
       "      <th>issue_date</th>\n",
       "      <th>violation_time</th>\n",
       "      <th>violation</th>\n",
       "      <th>judgment_entry_date</th>\n",
       "      <th>fine_amount</th>\n",
       "      <th>penalty_amount</th>\n",
       "      <th>interest_amount</th>\n",
       "      <th>reduction_amount</th>\n",
       "      <th>payment_amount</th>\n",
       "      <th>amount_due</th>\n",
       "      <th>precinct</th>\n",
       "      <th>county</th>\n",
       "      <th>issuing_agency</th>\n",
       "      <th>violation_status</th>\n",
       "      <th>summons_image</th>\n",
       "    </tr>\n",
       "  </thead>\n",
       "  <tbody>\n",
       "    <tr>\n",
       "      <th>0</th>\n",
       "      <td>JPR5411</td>\n",
       "      <td>NY</td>\n",
       "      <td>PAS</td>\n",
       "      <td>9015825865</td>\n",
       "      <td>10/30/2022</td>\n",
       "      <td>09:15A</td>\n",
       "      <td>DOUBLE PARKING</td>\n",
       "      <td>NaN</td>\n",
       "      <td>115.0</td>\n",
       "      <td>0.0</td>\n",
       "      <td>0.0</td>\n",
       "      <td>0.0</td>\n",
       "      <td>115.0</td>\n",
       "      <td>0.0</td>\n",
       "      <td>48.0</td>\n",
       "      <td>BX</td>\n",
       "      <td>TRAFFIC</td>\n",
       "      <td>NaN</td>\n",
       "      <td>View Summons (http://nycserv.nyc.gov/NYCServWe...</td>\n",
       "    </tr>\n",
       "    <tr>\n",
       "      <th>1</th>\n",
       "      <td>Z962VE</td>\n",
       "      <td>FL</td>\n",
       "      <td>PAS</td>\n",
       "      <td>9033762365</td>\n",
       "      <td>02/20/2023</td>\n",
       "      <td>11:40A</td>\n",
       "      <td>FAIL TO DSPLY MUNI METER RECPT</td>\n",
       "      <td>NaN</td>\n",
       "      <td>65.0</td>\n",
       "      <td>0.0</td>\n",
       "      <td>0.0</td>\n",
       "      <td>0.0</td>\n",
       "      <td>65.0</td>\n",
       "      <td>0.0</td>\n",
       "      <td>9.0</td>\n",
       "      <td>NY</td>\n",
       "      <td>TRAFFIC</td>\n",
       "      <td>NaN</td>\n",
       "      <td>View Summons (http://nycserv.nyc.gov/NYCServWe...</td>\n",
       "    </tr>\n",
       "    <tr>\n",
       "      <th>2</th>\n",
       "      <td>T767501C</td>\n",
       "      <td>NY</td>\n",
       "      <td>OMT</td>\n",
       "      <td>5131764269</td>\n",
       "      <td>12/04/2023</td>\n",
       "      <td>05:18P</td>\n",
       "      <td>FAILURE TO STOP AT RED LIGHT</td>\n",
       "      <td>NaN</td>\n",
       "      <td>50.0</td>\n",
       "      <td>0.0</td>\n",
       "      <td>0.0</td>\n",
       "      <td>0.0</td>\n",
       "      <td>50.0</td>\n",
       "      <td>0.0</td>\n",
       "      <td>0.0</td>\n",
       "      <td>QN</td>\n",
       "      <td>DEPARTMENT OF TRANSPORTATION</td>\n",
       "      <td>NaN</td>\n",
       "      <td>View Summons (http://nycserv.nyc.gov/NYCServWe...</td>\n",
       "    </tr>\n",
       "    <tr>\n",
       "      <th>3</th>\n",
       "      <td>3DQ677</td>\n",
       "      <td>OK</td>\n",
       "      <td>PAS</td>\n",
       "      <td>9026142961</td>\n",
       "      <td>01/07/2023</td>\n",
       "      <td>02:22P</td>\n",
       "      <td>NO PARKING-DAY/TIME LIMITS</td>\n",
       "      <td>NaN</td>\n",
       "      <td>60.0</td>\n",
       "      <td>0.0</td>\n",
       "      <td>0.0</td>\n",
       "      <td>0.0</td>\n",
       "      <td>60.0</td>\n",
       "      <td>0.0</td>\n",
       "      <td>104.0</td>\n",
       "      <td>Q</td>\n",
       "      <td>TRAFFIC</td>\n",
       "      <td>HEARING HELD-GUILTY</td>\n",
       "      <td>View Summons (http://nycserv.nyc.gov/NYCServWe...</td>\n",
       "    </tr>\n",
       "    <tr>\n",
       "      <th>4</th>\n",
       "      <td>LHD7834</td>\n",
       "      <td>PA</td>\n",
       "      <td>PAS</td>\n",
       "      <td>4884793110</td>\n",
       "      <td>02/10/2024</td>\n",
       "      <td>10:09P</td>\n",
       "      <td>PHTO SCHOOL ZN SPEED VIOLATION</td>\n",
       "      <td>NaN</td>\n",
       "      <td>50.0</td>\n",
       "      <td>0.0</td>\n",
       "      <td>0.0</td>\n",
       "      <td>0.0</td>\n",
       "      <td>50.0</td>\n",
       "      <td>0.0</td>\n",
       "      <td>0.0</td>\n",
       "      <td>BX</td>\n",
       "      <td>DEPARTMENT OF TRANSPORTATION</td>\n",
       "      <td>NaN</td>\n",
       "      <td>View Summons (http://nycserv.nyc.gov/NYCServWe...</td>\n",
       "    </tr>\n",
       "    <tr>\n",
       "      <th>...</th>\n",
       "      <td>...</td>\n",
       "      <td>...</td>\n",
       "      <td>...</td>\n",
       "      <td>...</td>\n",
       "      <td>...</td>\n",
       "      <td>...</td>\n",
       "      <td>...</td>\n",
       "      <td>...</td>\n",
       "      <td>...</td>\n",
       "      <td>...</td>\n",
       "      <td>...</td>\n",
       "      <td>...</td>\n",
       "      <td>...</td>\n",
       "      <td>...</td>\n",
       "      <td>...</td>\n",
       "      <td>...</td>\n",
       "      <td>...</td>\n",
       "      <td>...</td>\n",
       "      <td>...</td>\n",
       "    </tr>\n",
       "    <tr>\n",
       "      <th>995</th>\n",
       "      <td>18225ND</td>\n",
       "      <td>NY</td>\n",
       "      <td>COM</td>\n",
       "      <td>4885261004</td>\n",
       "      <td>02/15/2024</td>\n",
       "      <td>01:25P</td>\n",
       "      <td>PHTO SCHOOL ZN SPEED VIOLATION</td>\n",
       "      <td>NaN</td>\n",
       "      <td>50.0</td>\n",
       "      <td>0.0</td>\n",
       "      <td>0.0</td>\n",
       "      <td>0.0</td>\n",
       "      <td>50.0</td>\n",
       "      <td>0.0</td>\n",
       "      <td>0.0</td>\n",
       "      <td>MN</td>\n",
       "      <td>DEPARTMENT OF TRANSPORTATION</td>\n",
       "      <td>NaN</td>\n",
       "      <td>View Summons (http://nycserv.nyc.gov/NYCServWe...</td>\n",
       "    </tr>\n",
       "    <tr>\n",
       "      <th>996</th>\n",
       "      <td>KNN9294</td>\n",
       "      <td>NY</td>\n",
       "      <td>PAS</td>\n",
       "      <td>8903380060</td>\n",
       "      <td>10/27/2022</td>\n",
       "      <td>06:26A</td>\n",
       "      <td>SAFETY ZONE</td>\n",
       "      <td>NaN</td>\n",
       "      <td>115.0</td>\n",
       "      <td>0.0</td>\n",
       "      <td>0.0</td>\n",
       "      <td>0.0</td>\n",
       "      <td>115.0</td>\n",
       "      <td>0.0</td>\n",
       "      <td>110.0</td>\n",
       "      <td>Q</td>\n",
       "      <td>TRAFFIC</td>\n",
       "      <td>HEARING HELD-GUILTY</td>\n",
       "      <td>View Summons (http://nycserv.nyc.gov/NYCServWe...</td>\n",
       "    </tr>\n",
       "    <tr>\n",
       "      <th>997</th>\n",
       "      <td>BT32ET</td>\n",
       "      <td>FL</td>\n",
       "      <td>PAS</td>\n",
       "      <td>5131770180</td>\n",
       "      <td>12/02/2023</td>\n",
       "      <td>09:29A</td>\n",
       "      <td>FAILURE TO STOP AT RED LIGHT</td>\n",
       "      <td>NaN</td>\n",
       "      <td>50.0</td>\n",
       "      <td>0.0</td>\n",
       "      <td>0.0</td>\n",
       "      <td>0.0</td>\n",
       "      <td>50.0</td>\n",
       "      <td>0.0</td>\n",
       "      <td>0.0</td>\n",
       "      <td>BK</td>\n",
       "      <td>DEPARTMENT OF TRANSPORTATION</td>\n",
       "      <td>NaN</td>\n",
       "      <td>View Summons (http://nycserv.nyc.gov/NYCServWe...</td>\n",
       "    </tr>\n",
       "    <tr>\n",
       "      <th>998</th>\n",
       "      <td>226APA</td>\n",
       "      <td>NY</td>\n",
       "      <td>ORG</td>\n",
       "      <td>4882770945</td>\n",
       "      <td>01/25/2024</td>\n",
       "      <td>01:42A</td>\n",
       "      <td>PHTO SCHOOL ZN SPEED VIOLATION</td>\n",
       "      <td>NaN</td>\n",
       "      <td>50.0</td>\n",
       "      <td>0.0</td>\n",
       "      <td>0.0</td>\n",
       "      <td>0.0</td>\n",
       "      <td>50.0</td>\n",
       "      <td>0.0</td>\n",
       "      <td>0.0</td>\n",
       "      <td>BX</td>\n",
       "      <td>DEPARTMENT OF TRANSPORTATION</td>\n",
       "      <td>NaN</td>\n",
       "      <td>View Summons (http://nycserv.nyc.gov/NYCServWe...</td>\n",
       "    </tr>\n",
       "    <tr>\n",
       "      <th>999</th>\n",
       "      <td>GLH1267</td>\n",
       "      <td>NY</td>\n",
       "      <td>PAS</td>\n",
       "      <td>4882770933</td>\n",
       "      <td>01/25/2024</td>\n",
       "      <td>01:40A</td>\n",
       "      <td>PHTO SCHOOL ZN SPEED VIOLATION</td>\n",
       "      <td>NaN</td>\n",
       "      <td>50.0</td>\n",
       "      <td>0.0</td>\n",
       "      <td>0.0</td>\n",
       "      <td>0.0</td>\n",
       "      <td>50.0</td>\n",
       "      <td>0.0</td>\n",
       "      <td>0.0</td>\n",
       "      <td>BK</td>\n",
       "      <td>DEPARTMENT OF TRANSPORTATION</td>\n",
       "      <td>NaN</td>\n",
       "      <td>View Summons (http://nycserv.nyc.gov/NYCServWe...</td>\n",
       "    </tr>\n",
       "  </tbody>\n",
       "</table>\n",
       "<p>1000 rows × 19 columns</p>\n",
       "</div>"
      ],
      "text/plain": [
       "        plate state license_type  summons_number  issue_date violation_time  \\\n",
       "0     JPR5411    NY          PAS      9015825865  10/30/2022         09:15A   \n",
       "1      Z962VE    FL          PAS      9033762365  02/20/2023         11:40A   \n",
       "2    T767501C    NY          OMT      5131764269  12/04/2023         05:18P   \n",
       "3      3DQ677    OK          PAS      9026142961  01/07/2023         02:22P   \n",
       "4     LHD7834    PA          PAS      4884793110  02/10/2024         10:09P   \n",
       "..        ...   ...          ...             ...         ...            ...   \n",
       "995   18225ND    NY          COM      4885261004  02/15/2024         01:25P   \n",
       "996   KNN9294    NY          PAS      8903380060  10/27/2022         06:26A   \n",
       "997    BT32ET    FL          PAS      5131770180  12/02/2023         09:29A   \n",
       "998    226APA    NY          ORG      4882770945  01/25/2024         01:42A   \n",
       "999   GLH1267    NY          PAS      4882770933  01/25/2024         01:40A   \n",
       "\n",
       "                          violation judgment_entry_date  fine_amount  \\\n",
       "0                    DOUBLE PARKING                 NaN        115.0   \n",
       "1    FAIL TO DSPLY MUNI METER RECPT                 NaN         65.0   \n",
       "2      FAILURE TO STOP AT RED LIGHT                 NaN         50.0   \n",
       "3        NO PARKING-DAY/TIME LIMITS                 NaN         60.0   \n",
       "4    PHTO SCHOOL ZN SPEED VIOLATION                 NaN         50.0   \n",
       "..                              ...                 ...          ...   \n",
       "995  PHTO SCHOOL ZN SPEED VIOLATION                 NaN         50.0   \n",
       "996                     SAFETY ZONE                 NaN        115.0   \n",
       "997    FAILURE TO STOP AT RED LIGHT                 NaN         50.0   \n",
       "998  PHTO SCHOOL ZN SPEED VIOLATION                 NaN         50.0   \n",
       "999  PHTO SCHOOL ZN SPEED VIOLATION                 NaN         50.0   \n",
       "\n",
       "     penalty_amount  interest_amount  reduction_amount  payment_amount  \\\n",
       "0               0.0              0.0               0.0           115.0   \n",
       "1               0.0              0.0               0.0            65.0   \n",
       "2               0.0              0.0               0.0            50.0   \n",
       "3               0.0              0.0               0.0            60.0   \n",
       "4               0.0              0.0               0.0            50.0   \n",
       "..              ...              ...               ...             ...   \n",
       "995             0.0              0.0               0.0            50.0   \n",
       "996             0.0              0.0               0.0           115.0   \n",
       "997             0.0              0.0               0.0            50.0   \n",
       "998             0.0              0.0               0.0            50.0   \n",
       "999             0.0              0.0               0.0            50.0   \n",
       "\n",
       "     amount_due  precinct county                issuing_agency  \\\n",
       "0           0.0      48.0     BX                       TRAFFIC   \n",
       "1           0.0       9.0     NY                       TRAFFIC   \n",
       "2           0.0       0.0     QN  DEPARTMENT OF TRANSPORTATION   \n",
       "3           0.0     104.0      Q                       TRAFFIC   \n",
       "4           0.0       0.0     BX  DEPARTMENT OF TRANSPORTATION   \n",
       "..          ...       ...    ...                           ...   \n",
       "995         0.0       0.0     MN  DEPARTMENT OF TRANSPORTATION   \n",
       "996         0.0     110.0      Q                       TRAFFIC   \n",
       "997         0.0       0.0     BK  DEPARTMENT OF TRANSPORTATION   \n",
       "998         0.0       0.0     BX  DEPARTMENT OF TRANSPORTATION   \n",
       "999         0.0       0.0     BK  DEPARTMENT OF TRANSPORTATION   \n",
       "\n",
       "        violation_status                                      summons_image  \n",
       "0                    NaN  View Summons (http://nycserv.nyc.gov/NYCServWe...  \n",
       "1                    NaN  View Summons (http://nycserv.nyc.gov/NYCServWe...  \n",
       "2                    NaN  View Summons (http://nycserv.nyc.gov/NYCServWe...  \n",
       "3    HEARING HELD-GUILTY  View Summons (http://nycserv.nyc.gov/NYCServWe...  \n",
       "4                    NaN  View Summons (http://nycserv.nyc.gov/NYCServWe...  \n",
       "..                   ...                                                ...  \n",
       "995                  NaN  View Summons (http://nycserv.nyc.gov/NYCServWe...  \n",
       "996  HEARING HELD-GUILTY  View Summons (http://nycserv.nyc.gov/NYCServWe...  \n",
       "997                  NaN  View Summons (http://nycserv.nyc.gov/NYCServWe...  \n",
       "998                  NaN  View Summons (http://nycserv.nyc.gov/NYCServWe...  \n",
       "999                  NaN  View Summons (http://nycserv.nyc.gov/NYCServWe...  \n",
       "\n",
       "[1000 rows x 19 columns]"
      ]
     },
     "execution_count": 140,
     "metadata": {},
     "output_type": "execute_result"
    }
   ],
   "source": [
    "parking_violation=pd.read_csv(\"https://data.cityofnewyork.us/resource/nc67-uf89.csv\")\n",
    "parking_violation"
   ]
  },
  {
   "cell_type": "code",
   "execution_count": 141,
   "id": "706119bd-38f3-4da3-a384-e633da6f6054",
   "metadata": {},
   "outputs": [
    {
     "data": {
      "text/plain": [
       "array(['BX', 'NY', 'QN', 'Q', 'BK', 'MN', 'ST', nan, 'R', 'K'],\n",
       "      dtype=object)"
      ]
     },
     "execution_count": 141,
     "metadata": {},
     "output_type": "execute_result"
    }
   ],
   "source": [
    "parking_violation[\"county\"].unique()"
   ]
  },
  {
   "cell_type": "code",
   "execution_count": 142,
   "id": "ffc8b396-60c7-4fe4-af74-6c2a1d05b917",
   "metadata": {},
   "outputs": [
    {
     "data": {
      "text/html": [
       "<div>\n",
       "<style scoped>\n",
       "    .dataframe tbody tr th:only-of-type {\n",
       "        vertical-align: middle;\n",
       "    }\n",
       "\n",
       "    .dataframe tbody tr th {\n",
       "        vertical-align: top;\n",
       "    }\n",
       "\n",
       "    .dataframe thead th {\n",
       "        text-align: right;\n",
       "    }\n",
       "</style>\n",
       "<table border=\"1\" class=\"dataframe\">\n",
       "  <thead>\n",
       "    <tr style=\"text-align: right;\">\n",
       "      <th></th>\n",
       "      <th>boro</th>\n",
       "      <th>order_no</th>\n",
       "      <th>main_st</th>\n",
       "      <th>from_st</th>\n",
       "      <th>to_st</th>\n",
       "      <th>sos</th>\n",
       "    </tr>\n",
       "  </thead>\n",
       "  <tbody>\n",
       "    <tr>\n",
       "      <th>0</th>\n",
       "      <td>B</td>\n",
       "      <td>P-00097673</td>\n",
       "      <td>DECATUR AVENUE</td>\n",
       "      <td>EAST FORDHAM ROAD</td>\n",
       "      <td>EAST  193 STREET</td>\n",
       "      <td>W</td>\n",
       "    </tr>\n",
       "    <tr>\n",
       "      <th>1</th>\n",
       "      <td>B</td>\n",
       "      <td>P-00097679</td>\n",
       "      <td>EAST AVENUE</td>\n",
       "      <td>YANKEE MALL</td>\n",
       "      <td>PARKCHESTER ROAD*S RDWY</td>\n",
       "      <td>W</td>\n",
       "    </tr>\n",
       "    <tr>\n",
       "      <th>2</th>\n",
       "      <td>B</td>\n",
       "      <td>P-00097684</td>\n",
       "      <td>KATONAH AVENUE</td>\n",
       "      <td>EAST  236 STREET</td>\n",
       "      <td>EAST  235 STREET</td>\n",
       "      <td>W</td>\n",
       "    </tr>\n",
       "    <tr>\n",
       "      <th>3</th>\n",
       "      <td>B</td>\n",
       "      <td>P-00097688</td>\n",
       "      <td>KATONAH AVENUE</td>\n",
       "      <td>EAST  240 STREET</td>\n",
       "      <td>EAST  239 STREET</td>\n",
       "      <td>W</td>\n",
       "    </tr>\n",
       "    <tr>\n",
       "      <th>4</th>\n",
       "      <td>B</td>\n",
       "      <td>P-00097689</td>\n",
       "      <td>KATONAH AVENUE</td>\n",
       "      <td>EAST  238 STREET</td>\n",
       "      <td>EAST  237 STREET</td>\n",
       "      <td>W</td>\n",
       "    </tr>\n",
       "    <tr>\n",
       "      <th>...</th>\n",
       "      <td>...</td>\n",
       "      <td>...</td>\n",
       "      <td>...</td>\n",
       "      <td>...</td>\n",
       "      <td>...</td>\n",
       "      <td>...</td>\n",
       "    </tr>\n",
       "    <tr>\n",
       "      <th>96025</th>\n",
       "      <td>S</td>\n",
       "      <td>S-996071</td>\n",
       "      <td>CENTER PLACE</td>\n",
       "      <td>DUSTAN STREET</td>\n",
       "      <td>CEDAR GROVE AVENUE</td>\n",
       "      <td>W</td>\n",
       "    </tr>\n",
       "    <tr>\n",
       "      <th>96026</th>\n",
       "      <td>S</td>\n",
       "      <td>S-997054</td>\n",
       "      <td>GREAT KILLS ROAD</td>\n",
       "      <td>AMBOY ROAD</td>\n",
       "      <td>DENT ROAD</td>\n",
       "      <td>W</td>\n",
       "    </tr>\n",
       "    <tr>\n",
       "      <th>96027</th>\n",
       "      <td>S</td>\n",
       "      <td>S-997057</td>\n",
       "      <td>GREAT KILLS ROAD</td>\n",
       "      <td>DENT ROAD</td>\n",
       "      <td>AMBOY ROAD</td>\n",
       "      <td>E</td>\n",
       "    </tr>\n",
       "    <tr>\n",
       "      <th>96028</th>\n",
       "      <td>S</td>\n",
       "      <td>S-999204</td>\n",
       "      <td>HYLAN BOULEVARD</td>\n",
       "      <td>HAROLD AVENUE</td>\n",
       "      <td>BENNETT PLACE</td>\n",
       "      <td>N</td>\n",
       "    </tr>\n",
       "    <tr>\n",
       "      <th>96029</th>\n",
       "      <td>S</td>\n",
       "      <td>S-999207</td>\n",
       "      <td>MALDEN PLACE</td>\n",
       "      <td>PRIMROSE PLACE</td>\n",
       "      <td>HYLAN BOULEVARD</td>\n",
       "      <td>E</td>\n",
       "    </tr>\n",
       "  </tbody>\n",
       "</table>\n",
       "<p>96030 rows × 6 columns</p>\n",
       "</div>"
      ],
      "text/plain": [
       "      boro    order_no           main_st            from_st  \\\n",
       "0        B  P-00097673    DECATUR AVENUE  EAST FORDHAM ROAD   \n",
       "1        B  P-00097679       EAST AVENUE        YANKEE MALL   \n",
       "2        B  P-00097684    KATONAH AVENUE   EAST  236 STREET   \n",
       "3        B  P-00097688    KATONAH AVENUE   EAST  240 STREET   \n",
       "4        B  P-00097689    KATONAH AVENUE   EAST  238 STREET   \n",
       "...    ...         ...               ...                ...   \n",
       "96025    S  S-996071        CENTER PLACE      DUSTAN STREET   \n",
       "96026    S  S-997054    GREAT KILLS ROAD         AMBOY ROAD   \n",
       "96027    S  S-997057    GREAT KILLS ROAD          DENT ROAD   \n",
       "96028    S  S-999204     HYLAN BOULEVARD      HAROLD AVENUE   \n",
       "96029    S  S-999207        MALDEN PLACE     PRIMROSE PLACE   \n",
       "\n",
       "                         to_st sos  \n",
       "0             EAST  193 STREET   W  \n",
       "1      PARKCHESTER ROAD*S RDWY   W  \n",
       "2             EAST  235 STREET   W  \n",
       "3             EAST  239 STREET   W  \n",
       "4             EAST  237 STREET   W  \n",
       "...                        ...  ..  \n",
       "96025       CEDAR GROVE AVENUE   W  \n",
       "96026                DENT ROAD   W  \n",
       "96027               AMBOY ROAD   E  \n",
       "96028            BENNETT PLACE   N  \n",
       "96029          HYLAN BOULEVARD   E  \n",
       "\n",
       "[96030 rows x 6 columns]"
      ]
     },
     "execution_count": 142,
     "metadata": {},
     "output_type": "execute_result"
    }
   ],
   "source": [
    "locations=pd.read_csv(\"locations.csv\")\n",
    "locations"
   ]
  },
  {
   "cell_type": "code",
   "execution_count": 143,
   "id": "aec65787-550a-4b25-a116-d5e29b37f65e",
   "metadata": {
    "scrolled": true
   },
   "outputs": [
    {
     "data": {
      "text/html": [
       "<div>\n",
       "<style scoped>\n",
       "    .dataframe tbody tr th:only-of-type {\n",
       "        vertical-align: middle;\n",
       "    }\n",
       "\n",
       "    .dataframe tbody tr th {\n",
       "        vertical-align: top;\n",
       "    }\n",
       "\n",
       "    .dataframe thead th {\n",
       "        text-align: right;\n",
       "    }\n",
       "</style>\n",
       "<table border=\"1\" class=\"dataframe\">\n",
       "  <thead>\n",
       "    <tr style=\"text-align: right;\">\n",
       "      <th></th>\n",
       "      <th>plate</th>\n",
       "      <th>state</th>\n",
       "      <th>license_type</th>\n",
       "      <th>summons_number</th>\n",
       "      <th>issue_date</th>\n",
       "      <th>violation_time</th>\n",
       "      <th>violation</th>\n",
       "      <th>judgment_entry_date</th>\n",
       "      <th>fine_amount</th>\n",
       "      <th>penalty_amount</th>\n",
       "      <th>interest_amount</th>\n",
       "      <th>reduction_amount</th>\n",
       "      <th>payment_amount</th>\n",
       "      <th>amount_due</th>\n",
       "      <th>precinct</th>\n",
       "      <th>county</th>\n",
       "      <th>issuing_agency</th>\n",
       "      <th>violation_status</th>\n",
       "      <th>summons_image</th>\n",
       "    </tr>\n",
       "  </thead>\n",
       "  <tbody>\n",
       "    <tr>\n",
       "      <th>0</th>\n",
       "      <td>JPR5411</td>\n",
       "      <td>NY</td>\n",
       "      <td>PAS</td>\n",
       "      <td>9015825865</td>\n",
       "      <td>2022-10-30</td>\n",
       "      <td>09:15A</td>\n",
       "      <td>DOUBLE PARKING</td>\n",
       "      <td>NaN</td>\n",
       "      <td>115.0</td>\n",
       "      <td>0.0</td>\n",
       "      <td>0.0</td>\n",
       "      <td>0.0</td>\n",
       "      <td>115.0</td>\n",
       "      <td>0.0</td>\n",
       "      <td>48.0</td>\n",
       "      <td>BX</td>\n",
       "      <td>TRAFFIC</td>\n",
       "      <td>NaN</td>\n",
       "      <td>View Summons (http://nycserv.nyc.gov/NYCServWe...</td>\n",
       "    </tr>\n",
       "    <tr>\n",
       "      <th>1</th>\n",
       "      <td>Z962VE</td>\n",
       "      <td>FL</td>\n",
       "      <td>PAS</td>\n",
       "      <td>9033762365</td>\n",
       "      <td>2023-02-20</td>\n",
       "      <td>11:40A</td>\n",
       "      <td>FAIL TO DSPLY MUNI METER RECPT</td>\n",
       "      <td>NaN</td>\n",
       "      <td>65.0</td>\n",
       "      <td>0.0</td>\n",
       "      <td>0.0</td>\n",
       "      <td>0.0</td>\n",
       "      <td>65.0</td>\n",
       "      <td>0.0</td>\n",
       "      <td>9.0</td>\n",
       "      <td>NY</td>\n",
       "      <td>TRAFFIC</td>\n",
       "      <td>NaN</td>\n",
       "      <td>View Summons (http://nycserv.nyc.gov/NYCServWe...</td>\n",
       "    </tr>\n",
       "    <tr>\n",
       "      <th>2</th>\n",
       "      <td>T767501C</td>\n",
       "      <td>NY</td>\n",
       "      <td>OMT</td>\n",
       "      <td>5131764269</td>\n",
       "      <td>2023-12-04</td>\n",
       "      <td>05:18P</td>\n",
       "      <td>FAILURE TO STOP AT RED LIGHT</td>\n",
       "      <td>NaN</td>\n",
       "      <td>50.0</td>\n",
       "      <td>0.0</td>\n",
       "      <td>0.0</td>\n",
       "      <td>0.0</td>\n",
       "      <td>50.0</td>\n",
       "      <td>0.0</td>\n",
       "      <td>0.0</td>\n",
       "      <td>QN</td>\n",
       "      <td>DEPARTMENT OF TRANSPORTATION</td>\n",
       "      <td>NaN</td>\n",
       "      <td>View Summons (http://nycserv.nyc.gov/NYCServWe...</td>\n",
       "    </tr>\n",
       "    <tr>\n",
       "      <th>3</th>\n",
       "      <td>3DQ677</td>\n",
       "      <td>OK</td>\n",
       "      <td>PAS</td>\n",
       "      <td>9026142961</td>\n",
       "      <td>2023-01-07</td>\n",
       "      <td>02:22P</td>\n",
       "      <td>NO PARKING-DAY/TIME LIMITS</td>\n",
       "      <td>NaN</td>\n",
       "      <td>60.0</td>\n",
       "      <td>0.0</td>\n",
       "      <td>0.0</td>\n",
       "      <td>0.0</td>\n",
       "      <td>60.0</td>\n",
       "      <td>0.0</td>\n",
       "      <td>104.0</td>\n",
       "      <td>Q</td>\n",
       "      <td>TRAFFIC</td>\n",
       "      <td>HEARING HELD-GUILTY</td>\n",
       "      <td>View Summons (http://nycserv.nyc.gov/NYCServWe...</td>\n",
       "    </tr>\n",
       "    <tr>\n",
       "      <th>4</th>\n",
       "      <td>LHD7834</td>\n",
       "      <td>PA</td>\n",
       "      <td>PAS</td>\n",
       "      <td>4884793110</td>\n",
       "      <td>2024-02-10</td>\n",
       "      <td>10:09P</td>\n",
       "      <td>PHTO SCHOOL ZN SPEED VIOLATION</td>\n",
       "      <td>NaN</td>\n",
       "      <td>50.0</td>\n",
       "      <td>0.0</td>\n",
       "      <td>0.0</td>\n",
       "      <td>0.0</td>\n",
       "      <td>50.0</td>\n",
       "      <td>0.0</td>\n",
       "      <td>0.0</td>\n",
       "      <td>BX</td>\n",
       "      <td>DEPARTMENT OF TRANSPORTATION</td>\n",
       "      <td>NaN</td>\n",
       "      <td>View Summons (http://nycserv.nyc.gov/NYCServWe...</td>\n",
       "    </tr>\n",
       "    <tr>\n",
       "      <th>...</th>\n",
       "      <td>...</td>\n",
       "      <td>...</td>\n",
       "      <td>...</td>\n",
       "      <td>...</td>\n",
       "      <td>...</td>\n",
       "      <td>...</td>\n",
       "      <td>...</td>\n",
       "      <td>...</td>\n",
       "      <td>...</td>\n",
       "      <td>...</td>\n",
       "      <td>...</td>\n",
       "      <td>...</td>\n",
       "      <td>...</td>\n",
       "      <td>...</td>\n",
       "      <td>...</td>\n",
       "      <td>...</td>\n",
       "      <td>...</td>\n",
       "      <td>...</td>\n",
       "      <td>...</td>\n",
       "    </tr>\n",
       "    <tr>\n",
       "      <th>995</th>\n",
       "      <td>18225ND</td>\n",
       "      <td>NY</td>\n",
       "      <td>COM</td>\n",
       "      <td>4885261004</td>\n",
       "      <td>2024-02-15</td>\n",
       "      <td>01:25P</td>\n",
       "      <td>PHTO SCHOOL ZN SPEED VIOLATION</td>\n",
       "      <td>NaN</td>\n",
       "      <td>50.0</td>\n",
       "      <td>0.0</td>\n",
       "      <td>0.0</td>\n",
       "      <td>0.0</td>\n",
       "      <td>50.0</td>\n",
       "      <td>0.0</td>\n",
       "      <td>0.0</td>\n",
       "      <td>MN</td>\n",
       "      <td>DEPARTMENT OF TRANSPORTATION</td>\n",
       "      <td>NaN</td>\n",
       "      <td>View Summons (http://nycserv.nyc.gov/NYCServWe...</td>\n",
       "    </tr>\n",
       "    <tr>\n",
       "      <th>996</th>\n",
       "      <td>KNN9294</td>\n",
       "      <td>NY</td>\n",
       "      <td>PAS</td>\n",
       "      <td>8903380060</td>\n",
       "      <td>2022-10-27</td>\n",
       "      <td>06:26A</td>\n",
       "      <td>SAFETY ZONE</td>\n",
       "      <td>NaN</td>\n",
       "      <td>115.0</td>\n",
       "      <td>0.0</td>\n",
       "      <td>0.0</td>\n",
       "      <td>0.0</td>\n",
       "      <td>115.0</td>\n",
       "      <td>0.0</td>\n",
       "      <td>110.0</td>\n",
       "      <td>Q</td>\n",
       "      <td>TRAFFIC</td>\n",
       "      <td>HEARING HELD-GUILTY</td>\n",
       "      <td>View Summons (http://nycserv.nyc.gov/NYCServWe...</td>\n",
       "    </tr>\n",
       "    <tr>\n",
       "      <th>997</th>\n",
       "      <td>BT32ET</td>\n",
       "      <td>FL</td>\n",
       "      <td>PAS</td>\n",
       "      <td>5131770180</td>\n",
       "      <td>2023-12-02</td>\n",
       "      <td>09:29A</td>\n",
       "      <td>FAILURE TO STOP AT RED LIGHT</td>\n",
       "      <td>NaN</td>\n",
       "      <td>50.0</td>\n",
       "      <td>0.0</td>\n",
       "      <td>0.0</td>\n",
       "      <td>0.0</td>\n",
       "      <td>50.0</td>\n",
       "      <td>0.0</td>\n",
       "      <td>0.0</td>\n",
       "      <td>BK</td>\n",
       "      <td>DEPARTMENT OF TRANSPORTATION</td>\n",
       "      <td>NaN</td>\n",
       "      <td>View Summons (http://nycserv.nyc.gov/NYCServWe...</td>\n",
       "    </tr>\n",
       "    <tr>\n",
       "      <th>998</th>\n",
       "      <td>226APA</td>\n",
       "      <td>NY</td>\n",
       "      <td>ORG</td>\n",
       "      <td>4882770945</td>\n",
       "      <td>2024-01-25</td>\n",
       "      <td>01:42A</td>\n",
       "      <td>PHTO SCHOOL ZN SPEED VIOLATION</td>\n",
       "      <td>NaN</td>\n",
       "      <td>50.0</td>\n",
       "      <td>0.0</td>\n",
       "      <td>0.0</td>\n",
       "      <td>0.0</td>\n",
       "      <td>50.0</td>\n",
       "      <td>0.0</td>\n",
       "      <td>0.0</td>\n",
       "      <td>BX</td>\n",
       "      <td>DEPARTMENT OF TRANSPORTATION</td>\n",
       "      <td>NaN</td>\n",
       "      <td>View Summons (http://nycserv.nyc.gov/NYCServWe...</td>\n",
       "    </tr>\n",
       "    <tr>\n",
       "      <th>999</th>\n",
       "      <td>GLH1267</td>\n",
       "      <td>NY</td>\n",
       "      <td>PAS</td>\n",
       "      <td>4882770933</td>\n",
       "      <td>2024-01-25</td>\n",
       "      <td>01:40A</td>\n",
       "      <td>PHTO SCHOOL ZN SPEED VIOLATION</td>\n",
       "      <td>NaN</td>\n",
       "      <td>50.0</td>\n",
       "      <td>0.0</td>\n",
       "      <td>0.0</td>\n",
       "      <td>0.0</td>\n",
       "      <td>50.0</td>\n",
       "      <td>0.0</td>\n",
       "      <td>0.0</td>\n",
       "      <td>BK</td>\n",
       "      <td>DEPARTMENT OF TRANSPORTATION</td>\n",
       "      <td>NaN</td>\n",
       "      <td>View Summons (http://nycserv.nyc.gov/NYCServWe...</td>\n",
       "    </tr>\n",
       "  </tbody>\n",
       "</table>\n",
       "<p>1000 rows × 19 columns</p>\n",
       "</div>"
      ],
      "text/plain": [
       "        plate state license_type  summons_number issue_date violation_time  \\\n",
       "0     JPR5411    NY          PAS      9015825865 2022-10-30         09:15A   \n",
       "1      Z962VE    FL          PAS      9033762365 2023-02-20         11:40A   \n",
       "2    T767501C    NY          OMT      5131764269 2023-12-04         05:18P   \n",
       "3      3DQ677    OK          PAS      9026142961 2023-01-07         02:22P   \n",
       "4     LHD7834    PA          PAS      4884793110 2024-02-10         10:09P   \n",
       "..        ...   ...          ...             ...        ...            ...   \n",
       "995   18225ND    NY          COM      4885261004 2024-02-15         01:25P   \n",
       "996   KNN9294    NY          PAS      8903380060 2022-10-27         06:26A   \n",
       "997    BT32ET    FL          PAS      5131770180 2023-12-02         09:29A   \n",
       "998    226APA    NY          ORG      4882770945 2024-01-25         01:42A   \n",
       "999   GLH1267    NY          PAS      4882770933 2024-01-25         01:40A   \n",
       "\n",
       "                          violation judgment_entry_date  fine_amount  \\\n",
       "0                    DOUBLE PARKING                 NaN        115.0   \n",
       "1    FAIL TO DSPLY MUNI METER RECPT                 NaN         65.0   \n",
       "2      FAILURE TO STOP AT RED LIGHT                 NaN         50.0   \n",
       "3        NO PARKING-DAY/TIME LIMITS                 NaN         60.0   \n",
       "4    PHTO SCHOOL ZN SPEED VIOLATION                 NaN         50.0   \n",
       "..                              ...                 ...          ...   \n",
       "995  PHTO SCHOOL ZN SPEED VIOLATION                 NaN         50.0   \n",
       "996                     SAFETY ZONE                 NaN        115.0   \n",
       "997    FAILURE TO STOP AT RED LIGHT                 NaN         50.0   \n",
       "998  PHTO SCHOOL ZN SPEED VIOLATION                 NaN         50.0   \n",
       "999  PHTO SCHOOL ZN SPEED VIOLATION                 NaN         50.0   \n",
       "\n",
       "     penalty_amount  interest_amount  reduction_amount  payment_amount  \\\n",
       "0               0.0              0.0               0.0           115.0   \n",
       "1               0.0              0.0               0.0            65.0   \n",
       "2               0.0              0.0               0.0            50.0   \n",
       "3               0.0              0.0               0.0            60.0   \n",
       "4               0.0              0.0               0.0            50.0   \n",
       "..              ...              ...               ...             ...   \n",
       "995             0.0              0.0               0.0            50.0   \n",
       "996             0.0              0.0               0.0           115.0   \n",
       "997             0.0              0.0               0.0            50.0   \n",
       "998             0.0              0.0               0.0            50.0   \n",
       "999             0.0              0.0               0.0            50.0   \n",
       "\n",
       "     amount_due  precinct county                issuing_agency  \\\n",
       "0           0.0      48.0     BX                       TRAFFIC   \n",
       "1           0.0       9.0     NY                       TRAFFIC   \n",
       "2           0.0       0.0     QN  DEPARTMENT OF TRANSPORTATION   \n",
       "3           0.0     104.0      Q                       TRAFFIC   \n",
       "4           0.0       0.0     BX  DEPARTMENT OF TRANSPORTATION   \n",
       "..          ...       ...    ...                           ...   \n",
       "995         0.0       0.0     MN  DEPARTMENT OF TRANSPORTATION   \n",
       "996         0.0     110.0      Q                       TRAFFIC   \n",
       "997         0.0       0.0     BK  DEPARTMENT OF TRANSPORTATION   \n",
       "998         0.0       0.0     BX  DEPARTMENT OF TRANSPORTATION   \n",
       "999         0.0       0.0     BK  DEPARTMENT OF TRANSPORTATION   \n",
       "\n",
       "        violation_status                                      summons_image  \n",
       "0                    NaN  View Summons (http://nycserv.nyc.gov/NYCServWe...  \n",
       "1                    NaN  View Summons (http://nycserv.nyc.gov/NYCServWe...  \n",
       "2                    NaN  View Summons (http://nycserv.nyc.gov/NYCServWe...  \n",
       "3    HEARING HELD-GUILTY  View Summons (http://nycserv.nyc.gov/NYCServWe...  \n",
       "4                    NaN  View Summons (http://nycserv.nyc.gov/NYCServWe...  \n",
       "..                   ...                                                ...  \n",
       "995                  NaN  View Summons (http://nycserv.nyc.gov/NYCServWe...  \n",
       "996  HEARING HELD-GUILTY  View Summons (http://nycserv.nyc.gov/NYCServWe...  \n",
       "997                  NaN  View Summons (http://nycserv.nyc.gov/NYCServWe...  \n",
       "998                  NaN  View Summons (http://nycserv.nyc.gov/NYCServWe...  \n",
       "999                  NaN  View Summons (http://nycserv.nyc.gov/NYCServWe...  \n",
       "\n",
       "[1000 rows x 19 columns]"
      ]
     },
     "execution_count": 143,
     "metadata": {},
     "output_type": "execute_result"
    }
   ],
   "source": [
    "parking_violation[\"issue_date\"]=pd.to_datetime(parking_violation[\"issue_date\"],errors='coerce')\n",
    "parking_violation"
   ]
  },
  {
   "cell_type": "code",
   "execution_count": 144,
   "id": "288ad324-47ae-4eee-87b9-15f4bea11f17",
   "metadata": {
    "scrolled": true
   },
   "outputs": [
    {
     "data": {
      "text/html": [
       "<div>\n",
       "<style scoped>\n",
       "    .dataframe tbody tr th:only-of-type {\n",
       "        vertical-align: middle;\n",
       "    }\n",
       "\n",
       "    .dataframe tbody tr th {\n",
       "        vertical-align: top;\n",
       "    }\n",
       "\n",
       "    .dataframe thead th {\n",
       "        text-align: right;\n",
       "    }\n",
       "</style>\n",
       "<table border=\"1\" class=\"dataframe\">\n",
       "  <thead>\n",
       "    <tr style=\"text-align: right;\">\n",
       "      <th></th>\n",
       "      <th>plate</th>\n",
       "      <th>state</th>\n",
       "      <th>license_type</th>\n",
       "      <th>summons_number</th>\n",
       "      <th>issue_date</th>\n",
       "      <th>violation_time</th>\n",
       "      <th>violation</th>\n",
       "      <th>judgment_entry_date</th>\n",
       "      <th>fine_amount</th>\n",
       "      <th>penalty_amount</th>\n",
       "      <th>interest_amount</th>\n",
       "      <th>reduction_amount</th>\n",
       "      <th>payment_amount</th>\n",
       "      <th>amount_due</th>\n",
       "      <th>precinct</th>\n",
       "      <th>county</th>\n",
       "      <th>issuing_agency</th>\n",
       "      <th>violation_status</th>\n",
       "      <th>summons_image</th>\n",
       "    </tr>\n",
       "  </thead>\n",
       "  <tbody>\n",
       "    <tr>\n",
       "      <th>0</th>\n",
       "      <td>JPR5411</td>\n",
       "      <td>NY</td>\n",
       "      <td>PAS</td>\n",
       "      <td>9015825865</td>\n",
       "      <td>False</td>\n",
       "      <td>09:15A</td>\n",
       "      <td>DOUBLE PARKING</td>\n",
       "      <td>NaN</td>\n",
       "      <td>115.0</td>\n",
       "      <td>0.0</td>\n",
       "      <td>0.0</td>\n",
       "      <td>0.0</td>\n",
       "      <td>115.0</td>\n",
       "      <td>0.0</td>\n",
       "      <td>48.0</td>\n",
       "      <td>BX</td>\n",
       "      <td>TRAFFIC</td>\n",
       "      <td>NaN</td>\n",
       "      <td>View Summons (http://nycserv.nyc.gov/NYCServWe...</td>\n",
       "    </tr>\n",
       "    <tr>\n",
       "      <th>1</th>\n",
       "      <td>Z962VE</td>\n",
       "      <td>FL</td>\n",
       "      <td>PAS</td>\n",
       "      <td>9033762365</td>\n",
       "      <td>True</td>\n",
       "      <td>11:40A</td>\n",
       "      <td>FAIL TO DSPLY MUNI METER RECPT</td>\n",
       "      <td>NaN</td>\n",
       "      <td>65.0</td>\n",
       "      <td>0.0</td>\n",
       "      <td>0.0</td>\n",
       "      <td>0.0</td>\n",
       "      <td>65.0</td>\n",
       "      <td>0.0</td>\n",
       "      <td>9.0</td>\n",
       "      <td>NY</td>\n",
       "      <td>TRAFFIC</td>\n",
       "      <td>NaN</td>\n",
       "      <td>View Summons (http://nycserv.nyc.gov/NYCServWe...</td>\n",
       "    </tr>\n",
       "    <tr>\n",
       "      <th>2</th>\n",
       "      <td>T767501C</td>\n",
       "      <td>NY</td>\n",
       "      <td>OMT</td>\n",
       "      <td>5131764269</td>\n",
       "      <td>True</td>\n",
       "      <td>05:18P</td>\n",
       "      <td>FAILURE TO STOP AT RED LIGHT</td>\n",
       "      <td>NaN</td>\n",
       "      <td>50.0</td>\n",
       "      <td>0.0</td>\n",
       "      <td>0.0</td>\n",
       "      <td>0.0</td>\n",
       "      <td>50.0</td>\n",
       "      <td>0.0</td>\n",
       "      <td>0.0</td>\n",
       "      <td>QN</td>\n",
       "      <td>DEPARTMENT OF TRANSPORTATION</td>\n",
       "      <td>NaN</td>\n",
       "      <td>View Summons (http://nycserv.nyc.gov/NYCServWe...</td>\n",
       "    </tr>\n",
       "    <tr>\n",
       "      <th>3</th>\n",
       "      <td>3DQ677</td>\n",
       "      <td>OK</td>\n",
       "      <td>PAS</td>\n",
       "      <td>9026142961</td>\n",
       "      <td>True</td>\n",
       "      <td>02:22P</td>\n",
       "      <td>NO PARKING-DAY/TIME LIMITS</td>\n",
       "      <td>NaN</td>\n",
       "      <td>60.0</td>\n",
       "      <td>0.0</td>\n",
       "      <td>0.0</td>\n",
       "      <td>0.0</td>\n",
       "      <td>60.0</td>\n",
       "      <td>0.0</td>\n",
       "      <td>104.0</td>\n",
       "      <td>Q</td>\n",
       "      <td>TRAFFIC</td>\n",
       "      <td>HEARING HELD-GUILTY</td>\n",
       "      <td>View Summons (http://nycserv.nyc.gov/NYCServWe...</td>\n",
       "    </tr>\n",
       "    <tr>\n",
       "      <th>4</th>\n",
       "      <td>LHD7834</td>\n",
       "      <td>PA</td>\n",
       "      <td>PAS</td>\n",
       "      <td>4884793110</td>\n",
       "      <td>False</td>\n",
       "      <td>10:09P</td>\n",
       "      <td>PHTO SCHOOL ZN SPEED VIOLATION</td>\n",
       "      <td>NaN</td>\n",
       "      <td>50.0</td>\n",
       "      <td>0.0</td>\n",
       "      <td>0.0</td>\n",
       "      <td>0.0</td>\n",
       "      <td>50.0</td>\n",
       "      <td>0.0</td>\n",
       "      <td>0.0</td>\n",
       "      <td>BX</td>\n",
       "      <td>DEPARTMENT OF TRANSPORTATION</td>\n",
       "      <td>NaN</td>\n",
       "      <td>View Summons (http://nycserv.nyc.gov/NYCServWe...</td>\n",
       "    </tr>\n",
       "    <tr>\n",
       "      <th>...</th>\n",
       "      <td>...</td>\n",
       "      <td>...</td>\n",
       "      <td>...</td>\n",
       "      <td>...</td>\n",
       "      <td>...</td>\n",
       "      <td>...</td>\n",
       "      <td>...</td>\n",
       "      <td>...</td>\n",
       "      <td>...</td>\n",
       "      <td>...</td>\n",
       "      <td>...</td>\n",
       "      <td>...</td>\n",
       "      <td>...</td>\n",
       "      <td>...</td>\n",
       "      <td>...</td>\n",
       "      <td>...</td>\n",
       "      <td>...</td>\n",
       "      <td>...</td>\n",
       "      <td>...</td>\n",
       "    </tr>\n",
       "    <tr>\n",
       "      <th>995</th>\n",
       "      <td>18225ND</td>\n",
       "      <td>NY</td>\n",
       "      <td>COM</td>\n",
       "      <td>4885261004</td>\n",
       "      <td>False</td>\n",
       "      <td>01:25P</td>\n",
       "      <td>PHTO SCHOOL ZN SPEED VIOLATION</td>\n",
       "      <td>NaN</td>\n",
       "      <td>50.0</td>\n",
       "      <td>0.0</td>\n",
       "      <td>0.0</td>\n",
       "      <td>0.0</td>\n",
       "      <td>50.0</td>\n",
       "      <td>0.0</td>\n",
       "      <td>0.0</td>\n",
       "      <td>MN</td>\n",
       "      <td>DEPARTMENT OF TRANSPORTATION</td>\n",
       "      <td>NaN</td>\n",
       "      <td>View Summons (http://nycserv.nyc.gov/NYCServWe...</td>\n",
       "    </tr>\n",
       "    <tr>\n",
       "      <th>996</th>\n",
       "      <td>KNN9294</td>\n",
       "      <td>NY</td>\n",
       "      <td>PAS</td>\n",
       "      <td>8903380060</td>\n",
       "      <td>False</td>\n",
       "      <td>06:26A</td>\n",
       "      <td>SAFETY ZONE</td>\n",
       "      <td>NaN</td>\n",
       "      <td>115.0</td>\n",
       "      <td>0.0</td>\n",
       "      <td>0.0</td>\n",
       "      <td>0.0</td>\n",
       "      <td>115.0</td>\n",
       "      <td>0.0</td>\n",
       "      <td>110.0</td>\n",
       "      <td>Q</td>\n",
       "      <td>TRAFFIC</td>\n",
       "      <td>HEARING HELD-GUILTY</td>\n",
       "      <td>View Summons (http://nycserv.nyc.gov/NYCServWe...</td>\n",
       "    </tr>\n",
       "    <tr>\n",
       "      <th>997</th>\n",
       "      <td>BT32ET</td>\n",
       "      <td>FL</td>\n",
       "      <td>PAS</td>\n",
       "      <td>5131770180</td>\n",
       "      <td>True</td>\n",
       "      <td>09:29A</td>\n",
       "      <td>FAILURE TO STOP AT RED LIGHT</td>\n",
       "      <td>NaN</td>\n",
       "      <td>50.0</td>\n",
       "      <td>0.0</td>\n",
       "      <td>0.0</td>\n",
       "      <td>0.0</td>\n",
       "      <td>50.0</td>\n",
       "      <td>0.0</td>\n",
       "      <td>0.0</td>\n",
       "      <td>BK</td>\n",
       "      <td>DEPARTMENT OF TRANSPORTATION</td>\n",
       "      <td>NaN</td>\n",
       "      <td>View Summons (http://nycserv.nyc.gov/NYCServWe...</td>\n",
       "    </tr>\n",
       "    <tr>\n",
       "      <th>998</th>\n",
       "      <td>226APA</td>\n",
       "      <td>NY</td>\n",
       "      <td>ORG</td>\n",
       "      <td>4882770945</td>\n",
       "      <td>False</td>\n",
       "      <td>01:42A</td>\n",
       "      <td>PHTO SCHOOL ZN SPEED VIOLATION</td>\n",
       "      <td>NaN</td>\n",
       "      <td>50.0</td>\n",
       "      <td>0.0</td>\n",
       "      <td>0.0</td>\n",
       "      <td>0.0</td>\n",
       "      <td>50.0</td>\n",
       "      <td>0.0</td>\n",
       "      <td>0.0</td>\n",
       "      <td>BX</td>\n",
       "      <td>DEPARTMENT OF TRANSPORTATION</td>\n",
       "      <td>NaN</td>\n",
       "      <td>View Summons (http://nycserv.nyc.gov/NYCServWe...</td>\n",
       "    </tr>\n",
       "    <tr>\n",
       "      <th>999</th>\n",
       "      <td>GLH1267</td>\n",
       "      <td>NY</td>\n",
       "      <td>PAS</td>\n",
       "      <td>4882770933</td>\n",
       "      <td>False</td>\n",
       "      <td>01:40A</td>\n",
       "      <td>PHTO SCHOOL ZN SPEED VIOLATION</td>\n",
       "      <td>NaN</td>\n",
       "      <td>50.0</td>\n",
       "      <td>0.0</td>\n",
       "      <td>0.0</td>\n",
       "      <td>0.0</td>\n",
       "      <td>50.0</td>\n",
       "      <td>0.0</td>\n",
       "      <td>0.0</td>\n",
       "      <td>BK</td>\n",
       "      <td>DEPARTMENT OF TRANSPORTATION</td>\n",
       "      <td>NaN</td>\n",
       "      <td>View Summons (http://nycserv.nyc.gov/NYCServWe...</td>\n",
       "    </tr>\n",
       "  </tbody>\n",
       "</table>\n",
       "<p>1000 rows × 19 columns</p>\n",
       "</div>"
      ],
      "text/plain": [
       "        plate state license_type  summons_number  issue_date violation_time  \\\n",
       "0     JPR5411    NY          PAS      9015825865       False         09:15A   \n",
       "1      Z962VE    FL          PAS      9033762365        True         11:40A   \n",
       "2    T767501C    NY          OMT      5131764269        True         05:18P   \n",
       "3      3DQ677    OK          PAS      9026142961        True         02:22P   \n",
       "4     LHD7834    PA          PAS      4884793110       False         10:09P   \n",
       "..        ...   ...          ...             ...         ...            ...   \n",
       "995   18225ND    NY          COM      4885261004       False         01:25P   \n",
       "996   KNN9294    NY          PAS      8903380060       False         06:26A   \n",
       "997    BT32ET    FL          PAS      5131770180        True         09:29A   \n",
       "998    226APA    NY          ORG      4882770945       False         01:42A   \n",
       "999   GLH1267    NY          PAS      4882770933       False         01:40A   \n",
       "\n",
       "                          violation judgment_entry_date  fine_amount  \\\n",
       "0                    DOUBLE PARKING                 NaN        115.0   \n",
       "1    FAIL TO DSPLY MUNI METER RECPT                 NaN         65.0   \n",
       "2      FAILURE TO STOP AT RED LIGHT                 NaN         50.0   \n",
       "3        NO PARKING-DAY/TIME LIMITS                 NaN         60.0   \n",
       "4    PHTO SCHOOL ZN SPEED VIOLATION                 NaN         50.0   \n",
       "..                              ...                 ...          ...   \n",
       "995  PHTO SCHOOL ZN SPEED VIOLATION                 NaN         50.0   \n",
       "996                     SAFETY ZONE                 NaN        115.0   \n",
       "997    FAILURE TO STOP AT RED LIGHT                 NaN         50.0   \n",
       "998  PHTO SCHOOL ZN SPEED VIOLATION                 NaN         50.0   \n",
       "999  PHTO SCHOOL ZN SPEED VIOLATION                 NaN         50.0   \n",
       "\n",
       "     penalty_amount  interest_amount  reduction_amount  payment_amount  \\\n",
       "0               0.0              0.0               0.0           115.0   \n",
       "1               0.0              0.0               0.0            65.0   \n",
       "2               0.0              0.0               0.0            50.0   \n",
       "3               0.0              0.0               0.0            60.0   \n",
       "4               0.0              0.0               0.0            50.0   \n",
       "..              ...              ...               ...             ...   \n",
       "995             0.0              0.0               0.0            50.0   \n",
       "996             0.0              0.0               0.0           115.0   \n",
       "997             0.0              0.0               0.0            50.0   \n",
       "998             0.0              0.0               0.0            50.0   \n",
       "999             0.0              0.0               0.0            50.0   \n",
       "\n",
       "     amount_due  precinct county                issuing_agency  \\\n",
       "0           0.0      48.0     BX                       TRAFFIC   \n",
       "1           0.0       9.0     NY                       TRAFFIC   \n",
       "2           0.0       0.0     QN  DEPARTMENT OF TRANSPORTATION   \n",
       "3           0.0     104.0      Q                       TRAFFIC   \n",
       "4           0.0       0.0     BX  DEPARTMENT OF TRANSPORTATION   \n",
       "..          ...       ...    ...                           ...   \n",
       "995         0.0       0.0     MN  DEPARTMENT OF TRANSPORTATION   \n",
       "996         0.0     110.0      Q                       TRAFFIC   \n",
       "997         0.0       0.0     BK  DEPARTMENT OF TRANSPORTATION   \n",
       "998         0.0       0.0     BX  DEPARTMENT OF TRANSPORTATION   \n",
       "999         0.0       0.0     BK  DEPARTMENT OF TRANSPORTATION   \n",
       "\n",
       "        violation_status                                      summons_image  \n",
       "0                    NaN  View Summons (http://nycserv.nyc.gov/NYCServWe...  \n",
       "1                    NaN  View Summons (http://nycserv.nyc.gov/NYCServWe...  \n",
       "2                    NaN  View Summons (http://nycserv.nyc.gov/NYCServWe...  \n",
       "3    HEARING HELD-GUILTY  View Summons (http://nycserv.nyc.gov/NYCServWe...  \n",
       "4                    NaN  View Summons (http://nycserv.nyc.gov/NYCServWe...  \n",
       "..                   ...                                                ...  \n",
       "995                  NaN  View Summons (http://nycserv.nyc.gov/NYCServWe...  \n",
       "996  HEARING HELD-GUILTY  View Summons (http://nycserv.nyc.gov/NYCServWe...  \n",
       "997                  NaN  View Summons (http://nycserv.nyc.gov/NYCServWe...  \n",
       "998                  NaN  View Summons (http://nycserv.nyc.gov/NYCServWe...  \n",
       "999                  NaN  View Summons (http://nycserv.nyc.gov/NYCServWe...  \n",
       "\n",
       "[1000 rows x 19 columns]"
      ]
     },
     "execution_count": 144,
     "metadata": {},
     "output_type": "execute_result"
    }
   ],
   "source": [
    "parking_violation[\"issue_date\"]=parking_violation[\"issue_date\"].dt.year == 2023\n",
    "parking_violation"
   ]
  },
  {
   "cell_type": "code",
   "execution_count": 145,
   "id": "e84db010-60bd-4ae1-b7b3-35355d344b7b",
   "metadata": {
    "scrolled": true
   },
   "outputs": [
    {
     "data": {
      "text/html": [
       "<div>\n",
       "<style scoped>\n",
       "    .dataframe tbody tr th:only-of-type {\n",
       "        vertical-align: middle;\n",
       "    }\n",
       "\n",
       "    .dataframe tbody tr th {\n",
       "        vertical-align: top;\n",
       "    }\n",
       "\n",
       "    .dataframe thead th {\n",
       "        text-align: right;\n",
       "    }\n",
       "</style>\n",
       "<table border=\"1\" class=\"dataframe\">\n",
       "  <thead>\n",
       "    <tr style=\"text-align: right;\">\n",
       "      <th></th>\n",
       "      <th>plate</th>\n",
       "      <th>state</th>\n",
       "      <th>license_type</th>\n",
       "      <th>summons_number</th>\n",
       "      <th>issue_date</th>\n",
       "      <th>violation_time</th>\n",
       "      <th>violation</th>\n",
       "      <th>judgment_entry_date</th>\n",
       "      <th>fine_amount</th>\n",
       "      <th>penalty_amount</th>\n",
       "      <th>interest_amount</th>\n",
       "      <th>reduction_amount</th>\n",
       "      <th>payment_amount</th>\n",
       "      <th>amount_due</th>\n",
       "      <th>precinct</th>\n",
       "      <th>borough</th>\n",
       "      <th>issuing_agency</th>\n",
       "      <th>violation_status</th>\n",
       "      <th>summons_image</th>\n",
       "    </tr>\n",
       "  </thead>\n",
       "  <tbody>\n",
       "    <tr>\n",
       "      <th>0</th>\n",
       "      <td>JPR5411</td>\n",
       "      <td>NY</td>\n",
       "      <td>PAS</td>\n",
       "      <td>9015825865</td>\n",
       "      <td>False</td>\n",
       "      <td>09:15A</td>\n",
       "      <td>DOUBLE PARKING</td>\n",
       "      <td>NaN</td>\n",
       "      <td>115.0</td>\n",
       "      <td>0.0</td>\n",
       "      <td>0.00</td>\n",
       "      <td>0.0</td>\n",
       "      <td>115.0</td>\n",
       "      <td>0.00</td>\n",
       "      <td>48.0</td>\n",
       "      <td>BX</td>\n",
       "      <td>TRAFFIC</td>\n",
       "      <td>NaN</td>\n",
       "      <td>View Summons (http://nycserv.nyc.gov/NYCServWe...</td>\n",
       "    </tr>\n",
       "    <tr>\n",
       "      <th>2</th>\n",
       "      <td>T767501C</td>\n",
       "      <td>NY</td>\n",
       "      <td>OMT</td>\n",
       "      <td>5131764269</td>\n",
       "      <td>True</td>\n",
       "      <td>05:18P</td>\n",
       "      <td>FAILURE TO STOP AT RED LIGHT</td>\n",
       "      <td>NaN</td>\n",
       "      <td>50.0</td>\n",
       "      <td>0.0</td>\n",
       "      <td>0.00</td>\n",
       "      <td>0.0</td>\n",
       "      <td>50.0</td>\n",
       "      <td>0.00</td>\n",
       "      <td>0.0</td>\n",
       "      <td>QN</td>\n",
       "      <td>DEPARTMENT OF TRANSPORTATION</td>\n",
       "      <td>NaN</td>\n",
       "      <td>View Summons (http://nycserv.nyc.gov/NYCServWe...</td>\n",
       "    </tr>\n",
       "    <tr>\n",
       "      <th>5</th>\n",
       "      <td>LEK1142</td>\n",
       "      <td>NY</td>\n",
       "      <td>PAS</td>\n",
       "      <td>4882764891</td>\n",
       "      <td>False</td>\n",
       "      <td>04:23P</td>\n",
       "      <td>PHTO SCHOOL ZN SPEED VIOLATION</td>\n",
       "      <td>NaN</td>\n",
       "      <td>50.0</td>\n",
       "      <td>25.0</td>\n",
       "      <td>0.00</td>\n",
       "      <td>0.0</td>\n",
       "      <td>75.0</td>\n",
       "      <td>0.00</td>\n",
       "      <td>0.0</td>\n",
       "      <td>BK</td>\n",
       "      <td>DEPARTMENT OF TRANSPORTATION</td>\n",
       "      <td>NaN</td>\n",
       "      <td>View Summons (http://nycserv.nyc.gov/NYCServWe...</td>\n",
       "    </tr>\n",
       "    <tr>\n",
       "      <th>6</th>\n",
       "      <td>US1A</td>\n",
       "      <td>NY</td>\n",
       "      <td>ORG</td>\n",
       "      <td>4721498329</td>\n",
       "      <td>False</td>\n",
       "      <td>04:31P</td>\n",
       "      <td>PHTO SCHOOL ZN SPEED VIOLATION</td>\n",
       "      <td>04/15/2021</td>\n",
       "      <td>50.0</td>\n",
       "      <td>25.0</td>\n",
       "      <td>24.47</td>\n",
       "      <td>0.0</td>\n",
       "      <td>0.0</td>\n",
       "      <td>99.47</td>\n",
       "      <td>0.0</td>\n",
       "      <td>BX</td>\n",
       "      <td>DEPARTMENT OF TRANSPORTATION</td>\n",
       "      <td>NaN</td>\n",
       "      <td>View Summons (http://nycserv.nyc.gov/NYCServWe...</td>\n",
       "    </tr>\n",
       "    <tr>\n",
       "      <th>7</th>\n",
       "      <td>T766900C</td>\n",
       "      <td>NY</td>\n",
       "      <td>OMT</td>\n",
       "      <td>4721498342</td>\n",
       "      <td>False</td>\n",
       "      <td>04:33P</td>\n",
       "      <td>PHTO SCHOOL ZN SPEED VIOLATION</td>\n",
       "      <td>05/20/2021</td>\n",
       "      <td>50.0</td>\n",
       "      <td>25.0</td>\n",
       "      <td>23.82</td>\n",
       "      <td>0.0</td>\n",
       "      <td>0.0</td>\n",
       "      <td>98.82</td>\n",
       "      <td>0.0</td>\n",
       "      <td>MN</td>\n",
       "      <td>DEPARTMENT OF TRANSPORTATION</td>\n",
       "      <td>NaN</td>\n",
       "      <td>View Summons (http://nycserv.nyc.gov/NYCServWe...</td>\n",
       "    </tr>\n",
       "    <tr>\n",
       "      <th>...</th>\n",
       "      <td>...</td>\n",
       "      <td>...</td>\n",
       "      <td>...</td>\n",
       "      <td>...</td>\n",
       "      <td>...</td>\n",
       "      <td>...</td>\n",
       "      <td>...</td>\n",
       "      <td>...</td>\n",
       "      <td>...</td>\n",
       "      <td>...</td>\n",
       "      <td>...</td>\n",
       "      <td>...</td>\n",
       "      <td>...</td>\n",
       "      <td>...</td>\n",
       "      <td>...</td>\n",
       "      <td>...</td>\n",
       "      <td>...</td>\n",
       "      <td>...</td>\n",
       "      <td>...</td>\n",
       "    </tr>\n",
       "    <tr>\n",
       "      <th>994</th>\n",
       "      <td>T106991C</td>\n",
       "      <td>NY</td>\n",
       "      <td>OMT</td>\n",
       "      <td>9033791183</td>\n",
       "      <td>True</td>\n",
       "      <td>09:42A</td>\n",
       "      <td>NO PARKING-STREET CLEANING</td>\n",
       "      <td>NaN</td>\n",
       "      <td>65.0</td>\n",
       "      <td>0.0</td>\n",
       "      <td>0.00</td>\n",
       "      <td>0.0</td>\n",
       "      <td>65.0</td>\n",
       "      <td>0.00</td>\n",
       "      <td>43.0</td>\n",
       "      <td>BX</td>\n",
       "      <td>TRAFFIC</td>\n",
       "      <td>NaN</td>\n",
       "      <td>View Summons (http://nycserv.nyc.gov/NYCServWe...</td>\n",
       "    </tr>\n",
       "    <tr>\n",
       "      <th>995</th>\n",
       "      <td>18225ND</td>\n",
       "      <td>NY</td>\n",
       "      <td>COM</td>\n",
       "      <td>4885261004</td>\n",
       "      <td>False</td>\n",
       "      <td>01:25P</td>\n",
       "      <td>PHTO SCHOOL ZN SPEED VIOLATION</td>\n",
       "      <td>NaN</td>\n",
       "      <td>50.0</td>\n",
       "      <td>0.0</td>\n",
       "      <td>0.00</td>\n",
       "      <td>0.0</td>\n",
       "      <td>50.0</td>\n",
       "      <td>0.00</td>\n",
       "      <td>0.0</td>\n",
       "      <td>MN</td>\n",
       "      <td>DEPARTMENT OF TRANSPORTATION</td>\n",
       "      <td>NaN</td>\n",
       "      <td>View Summons (http://nycserv.nyc.gov/NYCServWe...</td>\n",
       "    </tr>\n",
       "    <tr>\n",
       "      <th>996</th>\n",
       "      <td>KNN9294</td>\n",
       "      <td>NY</td>\n",
       "      <td>PAS</td>\n",
       "      <td>8903380060</td>\n",
       "      <td>False</td>\n",
       "      <td>06:26A</td>\n",
       "      <td>SAFETY ZONE</td>\n",
       "      <td>NaN</td>\n",
       "      <td>115.0</td>\n",
       "      <td>0.0</td>\n",
       "      <td>0.00</td>\n",
       "      <td>0.0</td>\n",
       "      <td>115.0</td>\n",
       "      <td>0.00</td>\n",
       "      <td>110.0</td>\n",
       "      <td>Q</td>\n",
       "      <td>TRAFFIC</td>\n",
       "      <td>HEARING HELD-GUILTY</td>\n",
       "      <td>View Summons (http://nycserv.nyc.gov/NYCServWe...</td>\n",
       "    </tr>\n",
       "    <tr>\n",
       "      <th>998</th>\n",
       "      <td>226APA</td>\n",
       "      <td>NY</td>\n",
       "      <td>ORG</td>\n",
       "      <td>4882770945</td>\n",
       "      <td>False</td>\n",
       "      <td>01:42A</td>\n",
       "      <td>PHTO SCHOOL ZN SPEED VIOLATION</td>\n",
       "      <td>NaN</td>\n",
       "      <td>50.0</td>\n",
       "      <td>0.0</td>\n",
       "      <td>0.00</td>\n",
       "      <td>0.0</td>\n",
       "      <td>50.0</td>\n",
       "      <td>0.00</td>\n",
       "      <td>0.0</td>\n",
       "      <td>BX</td>\n",
       "      <td>DEPARTMENT OF TRANSPORTATION</td>\n",
       "      <td>NaN</td>\n",
       "      <td>View Summons (http://nycserv.nyc.gov/NYCServWe...</td>\n",
       "    </tr>\n",
       "    <tr>\n",
       "      <th>999</th>\n",
       "      <td>GLH1267</td>\n",
       "      <td>NY</td>\n",
       "      <td>PAS</td>\n",
       "      <td>4882770933</td>\n",
       "      <td>False</td>\n",
       "      <td>01:40A</td>\n",
       "      <td>PHTO SCHOOL ZN SPEED VIOLATION</td>\n",
       "      <td>NaN</td>\n",
       "      <td>50.0</td>\n",
       "      <td>0.0</td>\n",
       "      <td>0.00</td>\n",
       "      <td>0.0</td>\n",
       "      <td>50.0</td>\n",
       "      <td>0.00</td>\n",
       "      <td>0.0</td>\n",
       "      <td>BK</td>\n",
       "      <td>DEPARTMENT OF TRANSPORTATION</td>\n",
       "      <td>NaN</td>\n",
       "      <td>View Summons (http://nycserv.nyc.gov/NYCServWe...</td>\n",
       "    </tr>\n",
       "  </tbody>\n",
       "</table>\n",
       "<p>682 rows × 19 columns</p>\n",
       "</div>"
      ],
      "text/plain": [
       "        plate state license_type  summons_number  issue_date violation_time  \\\n",
       "0     JPR5411    NY          PAS      9015825865       False         09:15A   \n",
       "2    T767501C    NY          OMT      5131764269        True         05:18P   \n",
       "5     LEK1142    NY          PAS      4882764891       False         04:23P   \n",
       "6        US1A    NY          ORG      4721498329       False         04:31P   \n",
       "7    T766900C    NY          OMT      4721498342       False         04:33P   \n",
       "..        ...   ...          ...             ...         ...            ...   \n",
       "994  T106991C    NY          OMT      9033791183        True         09:42A   \n",
       "995   18225ND    NY          COM      4885261004       False         01:25P   \n",
       "996   KNN9294    NY          PAS      8903380060       False         06:26A   \n",
       "998    226APA    NY          ORG      4882770945       False         01:42A   \n",
       "999   GLH1267    NY          PAS      4882770933       False         01:40A   \n",
       "\n",
       "                          violation judgment_entry_date  fine_amount  \\\n",
       "0                    DOUBLE PARKING                 NaN        115.0   \n",
       "2      FAILURE TO STOP AT RED LIGHT                 NaN         50.0   \n",
       "5    PHTO SCHOOL ZN SPEED VIOLATION                 NaN         50.0   \n",
       "6    PHTO SCHOOL ZN SPEED VIOLATION          04/15/2021         50.0   \n",
       "7    PHTO SCHOOL ZN SPEED VIOLATION          05/20/2021         50.0   \n",
       "..                              ...                 ...          ...   \n",
       "994      NO PARKING-STREET CLEANING                 NaN         65.0   \n",
       "995  PHTO SCHOOL ZN SPEED VIOLATION                 NaN         50.0   \n",
       "996                     SAFETY ZONE                 NaN        115.0   \n",
       "998  PHTO SCHOOL ZN SPEED VIOLATION                 NaN         50.0   \n",
       "999  PHTO SCHOOL ZN SPEED VIOLATION                 NaN         50.0   \n",
       "\n",
       "     penalty_amount  interest_amount  reduction_amount  payment_amount  \\\n",
       "0               0.0             0.00               0.0           115.0   \n",
       "2               0.0             0.00               0.0            50.0   \n",
       "5              25.0             0.00               0.0            75.0   \n",
       "6              25.0            24.47               0.0             0.0   \n",
       "7              25.0            23.82               0.0             0.0   \n",
       "..              ...              ...               ...             ...   \n",
       "994             0.0             0.00               0.0            65.0   \n",
       "995             0.0             0.00               0.0            50.0   \n",
       "996             0.0             0.00               0.0           115.0   \n",
       "998             0.0             0.00               0.0            50.0   \n",
       "999             0.0             0.00               0.0            50.0   \n",
       "\n",
       "     amount_due  precinct borough                issuing_agency  \\\n",
       "0          0.00      48.0      BX                       TRAFFIC   \n",
       "2          0.00       0.0      QN  DEPARTMENT OF TRANSPORTATION   \n",
       "5          0.00       0.0      BK  DEPARTMENT OF TRANSPORTATION   \n",
       "6         99.47       0.0      BX  DEPARTMENT OF TRANSPORTATION   \n",
       "7         98.82       0.0      MN  DEPARTMENT OF TRANSPORTATION   \n",
       "..          ...       ...     ...                           ...   \n",
       "994        0.00      43.0      BX                       TRAFFIC   \n",
       "995        0.00       0.0      MN  DEPARTMENT OF TRANSPORTATION   \n",
       "996        0.00     110.0       Q                       TRAFFIC   \n",
       "998        0.00       0.0      BX  DEPARTMENT OF TRANSPORTATION   \n",
       "999        0.00       0.0      BK  DEPARTMENT OF TRANSPORTATION   \n",
       "\n",
       "        violation_status                                      summons_image  \n",
       "0                    NaN  View Summons (http://nycserv.nyc.gov/NYCServWe...  \n",
       "2                    NaN  View Summons (http://nycserv.nyc.gov/NYCServWe...  \n",
       "5                    NaN  View Summons (http://nycserv.nyc.gov/NYCServWe...  \n",
       "6                    NaN  View Summons (http://nycserv.nyc.gov/NYCServWe...  \n",
       "7                    NaN  View Summons (http://nycserv.nyc.gov/NYCServWe...  \n",
       "..                   ...                                                ...  \n",
       "994                  NaN  View Summons (http://nycserv.nyc.gov/NYCServWe...  \n",
       "995                  NaN  View Summons (http://nycserv.nyc.gov/NYCServWe...  \n",
       "996  HEARING HELD-GUILTY  View Summons (http://nycserv.nyc.gov/NYCServWe...  \n",
       "998                  NaN  View Summons (http://nycserv.nyc.gov/NYCServWe...  \n",
       "999                  NaN  View Summons (http://nycserv.nyc.gov/NYCServWe...  \n",
       "\n",
       "[682 rows x 19 columns]"
      ]
     },
     "execution_count": 145,
     "metadata": {},
     "output_type": "execute_result"
    }
   ],
   "source": [
    "parking_violation_23_NY = parking_violation[parking_violation['state'] == \"NY\"].copy()\n",
    "parking_violation_23_NY.rename(columns={'county': 'borough'}, inplace=True)\n",
    "parking_violation_23_NY"
   ]
  },
  {
   "cell_type": "code",
   "execution_count": 146,
   "id": "805a7efb-2d09-4780-8896-5b1138dea6d7",
   "metadata": {
    "scrolled": true
   },
   "outputs": [
    {
     "data": {
      "text/html": [
       "<div>\n",
       "<style scoped>\n",
       "    .dataframe tbody tr th:only-of-type {\n",
       "        vertical-align: middle;\n",
       "    }\n",
       "\n",
       "    .dataframe tbody tr th {\n",
       "        vertical-align: top;\n",
       "    }\n",
       "\n",
       "    .dataframe thead th {\n",
       "        text-align: right;\n",
       "    }\n",
       "</style>\n",
       "<table border=\"1\" class=\"dataframe\">\n",
       "  <thead>\n",
       "    <tr style=\"text-align: right;\">\n",
       "      <th></th>\n",
       "      <th>plate</th>\n",
       "      <th>state</th>\n",
       "      <th>license_type</th>\n",
       "      <th>summons_number</th>\n",
       "      <th>issue_date</th>\n",
       "      <th>violation_time</th>\n",
       "      <th>violation</th>\n",
       "      <th>judgment_entry_date</th>\n",
       "      <th>fine_amount</th>\n",
       "      <th>penalty_amount</th>\n",
       "      <th>interest_amount</th>\n",
       "      <th>reduction_amount</th>\n",
       "      <th>payment_amount</th>\n",
       "      <th>amount_due</th>\n",
       "      <th>precinct</th>\n",
       "      <th>borough</th>\n",
       "      <th>issuing_agency</th>\n",
       "      <th>violation_status</th>\n",
       "      <th>summons_image</th>\n",
       "    </tr>\n",
       "  </thead>\n",
       "  <tbody>\n",
       "    <tr>\n",
       "      <th>0</th>\n",
       "      <td>JPR5411</td>\n",
       "      <td>NY</td>\n",
       "      <td>PAS</td>\n",
       "      <td>9015825865</td>\n",
       "      <td>False</td>\n",
       "      <td>09:15A</td>\n",
       "      <td>DOUBLE PARKING</td>\n",
       "      <td>NaN</td>\n",
       "      <td>115.0</td>\n",
       "      <td>0.0</td>\n",
       "      <td>0.00</td>\n",
       "      <td>0.0</td>\n",
       "      <td>115.0</td>\n",
       "      <td>0.00</td>\n",
       "      <td>48.0</td>\n",
       "      <td>BX</td>\n",
       "      <td>TRAFFIC</td>\n",
       "      <td>NaN</td>\n",
       "      <td>View Summons (http://nycserv.nyc.gov/NYCServWe...</td>\n",
       "    </tr>\n",
       "    <tr>\n",
       "      <th>2</th>\n",
       "      <td>T767501C</td>\n",
       "      <td>NY</td>\n",
       "      <td>OMT</td>\n",
       "      <td>5131764269</td>\n",
       "      <td>True</td>\n",
       "      <td>05:18P</td>\n",
       "      <td>FAILURE TO STOP AT RED LIGHT</td>\n",
       "      <td>NaN</td>\n",
       "      <td>50.0</td>\n",
       "      <td>0.0</td>\n",
       "      <td>0.00</td>\n",
       "      <td>0.0</td>\n",
       "      <td>50.0</td>\n",
       "      <td>0.00</td>\n",
       "      <td>0.0</td>\n",
       "      <td>QN</td>\n",
       "      <td>DEPARTMENT OF TRANSPORTATION</td>\n",
       "      <td>NaN</td>\n",
       "      <td>View Summons (http://nycserv.nyc.gov/NYCServWe...</td>\n",
       "    </tr>\n",
       "    <tr>\n",
       "      <th>5</th>\n",
       "      <td>LEK1142</td>\n",
       "      <td>NY</td>\n",
       "      <td>PAS</td>\n",
       "      <td>4882764891</td>\n",
       "      <td>False</td>\n",
       "      <td>04:23P</td>\n",
       "      <td>PHTO SCHOOL ZN SPEED VIOLATION</td>\n",
       "      <td>NaN</td>\n",
       "      <td>50.0</td>\n",
       "      <td>25.0</td>\n",
       "      <td>0.00</td>\n",
       "      <td>0.0</td>\n",
       "      <td>75.0</td>\n",
       "      <td>0.00</td>\n",
       "      <td>0.0</td>\n",
       "      <td>BK</td>\n",
       "      <td>DEPARTMENT OF TRANSPORTATION</td>\n",
       "      <td>NaN</td>\n",
       "      <td>View Summons (http://nycserv.nyc.gov/NYCServWe...</td>\n",
       "    </tr>\n",
       "    <tr>\n",
       "      <th>6</th>\n",
       "      <td>US1A</td>\n",
       "      <td>NY</td>\n",
       "      <td>ORG</td>\n",
       "      <td>4721498329</td>\n",
       "      <td>False</td>\n",
       "      <td>04:31P</td>\n",
       "      <td>PHTO SCHOOL ZN SPEED VIOLATION</td>\n",
       "      <td>04/15/2021</td>\n",
       "      <td>50.0</td>\n",
       "      <td>25.0</td>\n",
       "      <td>24.47</td>\n",
       "      <td>0.0</td>\n",
       "      <td>0.0</td>\n",
       "      <td>99.47</td>\n",
       "      <td>0.0</td>\n",
       "      <td>BX</td>\n",
       "      <td>DEPARTMENT OF TRANSPORTATION</td>\n",
       "      <td>NaN</td>\n",
       "      <td>View Summons (http://nycserv.nyc.gov/NYCServWe...</td>\n",
       "    </tr>\n",
       "    <tr>\n",
       "      <th>7</th>\n",
       "      <td>T766900C</td>\n",
       "      <td>NY</td>\n",
       "      <td>OMT</td>\n",
       "      <td>4721498342</td>\n",
       "      <td>False</td>\n",
       "      <td>04:33P</td>\n",
       "      <td>PHTO SCHOOL ZN SPEED VIOLATION</td>\n",
       "      <td>05/20/2021</td>\n",
       "      <td>50.0</td>\n",
       "      <td>25.0</td>\n",
       "      <td>23.82</td>\n",
       "      <td>0.0</td>\n",
       "      <td>0.0</td>\n",
       "      <td>98.82</td>\n",
       "      <td>0.0</td>\n",
       "      <td>MN</td>\n",
       "      <td>DEPARTMENT OF TRANSPORTATION</td>\n",
       "      <td>NaN</td>\n",
       "      <td>View Summons (http://nycserv.nyc.gov/NYCServWe...</td>\n",
       "    </tr>\n",
       "    <tr>\n",
       "      <th>...</th>\n",
       "      <td>...</td>\n",
       "      <td>...</td>\n",
       "      <td>...</td>\n",
       "      <td>...</td>\n",
       "      <td>...</td>\n",
       "      <td>...</td>\n",
       "      <td>...</td>\n",
       "      <td>...</td>\n",
       "      <td>...</td>\n",
       "      <td>...</td>\n",
       "      <td>...</td>\n",
       "      <td>...</td>\n",
       "      <td>...</td>\n",
       "      <td>...</td>\n",
       "      <td>...</td>\n",
       "      <td>...</td>\n",
       "      <td>...</td>\n",
       "      <td>...</td>\n",
       "      <td>...</td>\n",
       "    </tr>\n",
       "    <tr>\n",
       "      <th>994</th>\n",
       "      <td>T106991C</td>\n",
       "      <td>NY</td>\n",
       "      <td>OMT</td>\n",
       "      <td>9033791183</td>\n",
       "      <td>True</td>\n",
       "      <td>09:42A</td>\n",
       "      <td>NO PARKING-STREET CLEANING</td>\n",
       "      <td>NaN</td>\n",
       "      <td>65.0</td>\n",
       "      <td>0.0</td>\n",
       "      <td>0.00</td>\n",
       "      <td>0.0</td>\n",
       "      <td>65.0</td>\n",
       "      <td>0.00</td>\n",
       "      <td>43.0</td>\n",
       "      <td>BX</td>\n",
       "      <td>TRAFFIC</td>\n",
       "      <td>NaN</td>\n",
       "      <td>View Summons (http://nycserv.nyc.gov/NYCServWe...</td>\n",
       "    </tr>\n",
       "    <tr>\n",
       "      <th>995</th>\n",
       "      <td>18225ND</td>\n",
       "      <td>NY</td>\n",
       "      <td>COM</td>\n",
       "      <td>4885261004</td>\n",
       "      <td>False</td>\n",
       "      <td>01:25P</td>\n",
       "      <td>PHTO SCHOOL ZN SPEED VIOLATION</td>\n",
       "      <td>NaN</td>\n",
       "      <td>50.0</td>\n",
       "      <td>0.0</td>\n",
       "      <td>0.00</td>\n",
       "      <td>0.0</td>\n",
       "      <td>50.0</td>\n",
       "      <td>0.00</td>\n",
       "      <td>0.0</td>\n",
       "      <td>MN</td>\n",
       "      <td>DEPARTMENT OF TRANSPORTATION</td>\n",
       "      <td>NaN</td>\n",
       "      <td>View Summons (http://nycserv.nyc.gov/NYCServWe...</td>\n",
       "    </tr>\n",
       "    <tr>\n",
       "      <th>996</th>\n",
       "      <td>KNN9294</td>\n",
       "      <td>NY</td>\n",
       "      <td>PAS</td>\n",
       "      <td>8903380060</td>\n",
       "      <td>False</td>\n",
       "      <td>06:26A</td>\n",
       "      <td>SAFETY ZONE</td>\n",
       "      <td>NaN</td>\n",
       "      <td>115.0</td>\n",
       "      <td>0.0</td>\n",
       "      <td>0.00</td>\n",
       "      <td>0.0</td>\n",
       "      <td>115.0</td>\n",
       "      <td>0.00</td>\n",
       "      <td>110.0</td>\n",
       "      <td>QN</td>\n",
       "      <td>TRAFFIC</td>\n",
       "      <td>HEARING HELD-GUILTY</td>\n",
       "      <td>View Summons (http://nycserv.nyc.gov/NYCServWe...</td>\n",
       "    </tr>\n",
       "    <tr>\n",
       "      <th>998</th>\n",
       "      <td>226APA</td>\n",
       "      <td>NY</td>\n",
       "      <td>ORG</td>\n",
       "      <td>4882770945</td>\n",
       "      <td>False</td>\n",
       "      <td>01:42A</td>\n",
       "      <td>PHTO SCHOOL ZN SPEED VIOLATION</td>\n",
       "      <td>NaN</td>\n",
       "      <td>50.0</td>\n",
       "      <td>0.0</td>\n",
       "      <td>0.00</td>\n",
       "      <td>0.0</td>\n",
       "      <td>50.0</td>\n",
       "      <td>0.00</td>\n",
       "      <td>0.0</td>\n",
       "      <td>BX</td>\n",
       "      <td>DEPARTMENT OF TRANSPORTATION</td>\n",
       "      <td>NaN</td>\n",
       "      <td>View Summons (http://nycserv.nyc.gov/NYCServWe...</td>\n",
       "    </tr>\n",
       "    <tr>\n",
       "      <th>999</th>\n",
       "      <td>GLH1267</td>\n",
       "      <td>NY</td>\n",
       "      <td>PAS</td>\n",
       "      <td>4882770933</td>\n",
       "      <td>False</td>\n",
       "      <td>01:40A</td>\n",
       "      <td>PHTO SCHOOL ZN SPEED VIOLATION</td>\n",
       "      <td>NaN</td>\n",
       "      <td>50.0</td>\n",
       "      <td>0.0</td>\n",
       "      <td>0.00</td>\n",
       "      <td>0.0</td>\n",
       "      <td>50.0</td>\n",
       "      <td>0.00</td>\n",
       "      <td>0.0</td>\n",
       "      <td>BK</td>\n",
       "      <td>DEPARTMENT OF TRANSPORTATION</td>\n",
       "      <td>NaN</td>\n",
       "      <td>View Summons (http://nycserv.nyc.gov/NYCServWe...</td>\n",
       "    </tr>\n",
       "  </tbody>\n",
       "</table>\n",
       "<p>682 rows × 19 columns</p>\n",
       "</div>"
      ],
      "text/plain": [
       "        plate state license_type  summons_number  issue_date violation_time  \\\n",
       "0     JPR5411    NY          PAS      9015825865       False         09:15A   \n",
       "2    T767501C    NY          OMT      5131764269        True         05:18P   \n",
       "5     LEK1142    NY          PAS      4882764891       False         04:23P   \n",
       "6        US1A    NY          ORG      4721498329       False         04:31P   \n",
       "7    T766900C    NY          OMT      4721498342       False         04:33P   \n",
       "..        ...   ...          ...             ...         ...            ...   \n",
       "994  T106991C    NY          OMT      9033791183        True         09:42A   \n",
       "995   18225ND    NY          COM      4885261004       False         01:25P   \n",
       "996   KNN9294    NY          PAS      8903380060       False         06:26A   \n",
       "998    226APA    NY          ORG      4882770945       False         01:42A   \n",
       "999   GLH1267    NY          PAS      4882770933       False         01:40A   \n",
       "\n",
       "                          violation judgment_entry_date  fine_amount  \\\n",
       "0                    DOUBLE PARKING                 NaN        115.0   \n",
       "2      FAILURE TO STOP AT RED LIGHT                 NaN         50.0   \n",
       "5    PHTO SCHOOL ZN SPEED VIOLATION                 NaN         50.0   \n",
       "6    PHTO SCHOOL ZN SPEED VIOLATION          04/15/2021         50.0   \n",
       "7    PHTO SCHOOL ZN SPEED VIOLATION          05/20/2021         50.0   \n",
       "..                              ...                 ...          ...   \n",
       "994      NO PARKING-STREET CLEANING                 NaN         65.0   \n",
       "995  PHTO SCHOOL ZN SPEED VIOLATION                 NaN         50.0   \n",
       "996                     SAFETY ZONE                 NaN        115.0   \n",
       "998  PHTO SCHOOL ZN SPEED VIOLATION                 NaN         50.0   \n",
       "999  PHTO SCHOOL ZN SPEED VIOLATION                 NaN         50.0   \n",
       "\n",
       "     penalty_amount  interest_amount  reduction_amount  payment_amount  \\\n",
       "0               0.0             0.00               0.0           115.0   \n",
       "2               0.0             0.00               0.0            50.0   \n",
       "5              25.0             0.00               0.0            75.0   \n",
       "6              25.0            24.47               0.0             0.0   \n",
       "7              25.0            23.82               0.0             0.0   \n",
       "..              ...              ...               ...             ...   \n",
       "994             0.0             0.00               0.0            65.0   \n",
       "995             0.0             0.00               0.0            50.0   \n",
       "996             0.0             0.00               0.0           115.0   \n",
       "998             0.0             0.00               0.0            50.0   \n",
       "999             0.0             0.00               0.0            50.0   \n",
       "\n",
       "     amount_due  precinct borough                issuing_agency  \\\n",
       "0          0.00      48.0      BX                       TRAFFIC   \n",
       "2          0.00       0.0      QN  DEPARTMENT OF TRANSPORTATION   \n",
       "5          0.00       0.0      BK  DEPARTMENT OF TRANSPORTATION   \n",
       "6         99.47       0.0      BX  DEPARTMENT OF TRANSPORTATION   \n",
       "7         98.82       0.0      MN  DEPARTMENT OF TRANSPORTATION   \n",
       "..          ...       ...     ...                           ...   \n",
       "994        0.00      43.0      BX                       TRAFFIC   \n",
       "995        0.00       0.0      MN  DEPARTMENT OF TRANSPORTATION   \n",
       "996        0.00     110.0      QN                       TRAFFIC   \n",
       "998        0.00       0.0      BX  DEPARTMENT OF TRANSPORTATION   \n",
       "999        0.00       0.0      BK  DEPARTMENT OF TRANSPORTATION   \n",
       "\n",
       "        violation_status                                      summons_image  \n",
       "0                    NaN  View Summons (http://nycserv.nyc.gov/NYCServWe...  \n",
       "2                    NaN  View Summons (http://nycserv.nyc.gov/NYCServWe...  \n",
       "5                    NaN  View Summons (http://nycserv.nyc.gov/NYCServWe...  \n",
       "6                    NaN  View Summons (http://nycserv.nyc.gov/NYCServWe...  \n",
       "7                    NaN  View Summons (http://nycserv.nyc.gov/NYCServWe...  \n",
       "..                   ...                                                ...  \n",
       "994                  NaN  View Summons (http://nycserv.nyc.gov/NYCServWe...  \n",
       "995                  NaN  View Summons (http://nycserv.nyc.gov/NYCServWe...  \n",
       "996  HEARING HELD-GUILTY  View Summons (http://nycserv.nyc.gov/NYCServWe...  \n",
       "998                  NaN  View Summons (http://nycserv.nyc.gov/NYCServWe...  \n",
       "999                  NaN  View Summons (http://nycserv.nyc.gov/NYCServWe...  \n",
       "\n",
       "[682 rows x 19 columns]"
      ]
     },
     "execution_count": 146,
     "metadata": {},
     "output_type": "execute_result"
    }
   ],
   "source": [
    "parking_violation_23_NY['borough'] = parking_violation_23_NY['borough'].replace({'Q': 'QN', 'K': 'BK'})\n",
    "parking_violation_23_NY"
   ]
  },
  {
   "cell_type": "code",
   "execution_count": 147,
   "id": "2ce196e0-1643-425b-92f9-661ebc772b9c",
   "metadata": {},
   "outputs": [],
   "source": [
    "locations.rename(columns={'boro': 'borough'}, inplace=True)"
   ]
  },
  {
   "cell_type": "code",
   "execution_count": 148,
   "id": "c7abf864-8de8-4d70-9ceb-e286be2b7fb0",
   "metadata": {},
   "outputs": [
    {
     "data": {
      "text/html": [
       "<div>\n",
       "<style scoped>\n",
       "    .dataframe tbody tr th:only-of-type {\n",
       "        vertical-align: middle;\n",
       "    }\n",
       "\n",
       "    .dataframe tbody tr th {\n",
       "        vertical-align: top;\n",
       "    }\n",
       "\n",
       "    .dataframe thead th {\n",
       "        text-align: right;\n",
       "    }\n",
       "</style>\n",
       "<table border=\"1\" class=\"dataframe\">\n",
       "  <thead>\n",
       "    <tr style=\"text-align: right;\">\n",
       "      <th></th>\n",
       "      <th>borough</th>\n",
       "      <th>order_no</th>\n",
       "      <th>main_st</th>\n",
       "      <th>from_st</th>\n",
       "      <th>to_st</th>\n",
       "      <th>sos</th>\n",
       "    </tr>\n",
       "  </thead>\n",
       "  <tbody>\n",
       "    <tr>\n",
       "      <th>0</th>\n",
       "      <td>BX</td>\n",
       "      <td>P-00097673</td>\n",
       "      <td>DECATUR AVENUE</td>\n",
       "      <td>EAST FORDHAM ROAD</td>\n",
       "      <td>EAST  193 STREET</td>\n",
       "      <td>W</td>\n",
       "    </tr>\n",
       "    <tr>\n",
       "      <th>1</th>\n",
       "      <td>BX</td>\n",
       "      <td>P-00097679</td>\n",
       "      <td>EAST AVENUE</td>\n",
       "      <td>YANKEE MALL</td>\n",
       "      <td>PARKCHESTER ROAD*S RDWY</td>\n",
       "      <td>W</td>\n",
       "    </tr>\n",
       "    <tr>\n",
       "      <th>2</th>\n",
       "      <td>BX</td>\n",
       "      <td>P-00097684</td>\n",
       "      <td>KATONAH AVENUE</td>\n",
       "      <td>EAST  236 STREET</td>\n",
       "      <td>EAST  235 STREET</td>\n",
       "      <td>W</td>\n",
       "    </tr>\n",
       "    <tr>\n",
       "      <th>3</th>\n",
       "      <td>BX</td>\n",
       "      <td>P-00097688</td>\n",
       "      <td>KATONAH AVENUE</td>\n",
       "      <td>EAST  240 STREET</td>\n",
       "      <td>EAST  239 STREET</td>\n",
       "      <td>W</td>\n",
       "    </tr>\n",
       "    <tr>\n",
       "      <th>4</th>\n",
       "      <td>BX</td>\n",
       "      <td>P-00097689</td>\n",
       "      <td>KATONAH AVENUE</td>\n",
       "      <td>EAST  238 STREET</td>\n",
       "      <td>EAST  237 STREET</td>\n",
       "      <td>W</td>\n",
       "    </tr>\n",
       "    <tr>\n",
       "      <th>...</th>\n",
       "      <td>...</td>\n",
       "      <td>...</td>\n",
       "      <td>...</td>\n",
       "      <td>...</td>\n",
       "      <td>...</td>\n",
       "      <td>...</td>\n",
       "    </tr>\n",
       "    <tr>\n",
       "      <th>96025</th>\n",
       "      <td>ST</td>\n",
       "      <td>S-996071</td>\n",
       "      <td>CENTER PLACE</td>\n",
       "      <td>DUSTAN STREET</td>\n",
       "      <td>CEDAR GROVE AVENUE</td>\n",
       "      <td>W</td>\n",
       "    </tr>\n",
       "    <tr>\n",
       "      <th>96026</th>\n",
       "      <td>ST</td>\n",
       "      <td>S-997054</td>\n",
       "      <td>GREAT KILLS ROAD</td>\n",
       "      <td>AMBOY ROAD</td>\n",
       "      <td>DENT ROAD</td>\n",
       "      <td>W</td>\n",
       "    </tr>\n",
       "    <tr>\n",
       "      <th>96027</th>\n",
       "      <td>ST</td>\n",
       "      <td>S-997057</td>\n",
       "      <td>GREAT KILLS ROAD</td>\n",
       "      <td>DENT ROAD</td>\n",
       "      <td>AMBOY ROAD</td>\n",
       "      <td>E</td>\n",
       "    </tr>\n",
       "    <tr>\n",
       "      <th>96028</th>\n",
       "      <td>ST</td>\n",
       "      <td>S-999204</td>\n",
       "      <td>HYLAN BOULEVARD</td>\n",
       "      <td>HAROLD AVENUE</td>\n",
       "      <td>BENNETT PLACE</td>\n",
       "      <td>N</td>\n",
       "    </tr>\n",
       "    <tr>\n",
       "      <th>96029</th>\n",
       "      <td>ST</td>\n",
       "      <td>S-999207</td>\n",
       "      <td>MALDEN PLACE</td>\n",
       "      <td>PRIMROSE PLACE</td>\n",
       "      <td>HYLAN BOULEVARD</td>\n",
       "      <td>E</td>\n",
       "    </tr>\n",
       "  </tbody>\n",
       "</table>\n",
       "<p>96030 rows × 6 columns</p>\n",
       "</div>"
      ],
      "text/plain": [
       "      borough    order_no           main_st            from_st  \\\n",
       "0          BX  P-00097673    DECATUR AVENUE  EAST FORDHAM ROAD   \n",
       "1          BX  P-00097679       EAST AVENUE        YANKEE MALL   \n",
       "2          BX  P-00097684    KATONAH AVENUE   EAST  236 STREET   \n",
       "3          BX  P-00097688    KATONAH AVENUE   EAST  240 STREET   \n",
       "4          BX  P-00097689    KATONAH AVENUE   EAST  238 STREET   \n",
       "...       ...         ...               ...                ...   \n",
       "96025      ST  S-996071        CENTER PLACE      DUSTAN STREET   \n",
       "96026      ST  S-997054    GREAT KILLS ROAD         AMBOY ROAD   \n",
       "96027      ST  S-997057    GREAT KILLS ROAD          DENT ROAD   \n",
       "96028      ST  S-999204     HYLAN BOULEVARD      HAROLD AVENUE   \n",
       "96029      ST  S-999207        MALDEN PLACE     PRIMROSE PLACE   \n",
       "\n",
       "                         to_st sos  \n",
       "0             EAST  193 STREET   W  \n",
       "1      PARKCHESTER ROAD*S RDWY   W  \n",
       "2             EAST  235 STREET   W  \n",
       "3             EAST  239 STREET   W  \n",
       "4             EAST  237 STREET   W  \n",
       "...                        ...  ..  \n",
       "96025       CEDAR GROVE AVENUE   W  \n",
       "96026                DENT ROAD   W  \n",
       "96027               AMBOY ROAD   E  \n",
       "96028            BENNETT PLACE   N  \n",
       "96029          HYLAN BOULEVARD   E  \n",
       "\n",
       "[96030 rows x 6 columns]"
      ]
     },
     "execution_count": 148,
     "metadata": {},
     "output_type": "execute_result"
    }
   ],
   "source": [
    "locations['borough'] = locations['borough'].replace({\n",
    "    'B': 'BX', \n",
    "    'K': 'BK', \n",
    "    'M': 'MN', \n",
    "    'Q': 'QN', \n",
    "    'S': 'ST'\n",
    "})\n",
    "locations"
   ]
  },
  {
   "cell_type": "code",
   "execution_count": 149,
   "id": "85244f4e-729c-47fa-819b-13c9ebf9f93c",
   "metadata": {
    "scrolled": true
   },
   "outputs": [],
   "source": [
    "merged=pd.merge(parking_violation_23_NY, locations, on=\"borough\", how=\"left\")\n",
    "merged_filtered = merged[~merged['borough'].isin(['NY', 'R'])]"
   ]
  },
  {
   "cell_type": "code",
   "execution_count": 150,
   "id": "a5dd35f1-5ef8-411c-a36b-b386f06cb0eb",
   "metadata": {},
   "outputs": [
    {
     "data": {
      "text/html": [
       "<div>\n",
       "<style scoped>\n",
       "    .dataframe tbody tr th:only-of-type {\n",
       "        vertical-align: middle;\n",
       "    }\n",
       "\n",
       "    .dataframe tbody tr th {\n",
       "        vertical-align: top;\n",
       "    }\n",
       "\n",
       "    .dataframe thead th {\n",
       "        text-align: right;\n",
       "    }\n",
       "</style>\n",
       "<table border=\"1\" class=\"dataframe\">\n",
       "  <thead>\n",
       "    <tr style=\"text-align: right;\">\n",
       "      <th></th>\n",
       "      <th>violation</th>\n",
       "      <th>borough</th>\n",
       "      <th>count</th>\n",
       "    </tr>\n",
       "  </thead>\n",
       "  <tbody>\n",
       "    <tr>\n",
       "      <th>0</th>\n",
       "      <td>CROSSWALK</td>\n",
       "      <td>BK</td>\n",
       "      <td>33774</td>\n",
       "    </tr>\n",
       "    <tr>\n",
       "      <th>1</th>\n",
       "      <td>DOUBLE PARKING</td>\n",
       "      <td>BK</td>\n",
       "      <td>101322</td>\n",
       "    </tr>\n",
       "    <tr>\n",
       "      <th>2</th>\n",
       "      <td>DOUBLE PARKING</td>\n",
       "      <td>BX</td>\n",
       "      <td>14182</td>\n",
       "    </tr>\n",
       "    <tr>\n",
       "      <th>3</th>\n",
       "      <td>EXPIRED MUNI METER</td>\n",
       "      <td>BK</td>\n",
       "      <td>33774</td>\n",
       "    </tr>\n",
       "    <tr>\n",
       "      <th>4</th>\n",
       "      <td>FAIL TO DSPLY MUNI METER RECPT</td>\n",
       "      <td>BK</td>\n",
       "      <td>135096</td>\n",
       "    </tr>\n",
       "    <tr>\n",
       "      <th>5</th>\n",
       "      <td>FAIL TO DSPLY MUNI METER RECPT</td>\n",
       "      <td>BX</td>\n",
       "      <td>14182</td>\n",
       "    </tr>\n",
       "    <tr>\n",
       "      <th>6</th>\n",
       "      <td>FAIL TO DSPLY MUNI METER RECPT</td>\n",
       "      <td>QN</td>\n",
       "      <td>223336</td>\n",
       "    </tr>\n",
       "    <tr>\n",
       "      <th>7</th>\n",
       "      <td>FAILURE TO STOP AT RED LIGHT</td>\n",
       "      <td>BK</td>\n",
       "      <td>1182090</td>\n",
       "    </tr>\n",
       "    <tr>\n",
       "      <th>8</th>\n",
       "      <td>FAILURE TO STOP AT RED LIGHT</td>\n",
       "      <td>BX</td>\n",
       "      <td>85092</td>\n",
       "    </tr>\n",
       "    <tr>\n",
       "      <th>9</th>\n",
       "      <td>FAILURE TO STOP AT RED LIGHT</td>\n",
       "      <td>MN</td>\n",
       "      <td>26522</td>\n",
       "    </tr>\n",
       "    <tr>\n",
       "      <th>10</th>\n",
       "      <td>FAILURE TO STOP AT RED LIGHT</td>\n",
       "      <td>QN</td>\n",
       "      <td>893344</td>\n",
       "    </tr>\n",
       "    <tr>\n",
       "      <th>11</th>\n",
       "      <td>FAILURE TO STOP AT RED LIGHT</td>\n",
       "      <td>ST</td>\n",
       "      <td>82752</td>\n",
       "    </tr>\n",
       "    <tr>\n",
       "      <th>12</th>\n",
       "      <td>FIRE HYDRANT</td>\n",
       "      <td>BK</td>\n",
       "      <td>303966</td>\n",
       "    </tr>\n",
       "    <tr>\n",
       "      <th>13</th>\n",
       "      <td>FIRE HYDRANT</td>\n",
       "      <td>BX</td>\n",
       "      <td>14182</td>\n",
       "    </tr>\n",
       "    <tr>\n",
       "      <th>14</th>\n",
       "      <td>FRONT OR BACK PLATE MISSING</td>\n",
       "      <td>BK</td>\n",
       "      <td>67548</td>\n",
       "    </tr>\n",
       "    <tr>\n",
       "      <th>15</th>\n",
       "      <td>INSP. STICKER-EXPIRED/MISSING</td>\n",
       "      <td>BK</td>\n",
       "      <td>67548</td>\n",
       "    </tr>\n",
       "    <tr>\n",
       "      <th>16</th>\n",
       "      <td>INSP. STICKER-EXPIRED/MISSING</td>\n",
       "      <td>BX</td>\n",
       "      <td>14182</td>\n",
       "    </tr>\n",
       "    <tr>\n",
       "      <th>17</th>\n",
       "      <td>INSP. STICKER-EXPIRED/MISSING</td>\n",
       "      <td>QN</td>\n",
       "      <td>111668</td>\n",
       "    </tr>\n",
       "    <tr>\n",
       "      <th>18</th>\n",
       "      <td>NGHT PKG ON RESID STR-COMM VEH</td>\n",
       "      <td>QN</td>\n",
       "      <td>83751</td>\n",
       "    </tr>\n",
       "    <tr>\n",
       "      <th>19</th>\n",
       "      <td>NO PARKING-DAY/TIME LIMITS</td>\n",
       "      <td>BK</td>\n",
       "      <td>101322</td>\n",
       "    </tr>\n",
       "    <tr>\n",
       "      <th>20</th>\n",
       "      <td>NO PARKING-DAY/TIME LIMITS</td>\n",
       "      <td>BX</td>\n",
       "      <td>14182</td>\n",
       "    </tr>\n",
       "    <tr>\n",
       "      <th>21</th>\n",
       "      <td>NO PARKING-DAY/TIME LIMITS</td>\n",
       "      <td>QN</td>\n",
       "      <td>55834</td>\n",
       "    </tr>\n",
       "    <tr>\n",
       "      <th>22</th>\n",
       "      <td>NO PARKING-STREET CLEANING</td>\n",
       "      <td>BK</td>\n",
       "      <td>540384</td>\n",
       "    </tr>\n",
       "    <tr>\n",
       "      <th>23</th>\n",
       "      <td>NO PARKING-STREET CLEANING</td>\n",
       "      <td>BX</td>\n",
       "      <td>28364</td>\n",
       "    </tr>\n",
       "    <tr>\n",
       "      <th>24</th>\n",
       "      <td>NO PARKING-STREET CLEANING</td>\n",
       "      <td>QN</td>\n",
       "      <td>139585</td>\n",
       "    </tr>\n",
       "    <tr>\n",
       "      <th>25</th>\n",
       "      <td>NO STANDING-BUS STOP</td>\n",
       "      <td>BX</td>\n",
       "      <td>28364</td>\n",
       "    </tr>\n",
       "    <tr>\n",
       "      <th>26</th>\n",
       "      <td>NO STANDING-BUS STOP</td>\n",
       "      <td>QN</td>\n",
       "      <td>55834</td>\n",
       "    </tr>\n",
       "    <tr>\n",
       "      <th>27</th>\n",
       "      <td>NO STANDING-DAY/TIME LIMITS</td>\n",
       "      <td>BK</td>\n",
       "      <td>202644</td>\n",
       "    </tr>\n",
       "    <tr>\n",
       "      <th>28</th>\n",
       "      <td>NO STANDING-DAY/TIME LIMITS</td>\n",
       "      <td>BX</td>\n",
       "      <td>28364</td>\n",
       "    </tr>\n",
       "    <tr>\n",
       "      <th>29</th>\n",
       "      <td>NO STANDING-EXC. TRUCK LOADING</td>\n",
       "      <td>BK</td>\n",
       "      <td>33774</td>\n",
       "    </tr>\n",
       "    <tr>\n",
       "      <th>30</th>\n",
       "      <td>NO STANDING-EXC. TRUCK LOADING</td>\n",
       "      <td>QN</td>\n",
       "      <td>27917</td>\n",
       "    </tr>\n",
       "    <tr>\n",
       "      <th>31</th>\n",
       "      <td>OBSTRUCTING DRIVEWAY</td>\n",
       "      <td>BK</td>\n",
       "      <td>33774</td>\n",
       "    </tr>\n",
       "    <tr>\n",
       "      <th>32</th>\n",
       "      <td>PHTO SCHOOL ZN SPEED VIOLATION</td>\n",
       "      <td>BK</td>\n",
       "      <td>3580044</td>\n",
       "    </tr>\n",
       "    <tr>\n",
       "      <th>33</th>\n",
       "      <td>PHTO SCHOOL ZN SPEED VIOLATION</td>\n",
       "      <td>BX</td>\n",
       "      <td>737464</td>\n",
       "    </tr>\n",
       "    <tr>\n",
       "      <th>34</th>\n",
       "      <td>PHTO SCHOOL ZN SPEED VIOLATION</td>\n",
       "      <td>MN</td>\n",
       "      <td>251959</td>\n",
       "    </tr>\n",
       "    <tr>\n",
       "      <th>35</th>\n",
       "      <td>PHTO SCHOOL ZN SPEED VIOLATION</td>\n",
       "      <td>QN</td>\n",
       "      <td>3629210</td>\n",
       "    </tr>\n",
       "    <tr>\n",
       "      <th>36</th>\n",
       "      <td>PHTO SCHOOL ZN SPEED VIOLATION</td>\n",
       "      <td>ST</td>\n",
       "      <td>151712</td>\n",
       "    </tr>\n",
       "    <tr>\n",
       "      <th>37</th>\n",
       "      <td>REG. STICKER-EXPIRED/MISSING</td>\n",
       "      <td>BK</td>\n",
       "      <td>236418</td>\n",
       "    </tr>\n",
       "    <tr>\n",
       "      <th>38</th>\n",
       "      <td>REG. STICKER-EXPIRED/MISSING</td>\n",
       "      <td>QN</td>\n",
       "      <td>167502</td>\n",
       "    </tr>\n",
       "    <tr>\n",
       "      <th>39</th>\n",
       "      <td>SAFETY ZONE</td>\n",
       "      <td>QN</td>\n",
       "      <td>27917</td>\n",
       "    </tr>\n",
       "    <tr>\n",
       "      <th>40</th>\n",
       "      <td>SIDEWALK</td>\n",
       "      <td>BK</td>\n",
       "      <td>33774</td>\n",
       "    </tr>\n",
       "  </tbody>\n",
       "</table>\n",
       "</div>"
      ],
      "text/plain": [
       "                         violation borough    count\n",
       "0                        CROSSWALK      BK    33774\n",
       "1                   DOUBLE PARKING      BK   101322\n",
       "2                   DOUBLE PARKING      BX    14182\n",
       "3               EXPIRED MUNI METER      BK    33774\n",
       "4   FAIL TO DSPLY MUNI METER RECPT      BK   135096\n",
       "5   FAIL TO DSPLY MUNI METER RECPT      BX    14182\n",
       "6   FAIL TO DSPLY MUNI METER RECPT      QN   223336\n",
       "7     FAILURE TO STOP AT RED LIGHT      BK  1182090\n",
       "8     FAILURE TO STOP AT RED LIGHT      BX    85092\n",
       "9     FAILURE TO STOP AT RED LIGHT      MN    26522\n",
       "10    FAILURE TO STOP AT RED LIGHT      QN   893344\n",
       "11    FAILURE TO STOP AT RED LIGHT      ST    82752\n",
       "12                    FIRE HYDRANT      BK   303966\n",
       "13                    FIRE HYDRANT      BX    14182\n",
       "14     FRONT OR BACK PLATE MISSING      BK    67548\n",
       "15   INSP. STICKER-EXPIRED/MISSING      BK    67548\n",
       "16   INSP. STICKER-EXPIRED/MISSING      BX    14182\n",
       "17   INSP. STICKER-EXPIRED/MISSING      QN   111668\n",
       "18  NGHT PKG ON RESID STR-COMM VEH      QN    83751\n",
       "19      NO PARKING-DAY/TIME LIMITS      BK   101322\n",
       "20      NO PARKING-DAY/TIME LIMITS      BX    14182\n",
       "21      NO PARKING-DAY/TIME LIMITS      QN    55834\n",
       "22      NO PARKING-STREET CLEANING      BK   540384\n",
       "23      NO PARKING-STREET CLEANING      BX    28364\n",
       "24      NO PARKING-STREET CLEANING      QN   139585\n",
       "25            NO STANDING-BUS STOP      BX    28364\n",
       "26            NO STANDING-BUS STOP      QN    55834\n",
       "27     NO STANDING-DAY/TIME LIMITS      BK   202644\n",
       "28     NO STANDING-DAY/TIME LIMITS      BX    28364\n",
       "29  NO STANDING-EXC. TRUCK LOADING      BK    33774\n",
       "30  NO STANDING-EXC. TRUCK LOADING      QN    27917\n",
       "31            OBSTRUCTING DRIVEWAY      BK    33774\n",
       "32  PHTO SCHOOL ZN SPEED VIOLATION      BK  3580044\n",
       "33  PHTO SCHOOL ZN SPEED VIOLATION      BX   737464\n",
       "34  PHTO SCHOOL ZN SPEED VIOLATION      MN   251959\n",
       "35  PHTO SCHOOL ZN SPEED VIOLATION      QN  3629210\n",
       "36  PHTO SCHOOL ZN SPEED VIOLATION      ST   151712\n",
       "37    REG. STICKER-EXPIRED/MISSING      BK   236418\n",
       "38    REG. STICKER-EXPIRED/MISSING      QN   167502\n",
       "39                     SAFETY ZONE      QN    27917\n",
       "40                        SIDEWALK      BK    33774"
      ]
     },
     "execution_count": 150,
     "metadata": {},
     "output_type": "execute_result"
    }
   ],
   "source": [
    "merged_filtered_subset = merged_filtered[['violation', 'borough']]\n",
    "violation_counts = merged_filtered_subset.groupby(['violation', 'borough']).size().reset_index(name='count')\n",
    "violation_counts"
   ]
  },
  {
   "cell_type": "code",
   "execution_count": 151,
   "id": "33435d0b-87f1-4a11-9784-f22d427416ee",
   "metadata": {},
   "outputs": [
    {
     "data": {
      "text/html": [
       "        <script type=\"text/javascript\">\n",
       "        window.PlotlyConfig = {MathJaxConfig: 'local'};\n",
       "        if (window.MathJax && window.MathJax.Hub && window.MathJax.Hub.Config) {window.MathJax.Hub.Config({SVG: {font: \"STIX-Web\"}});}\n",
       "        if (typeof require !== 'undefined') {\n",
       "        require.undef(\"plotly\");\n",
       "        requirejs.config({\n",
       "            paths: {\n",
       "                'plotly': ['https://cdn.plot.ly/plotly-2.32.0.min']\n",
       "            }\n",
       "        });\n",
       "        require(['plotly'], function(Plotly) {\n",
       "            window._Plotly = Plotly;\n",
       "        });\n",
       "        }\n",
       "        </script>\n",
       "        "
      ]
     },
     "metadata": {},
     "output_type": "display_data"
    },
    {
     "data": {
      "application/vnd.plotly.v1+json": {
       "config": {
        "plotlyServerURL": "https://plot.ly"
       },
       "data": [
        {
         "alignmentgroup": "True",
         "bingroup": "x",
         "histfunc": "sum",
         "hovertemplate": "violation=CROSSWALK<br>borough=%{x}<br>sum of count=%{y}<extra></extra>",
         "legendgroup": "CROSSWALK",
         "marker": {
          "color": "#636efa",
          "pattern": {
           "shape": ""
          }
         },
         "name": "CROSSWALK",
         "offsetgroup": "CROSSWALK",
         "orientation": "v",
         "showlegend": true,
         "type": "histogram",
         "x": [
          "BK"
         ],
         "xaxis": "x",
         "y": [
          33774
         ],
         "yaxis": "y"
        },
        {
         "alignmentgroup": "True",
         "bingroup": "x",
         "histfunc": "sum",
         "hovertemplate": "violation=DOUBLE PARKING<br>borough=%{x}<br>sum of count=%{y}<extra></extra>",
         "legendgroup": "DOUBLE PARKING",
         "marker": {
          "color": "#EF553B",
          "pattern": {
           "shape": ""
          }
         },
         "name": "DOUBLE PARKING",
         "offsetgroup": "DOUBLE PARKING",
         "orientation": "v",
         "showlegend": true,
         "type": "histogram",
         "x": [
          "BK",
          "BX"
         ],
         "xaxis": "x",
         "y": [
          101322,
          14182
         ],
         "yaxis": "y"
        },
        {
         "alignmentgroup": "True",
         "bingroup": "x",
         "histfunc": "sum",
         "hovertemplate": "violation=EXPIRED MUNI METER<br>borough=%{x}<br>sum of count=%{y}<extra></extra>",
         "legendgroup": "EXPIRED MUNI METER",
         "marker": {
          "color": "#00cc96",
          "pattern": {
           "shape": ""
          }
         },
         "name": "EXPIRED MUNI METER",
         "offsetgroup": "EXPIRED MUNI METER",
         "orientation": "v",
         "showlegend": true,
         "type": "histogram",
         "x": [
          "BK"
         ],
         "xaxis": "x",
         "y": [
          33774
         ],
         "yaxis": "y"
        },
        {
         "alignmentgroup": "True",
         "bingroup": "x",
         "histfunc": "sum",
         "hovertemplate": "violation=FAIL TO DSPLY MUNI METER RECPT<br>borough=%{x}<br>sum of count=%{y}<extra></extra>",
         "legendgroup": "FAIL TO DSPLY MUNI METER RECPT",
         "marker": {
          "color": "#ab63fa",
          "pattern": {
           "shape": ""
          }
         },
         "name": "FAIL TO DSPLY MUNI METER RECPT",
         "offsetgroup": "FAIL TO DSPLY MUNI METER RECPT",
         "orientation": "v",
         "showlegend": true,
         "type": "histogram",
         "x": [
          "BK",
          "BX",
          "QN"
         ],
         "xaxis": "x",
         "y": [
          135096,
          14182,
          223336
         ],
         "yaxis": "y"
        },
        {
         "alignmentgroup": "True",
         "bingroup": "x",
         "histfunc": "sum",
         "hovertemplate": "violation=FAILURE TO STOP AT RED LIGHT<br>borough=%{x}<br>sum of count=%{y}<extra></extra>",
         "legendgroup": "FAILURE TO STOP AT RED LIGHT",
         "marker": {
          "color": "#FFA15A",
          "pattern": {
           "shape": ""
          }
         },
         "name": "FAILURE TO STOP AT RED LIGHT",
         "offsetgroup": "FAILURE TO STOP AT RED LIGHT",
         "orientation": "v",
         "showlegend": true,
         "type": "histogram",
         "x": [
          "BK",
          "BX",
          "MN",
          "QN",
          "ST"
         ],
         "xaxis": "x",
         "y": [
          1182090,
          85092,
          26522,
          893344,
          82752
         ],
         "yaxis": "y"
        },
        {
         "alignmentgroup": "True",
         "bingroup": "x",
         "histfunc": "sum",
         "hovertemplate": "violation=FIRE HYDRANT<br>borough=%{x}<br>sum of count=%{y}<extra></extra>",
         "legendgroup": "FIRE HYDRANT",
         "marker": {
          "color": "#19d3f3",
          "pattern": {
           "shape": ""
          }
         },
         "name": "FIRE HYDRANT",
         "offsetgroup": "FIRE HYDRANT",
         "orientation": "v",
         "showlegend": true,
         "type": "histogram",
         "x": [
          "BK",
          "BX"
         ],
         "xaxis": "x",
         "y": [
          303966,
          14182
         ],
         "yaxis": "y"
        },
        {
         "alignmentgroup": "True",
         "bingroup": "x",
         "histfunc": "sum",
         "hovertemplate": "violation=FRONT OR BACK PLATE MISSING<br>borough=%{x}<br>sum of count=%{y}<extra></extra>",
         "legendgroup": "FRONT OR BACK PLATE MISSING",
         "marker": {
          "color": "#FF6692",
          "pattern": {
           "shape": ""
          }
         },
         "name": "FRONT OR BACK PLATE MISSING",
         "offsetgroup": "FRONT OR BACK PLATE MISSING",
         "orientation": "v",
         "showlegend": true,
         "type": "histogram",
         "x": [
          "BK"
         ],
         "xaxis": "x",
         "y": [
          67548
         ],
         "yaxis": "y"
        },
        {
         "alignmentgroup": "True",
         "bingroup": "x",
         "histfunc": "sum",
         "hovertemplate": "violation=INSP. STICKER-EXPIRED/MISSING<br>borough=%{x}<br>sum of count=%{y}<extra></extra>",
         "legendgroup": "INSP. STICKER-EXPIRED/MISSING",
         "marker": {
          "color": "#B6E880",
          "pattern": {
           "shape": ""
          }
         },
         "name": "INSP. STICKER-EXPIRED/MISSING",
         "offsetgroup": "INSP. STICKER-EXPIRED/MISSING",
         "orientation": "v",
         "showlegend": true,
         "type": "histogram",
         "x": [
          "BK",
          "BX",
          "QN"
         ],
         "xaxis": "x",
         "y": [
          67548,
          14182,
          111668
         ],
         "yaxis": "y"
        },
        {
         "alignmentgroup": "True",
         "bingroup": "x",
         "histfunc": "sum",
         "hovertemplate": "violation=NGHT PKG ON RESID STR-COMM VEH<br>borough=%{x}<br>sum of count=%{y}<extra></extra>",
         "legendgroup": "NGHT PKG ON RESID STR-COMM VEH",
         "marker": {
          "color": "#FF97FF",
          "pattern": {
           "shape": ""
          }
         },
         "name": "NGHT PKG ON RESID STR-COMM VEH",
         "offsetgroup": "NGHT PKG ON RESID STR-COMM VEH",
         "orientation": "v",
         "showlegend": true,
         "type": "histogram",
         "x": [
          "QN"
         ],
         "xaxis": "x",
         "y": [
          83751
         ],
         "yaxis": "y"
        },
        {
         "alignmentgroup": "True",
         "bingroup": "x",
         "histfunc": "sum",
         "hovertemplate": "violation=NO PARKING-DAY/TIME LIMITS<br>borough=%{x}<br>sum of count=%{y}<extra></extra>",
         "legendgroup": "NO PARKING-DAY/TIME LIMITS",
         "marker": {
          "color": "#FECB52",
          "pattern": {
           "shape": ""
          }
         },
         "name": "NO PARKING-DAY/TIME LIMITS",
         "offsetgroup": "NO PARKING-DAY/TIME LIMITS",
         "orientation": "v",
         "showlegend": true,
         "type": "histogram",
         "x": [
          "BK",
          "BX",
          "QN"
         ],
         "xaxis": "x",
         "y": [
          101322,
          14182,
          55834
         ],
         "yaxis": "y"
        },
        {
         "alignmentgroup": "True",
         "bingroup": "x",
         "histfunc": "sum",
         "hovertemplate": "violation=NO PARKING-STREET CLEANING<br>borough=%{x}<br>sum of count=%{y}<extra></extra>",
         "legendgroup": "NO PARKING-STREET CLEANING",
         "marker": {
          "color": "#636efa",
          "pattern": {
           "shape": ""
          }
         },
         "name": "NO PARKING-STREET CLEANING",
         "offsetgroup": "NO PARKING-STREET CLEANING",
         "orientation": "v",
         "showlegend": true,
         "type": "histogram",
         "x": [
          "BK",
          "BX",
          "QN"
         ],
         "xaxis": "x",
         "y": [
          540384,
          28364,
          139585
         ],
         "yaxis": "y"
        },
        {
         "alignmentgroup": "True",
         "bingroup": "x",
         "histfunc": "sum",
         "hovertemplate": "violation=NO STANDING-BUS STOP<br>borough=%{x}<br>sum of count=%{y}<extra></extra>",
         "legendgroup": "NO STANDING-BUS STOP",
         "marker": {
          "color": "#EF553B",
          "pattern": {
           "shape": ""
          }
         },
         "name": "NO STANDING-BUS STOP",
         "offsetgroup": "NO STANDING-BUS STOP",
         "orientation": "v",
         "showlegend": true,
         "type": "histogram",
         "x": [
          "BX",
          "QN"
         ],
         "xaxis": "x",
         "y": [
          28364,
          55834
         ],
         "yaxis": "y"
        },
        {
         "alignmentgroup": "True",
         "bingroup": "x",
         "histfunc": "sum",
         "hovertemplate": "violation=NO STANDING-DAY/TIME LIMITS<br>borough=%{x}<br>sum of count=%{y}<extra></extra>",
         "legendgroup": "NO STANDING-DAY/TIME LIMITS",
         "marker": {
          "color": "#00cc96",
          "pattern": {
           "shape": ""
          }
         },
         "name": "NO STANDING-DAY/TIME LIMITS",
         "offsetgroup": "NO STANDING-DAY/TIME LIMITS",
         "orientation": "v",
         "showlegend": true,
         "type": "histogram",
         "x": [
          "BK",
          "BX"
         ],
         "xaxis": "x",
         "y": [
          202644,
          28364
         ],
         "yaxis": "y"
        },
        {
         "alignmentgroup": "True",
         "bingroup": "x",
         "histfunc": "sum",
         "hovertemplate": "violation=NO STANDING-EXC. TRUCK LOADING<br>borough=%{x}<br>sum of count=%{y}<extra></extra>",
         "legendgroup": "NO STANDING-EXC. TRUCK LOADING",
         "marker": {
          "color": "#ab63fa",
          "pattern": {
           "shape": ""
          }
         },
         "name": "NO STANDING-EXC. TRUCK LOADING",
         "offsetgroup": "NO STANDING-EXC. TRUCK LOADING",
         "orientation": "v",
         "showlegend": true,
         "type": "histogram",
         "x": [
          "BK",
          "QN"
         ],
         "xaxis": "x",
         "y": [
          33774,
          27917
         ],
         "yaxis": "y"
        },
        {
         "alignmentgroup": "True",
         "bingroup": "x",
         "histfunc": "sum",
         "hovertemplate": "violation=OBSTRUCTING DRIVEWAY<br>borough=%{x}<br>sum of count=%{y}<extra></extra>",
         "legendgroup": "OBSTRUCTING DRIVEWAY",
         "marker": {
          "color": "#FFA15A",
          "pattern": {
           "shape": ""
          }
         },
         "name": "OBSTRUCTING DRIVEWAY",
         "offsetgroup": "OBSTRUCTING DRIVEWAY",
         "orientation": "v",
         "showlegend": true,
         "type": "histogram",
         "x": [
          "BK"
         ],
         "xaxis": "x",
         "y": [
          33774
         ],
         "yaxis": "y"
        },
        {
         "alignmentgroup": "True",
         "bingroup": "x",
         "histfunc": "sum",
         "hovertemplate": "violation=PHTO SCHOOL ZN SPEED VIOLATION<br>borough=%{x}<br>sum of count=%{y}<extra></extra>",
         "legendgroup": "PHTO SCHOOL ZN SPEED VIOLATION",
         "marker": {
          "color": "#19d3f3",
          "pattern": {
           "shape": ""
          }
         },
         "name": "PHTO SCHOOL ZN SPEED VIOLATION",
         "offsetgroup": "PHTO SCHOOL ZN SPEED VIOLATION",
         "orientation": "v",
         "showlegend": true,
         "type": "histogram",
         "x": [
          "BK",
          "BX",
          "MN",
          "QN",
          "ST"
         ],
         "xaxis": "x",
         "y": [
          3580044,
          737464,
          251959,
          3629210,
          151712
         ],
         "yaxis": "y"
        },
        {
         "alignmentgroup": "True",
         "bingroup": "x",
         "histfunc": "sum",
         "hovertemplate": "violation=REG. STICKER-EXPIRED/MISSING<br>borough=%{x}<br>sum of count=%{y}<extra></extra>",
         "legendgroup": "REG. STICKER-EXPIRED/MISSING",
         "marker": {
          "color": "#FF6692",
          "pattern": {
           "shape": ""
          }
         },
         "name": "REG. STICKER-EXPIRED/MISSING",
         "offsetgroup": "REG. STICKER-EXPIRED/MISSING",
         "orientation": "v",
         "showlegend": true,
         "type": "histogram",
         "x": [
          "BK",
          "QN"
         ],
         "xaxis": "x",
         "y": [
          236418,
          167502
         ],
         "yaxis": "y"
        },
        {
         "alignmentgroup": "True",
         "bingroup": "x",
         "histfunc": "sum",
         "hovertemplate": "violation=SAFETY ZONE<br>borough=%{x}<br>sum of count=%{y}<extra></extra>",
         "legendgroup": "SAFETY ZONE",
         "marker": {
          "color": "#B6E880",
          "pattern": {
           "shape": ""
          }
         },
         "name": "SAFETY ZONE",
         "offsetgroup": "SAFETY ZONE",
         "orientation": "v",
         "showlegend": true,
         "type": "histogram",
         "x": [
          "QN"
         ],
         "xaxis": "x",
         "y": [
          27917
         ],
         "yaxis": "y"
        },
        {
         "alignmentgroup": "True",
         "bingroup": "x",
         "histfunc": "sum",
         "hovertemplate": "violation=SIDEWALK<br>borough=%{x}<br>sum of count=%{y}<extra></extra>",
         "legendgroup": "SIDEWALK",
         "marker": {
          "color": "#FF97FF",
          "pattern": {
           "shape": ""
          }
         },
         "name": "SIDEWALK",
         "offsetgroup": "SIDEWALK",
         "orientation": "v",
         "showlegend": true,
         "type": "histogram",
         "x": [
          "BK"
         ],
         "xaxis": "x",
         "y": [
          33774
         ],
         "yaxis": "y"
        }
       ],
       "layout": {
        "barmode": "relative",
        "legend": {
         "title": {
          "text": "violation"
         },
         "tracegroupgap": 0
        },
        "template": {
         "data": {
          "bar": [
           {
            "error_x": {
             "color": "#2a3f5f"
            },
            "error_y": {
             "color": "#2a3f5f"
            },
            "marker": {
             "line": {
              "color": "#E5ECF6",
              "width": 0.5
             },
             "pattern": {
              "fillmode": "overlay",
              "size": 10,
              "solidity": 0.2
             }
            },
            "type": "bar"
           }
          ],
          "barpolar": [
           {
            "marker": {
             "line": {
              "color": "#E5ECF6",
              "width": 0.5
             },
             "pattern": {
              "fillmode": "overlay",
              "size": 10,
              "solidity": 0.2
             }
            },
            "type": "barpolar"
           }
          ],
          "carpet": [
           {
            "aaxis": {
             "endlinecolor": "#2a3f5f",
             "gridcolor": "white",
             "linecolor": "white",
             "minorgridcolor": "white",
             "startlinecolor": "#2a3f5f"
            },
            "baxis": {
             "endlinecolor": "#2a3f5f",
             "gridcolor": "white",
             "linecolor": "white",
             "minorgridcolor": "white",
             "startlinecolor": "#2a3f5f"
            },
            "type": "carpet"
           }
          ],
          "choropleth": [
           {
            "colorbar": {
             "outlinewidth": 0,
             "ticks": ""
            },
            "type": "choropleth"
           }
          ],
          "contour": [
           {
            "colorbar": {
             "outlinewidth": 0,
             "ticks": ""
            },
            "colorscale": [
             [
              0,
              "#0d0887"
             ],
             [
              0.1111111111111111,
              "#46039f"
             ],
             [
              0.2222222222222222,
              "#7201a8"
             ],
             [
              0.3333333333333333,
              "#9c179e"
             ],
             [
              0.4444444444444444,
              "#bd3786"
             ],
             [
              0.5555555555555556,
              "#d8576b"
             ],
             [
              0.6666666666666666,
              "#ed7953"
             ],
             [
              0.7777777777777778,
              "#fb9f3a"
             ],
             [
              0.8888888888888888,
              "#fdca26"
             ],
             [
              1,
              "#f0f921"
             ]
            ],
            "type": "contour"
           }
          ],
          "contourcarpet": [
           {
            "colorbar": {
             "outlinewidth": 0,
             "ticks": ""
            },
            "type": "contourcarpet"
           }
          ],
          "heatmap": [
           {
            "colorbar": {
             "outlinewidth": 0,
             "ticks": ""
            },
            "colorscale": [
             [
              0,
              "#0d0887"
             ],
             [
              0.1111111111111111,
              "#46039f"
             ],
             [
              0.2222222222222222,
              "#7201a8"
             ],
             [
              0.3333333333333333,
              "#9c179e"
             ],
             [
              0.4444444444444444,
              "#bd3786"
             ],
             [
              0.5555555555555556,
              "#d8576b"
             ],
             [
              0.6666666666666666,
              "#ed7953"
             ],
             [
              0.7777777777777778,
              "#fb9f3a"
             ],
             [
              0.8888888888888888,
              "#fdca26"
             ],
             [
              1,
              "#f0f921"
             ]
            ],
            "type": "heatmap"
           }
          ],
          "heatmapgl": [
           {
            "colorbar": {
             "outlinewidth": 0,
             "ticks": ""
            },
            "colorscale": [
             [
              0,
              "#0d0887"
             ],
             [
              0.1111111111111111,
              "#46039f"
             ],
             [
              0.2222222222222222,
              "#7201a8"
             ],
             [
              0.3333333333333333,
              "#9c179e"
             ],
             [
              0.4444444444444444,
              "#bd3786"
             ],
             [
              0.5555555555555556,
              "#d8576b"
             ],
             [
              0.6666666666666666,
              "#ed7953"
             ],
             [
              0.7777777777777778,
              "#fb9f3a"
             ],
             [
              0.8888888888888888,
              "#fdca26"
             ],
             [
              1,
              "#f0f921"
             ]
            ],
            "type": "heatmapgl"
           }
          ],
          "histogram": [
           {
            "marker": {
             "pattern": {
              "fillmode": "overlay",
              "size": 10,
              "solidity": 0.2
             }
            },
            "type": "histogram"
           }
          ],
          "histogram2d": [
           {
            "colorbar": {
             "outlinewidth": 0,
             "ticks": ""
            },
            "colorscale": [
             [
              0,
              "#0d0887"
             ],
             [
              0.1111111111111111,
              "#46039f"
             ],
             [
              0.2222222222222222,
              "#7201a8"
             ],
             [
              0.3333333333333333,
              "#9c179e"
             ],
             [
              0.4444444444444444,
              "#bd3786"
             ],
             [
              0.5555555555555556,
              "#d8576b"
             ],
             [
              0.6666666666666666,
              "#ed7953"
             ],
             [
              0.7777777777777778,
              "#fb9f3a"
             ],
             [
              0.8888888888888888,
              "#fdca26"
             ],
             [
              1,
              "#f0f921"
             ]
            ],
            "type": "histogram2d"
           }
          ],
          "histogram2dcontour": [
           {
            "colorbar": {
             "outlinewidth": 0,
             "ticks": ""
            },
            "colorscale": [
             [
              0,
              "#0d0887"
             ],
             [
              0.1111111111111111,
              "#46039f"
             ],
             [
              0.2222222222222222,
              "#7201a8"
             ],
             [
              0.3333333333333333,
              "#9c179e"
             ],
             [
              0.4444444444444444,
              "#bd3786"
             ],
             [
              0.5555555555555556,
              "#d8576b"
             ],
             [
              0.6666666666666666,
              "#ed7953"
             ],
             [
              0.7777777777777778,
              "#fb9f3a"
             ],
             [
              0.8888888888888888,
              "#fdca26"
             ],
             [
              1,
              "#f0f921"
             ]
            ],
            "type": "histogram2dcontour"
           }
          ],
          "mesh3d": [
           {
            "colorbar": {
             "outlinewidth": 0,
             "ticks": ""
            },
            "type": "mesh3d"
           }
          ],
          "parcoords": [
           {
            "line": {
             "colorbar": {
              "outlinewidth": 0,
              "ticks": ""
             }
            },
            "type": "parcoords"
           }
          ],
          "pie": [
           {
            "automargin": true,
            "type": "pie"
           }
          ],
          "scatter": [
           {
            "fillpattern": {
             "fillmode": "overlay",
             "size": 10,
             "solidity": 0.2
            },
            "type": "scatter"
           }
          ],
          "scatter3d": [
           {
            "line": {
             "colorbar": {
              "outlinewidth": 0,
              "ticks": ""
             }
            },
            "marker": {
             "colorbar": {
              "outlinewidth": 0,
              "ticks": ""
             }
            },
            "type": "scatter3d"
           }
          ],
          "scattercarpet": [
           {
            "marker": {
             "colorbar": {
              "outlinewidth": 0,
              "ticks": ""
             }
            },
            "type": "scattercarpet"
           }
          ],
          "scattergeo": [
           {
            "marker": {
             "colorbar": {
              "outlinewidth": 0,
              "ticks": ""
             }
            },
            "type": "scattergeo"
           }
          ],
          "scattergl": [
           {
            "marker": {
             "colorbar": {
              "outlinewidth": 0,
              "ticks": ""
             }
            },
            "type": "scattergl"
           }
          ],
          "scattermapbox": [
           {
            "marker": {
             "colorbar": {
              "outlinewidth": 0,
              "ticks": ""
             }
            },
            "type": "scattermapbox"
           }
          ],
          "scatterpolar": [
           {
            "marker": {
             "colorbar": {
              "outlinewidth": 0,
              "ticks": ""
             }
            },
            "type": "scatterpolar"
           }
          ],
          "scatterpolargl": [
           {
            "marker": {
             "colorbar": {
              "outlinewidth": 0,
              "ticks": ""
             }
            },
            "type": "scatterpolargl"
           }
          ],
          "scatterternary": [
           {
            "marker": {
             "colorbar": {
              "outlinewidth": 0,
              "ticks": ""
             }
            },
            "type": "scatterternary"
           }
          ],
          "surface": [
           {
            "colorbar": {
             "outlinewidth": 0,
             "ticks": ""
            },
            "colorscale": [
             [
              0,
              "#0d0887"
             ],
             [
              0.1111111111111111,
              "#46039f"
             ],
             [
              0.2222222222222222,
              "#7201a8"
             ],
             [
              0.3333333333333333,
              "#9c179e"
             ],
             [
              0.4444444444444444,
              "#bd3786"
             ],
             [
              0.5555555555555556,
              "#d8576b"
             ],
             [
              0.6666666666666666,
              "#ed7953"
             ],
             [
              0.7777777777777778,
              "#fb9f3a"
             ],
             [
              0.8888888888888888,
              "#fdca26"
             ],
             [
              1,
              "#f0f921"
             ]
            ],
            "type": "surface"
           }
          ],
          "table": [
           {
            "cells": {
             "fill": {
              "color": "#EBF0F8"
             },
             "line": {
              "color": "white"
             }
            },
            "header": {
             "fill": {
              "color": "#C8D4E3"
             },
             "line": {
              "color": "white"
             }
            },
            "type": "table"
           }
          ]
         },
         "layout": {
          "annotationdefaults": {
           "arrowcolor": "#2a3f5f",
           "arrowhead": 0,
           "arrowwidth": 1
          },
          "autotypenumbers": "strict",
          "coloraxis": {
           "colorbar": {
            "outlinewidth": 0,
            "ticks": ""
           }
          },
          "colorscale": {
           "diverging": [
            [
             0,
             "#8e0152"
            ],
            [
             0.1,
             "#c51b7d"
            ],
            [
             0.2,
             "#de77ae"
            ],
            [
             0.3,
             "#f1b6da"
            ],
            [
             0.4,
             "#fde0ef"
            ],
            [
             0.5,
             "#f7f7f7"
            ],
            [
             0.6,
             "#e6f5d0"
            ],
            [
             0.7,
             "#b8e186"
            ],
            [
             0.8,
             "#7fbc41"
            ],
            [
             0.9,
             "#4d9221"
            ],
            [
             1,
             "#276419"
            ]
           ],
           "sequential": [
            [
             0,
             "#0d0887"
            ],
            [
             0.1111111111111111,
             "#46039f"
            ],
            [
             0.2222222222222222,
             "#7201a8"
            ],
            [
             0.3333333333333333,
             "#9c179e"
            ],
            [
             0.4444444444444444,
             "#bd3786"
            ],
            [
             0.5555555555555556,
             "#d8576b"
            ],
            [
             0.6666666666666666,
             "#ed7953"
            ],
            [
             0.7777777777777778,
             "#fb9f3a"
            ],
            [
             0.8888888888888888,
             "#fdca26"
            ],
            [
             1,
             "#f0f921"
            ]
           ],
           "sequentialminus": [
            [
             0,
             "#0d0887"
            ],
            [
             0.1111111111111111,
             "#46039f"
            ],
            [
             0.2222222222222222,
             "#7201a8"
            ],
            [
             0.3333333333333333,
             "#9c179e"
            ],
            [
             0.4444444444444444,
             "#bd3786"
            ],
            [
             0.5555555555555556,
             "#d8576b"
            ],
            [
             0.6666666666666666,
             "#ed7953"
            ],
            [
             0.7777777777777778,
             "#fb9f3a"
            ],
            [
             0.8888888888888888,
             "#fdca26"
            ],
            [
             1,
             "#f0f921"
            ]
           ]
          },
          "colorway": [
           "#636efa",
           "#EF553B",
           "#00cc96",
           "#ab63fa",
           "#FFA15A",
           "#19d3f3",
           "#FF6692",
           "#B6E880",
           "#FF97FF",
           "#FECB52"
          ],
          "font": {
           "color": "#2a3f5f"
          },
          "geo": {
           "bgcolor": "white",
           "lakecolor": "white",
           "landcolor": "#E5ECF6",
           "showlakes": true,
           "showland": true,
           "subunitcolor": "white"
          },
          "hoverlabel": {
           "align": "left"
          },
          "hovermode": "closest",
          "mapbox": {
           "style": "light"
          },
          "paper_bgcolor": "white",
          "plot_bgcolor": "#E5ECF6",
          "polar": {
           "angularaxis": {
            "gridcolor": "white",
            "linecolor": "white",
            "ticks": ""
           },
           "bgcolor": "#E5ECF6",
           "radialaxis": {
            "gridcolor": "white",
            "linecolor": "white",
            "ticks": ""
           }
          },
          "scene": {
           "xaxis": {
            "backgroundcolor": "#E5ECF6",
            "gridcolor": "white",
            "gridwidth": 2,
            "linecolor": "white",
            "showbackground": true,
            "ticks": "",
            "zerolinecolor": "white"
           },
           "yaxis": {
            "backgroundcolor": "#E5ECF6",
            "gridcolor": "white",
            "gridwidth": 2,
            "linecolor": "white",
            "showbackground": true,
            "ticks": "",
            "zerolinecolor": "white"
           },
           "zaxis": {
            "backgroundcolor": "#E5ECF6",
            "gridcolor": "white",
            "gridwidth": 2,
            "linecolor": "white",
            "showbackground": true,
            "ticks": "",
            "zerolinecolor": "white"
           }
          },
          "shapedefaults": {
           "line": {
            "color": "#2a3f5f"
           }
          },
          "ternary": {
           "aaxis": {
            "gridcolor": "white",
            "linecolor": "white",
            "ticks": ""
           },
           "baxis": {
            "gridcolor": "white",
            "linecolor": "white",
            "ticks": ""
           },
           "bgcolor": "#E5ECF6",
           "caxis": {
            "gridcolor": "white",
            "linecolor": "white",
            "ticks": ""
           }
          },
          "title": {
           "x": 0.05
          },
          "xaxis": {
           "automargin": true,
           "gridcolor": "white",
           "linecolor": "white",
           "ticks": "",
           "title": {
            "standoff": 15
           },
           "zerolinecolor": "white",
           "zerolinewidth": 2
          },
          "yaxis": {
           "automargin": true,
           "gridcolor": "white",
           "linecolor": "white",
           "ticks": "",
           "title": {
            "standoff": 15
           },
           "zerolinecolor": "white",
           "zerolinewidth": 2
          }
         }
        },
        "title": {
         "text": "NY Parking Violation in Sep 2018"
        },
        "xaxis": {
         "anchor": "y",
         "domain": [
          0,
          1
         ],
         "title": {
          "text": "borough"
         }
        },
        "yaxis": {
         "anchor": "x",
         "domain": [
          0,
          1
         ],
         "title": {
          "text": "sum of count"
         }
        }
       }
      },
      "text/html": [
       "<div>                            <div id=\"f153cde3-5e70-4ea2-8eed-62bf2da4b2d8\" class=\"plotly-graph-div\" style=\"height:525px; width:100%;\"></div>            <script type=\"text/javascript\">                require([\"plotly\"], function(Plotly) {                    window.PLOTLYENV=window.PLOTLYENV || {};                                    if (document.getElementById(\"f153cde3-5e70-4ea2-8eed-62bf2da4b2d8\")) {                    Plotly.newPlot(                        \"f153cde3-5e70-4ea2-8eed-62bf2da4b2d8\",                        [{\"alignmentgroup\":\"True\",\"bingroup\":\"x\",\"histfunc\":\"sum\",\"hovertemplate\":\"violation=CROSSWALK\\u003cbr\\u003eborough=%{x}\\u003cbr\\u003esum of count=%{y}\\u003cextra\\u003e\\u003c\\u002fextra\\u003e\",\"legendgroup\":\"CROSSWALK\",\"marker\":{\"color\":\"#636efa\",\"pattern\":{\"shape\":\"\"}},\"name\":\"CROSSWALK\",\"offsetgroup\":\"CROSSWALK\",\"orientation\":\"v\",\"showlegend\":true,\"x\":[\"BK\"],\"xaxis\":\"x\",\"y\":[33774],\"yaxis\":\"y\",\"type\":\"histogram\"},{\"alignmentgroup\":\"True\",\"bingroup\":\"x\",\"histfunc\":\"sum\",\"hovertemplate\":\"violation=DOUBLE PARKING\\u003cbr\\u003eborough=%{x}\\u003cbr\\u003esum of count=%{y}\\u003cextra\\u003e\\u003c\\u002fextra\\u003e\",\"legendgroup\":\"DOUBLE PARKING\",\"marker\":{\"color\":\"#EF553B\",\"pattern\":{\"shape\":\"\"}},\"name\":\"DOUBLE PARKING\",\"offsetgroup\":\"DOUBLE PARKING\",\"orientation\":\"v\",\"showlegend\":true,\"x\":[\"BK\",\"BX\"],\"xaxis\":\"x\",\"y\":[101322,14182],\"yaxis\":\"y\",\"type\":\"histogram\"},{\"alignmentgroup\":\"True\",\"bingroup\":\"x\",\"histfunc\":\"sum\",\"hovertemplate\":\"violation=EXPIRED MUNI METER\\u003cbr\\u003eborough=%{x}\\u003cbr\\u003esum of count=%{y}\\u003cextra\\u003e\\u003c\\u002fextra\\u003e\",\"legendgroup\":\"EXPIRED MUNI METER\",\"marker\":{\"color\":\"#00cc96\",\"pattern\":{\"shape\":\"\"}},\"name\":\"EXPIRED MUNI METER\",\"offsetgroup\":\"EXPIRED MUNI METER\",\"orientation\":\"v\",\"showlegend\":true,\"x\":[\"BK\"],\"xaxis\":\"x\",\"y\":[33774],\"yaxis\":\"y\",\"type\":\"histogram\"},{\"alignmentgroup\":\"True\",\"bingroup\":\"x\",\"histfunc\":\"sum\",\"hovertemplate\":\"violation=FAIL TO DSPLY MUNI METER RECPT\\u003cbr\\u003eborough=%{x}\\u003cbr\\u003esum of count=%{y}\\u003cextra\\u003e\\u003c\\u002fextra\\u003e\",\"legendgroup\":\"FAIL TO DSPLY MUNI METER RECPT\",\"marker\":{\"color\":\"#ab63fa\",\"pattern\":{\"shape\":\"\"}},\"name\":\"FAIL TO DSPLY MUNI METER RECPT\",\"offsetgroup\":\"FAIL TO DSPLY MUNI METER RECPT\",\"orientation\":\"v\",\"showlegend\":true,\"x\":[\"BK\",\"BX\",\"QN\"],\"xaxis\":\"x\",\"y\":[135096,14182,223336],\"yaxis\":\"y\",\"type\":\"histogram\"},{\"alignmentgroup\":\"True\",\"bingroup\":\"x\",\"histfunc\":\"sum\",\"hovertemplate\":\"violation=FAILURE TO STOP AT RED LIGHT\\u003cbr\\u003eborough=%{x}\\u003cbr\\u003esum of count=%{y}\\u003cextra\\u003e\\u003c\\u002fextra\\u003e\",\"legendgroup\":\"FAILURE TO STOP AT RED LIGHT\",\"marker\":{\"color\":\"#FFA15A\",\"pattern\":{\"shape\":\"\"}},\"name\":\"FAILURE TO STOP AT RED LIGHT\",\"offsetgroup\":\"FAILURE TO STOP AT RED LIGHT\",\"orientation\":\"v\",\"showlegend\":true,\"x\":[\"BK\",\"BX\",\"MN\",\"QN\",\"ST\"],\"xaxis\":\"x\",\"y\":[1182090,85092,26522,893344,82752],\"yaxis\":\"y\",\"type\":\"histogram\"},{\"alignmentgroup\":\"True\",\"bingroup\":\"x\",\"histfunc\":\"sum\",\"hovertemplate\":\"violation=FIRE HYDRANT\\u003cbr\\u003eborough=%{x}\\u003cbr\\u003esum of count=%{y}\\u003cextra\\u003e\\u003c\\u002fextra\\u003e\",\"legendgroup\":\"FIRE HYDRANT\",\"marker\":{\"color\":\"#19d3f3\",\"pattern\":{\"shape\":\"\"}},\"name\":\"FIRE HYDRANT\",\"offsetgroup\":\"FIRE HYDRANT\",\"orientation\":\"v\",\"showlegend\":true,\"x\":[\"BK\",\"BX\"],\"xaxis\":\"x\",\"y\":[303966,14182],\"yaxis\":\"y\",\"type\":\"histogram\"},{\"alignmentgroup\":\"True\",\"bingroup\":\"x\",\"histfunc\":\"sum\",\"hovertemplate\":\"violation=FRONT OR BACK PLATE MISSING\\u003cbr\\u003eborough=%{x}\\u003cbr\\u003esum of count=%{y}\\u003cextra\\u003e\\u003c\\u002fextra\\u003e\",\"legendgroup\":\"FRONT OR BACK PLATE MISSING\",\"marker\":{\"color\":\"#FF6692\",\"pattern\":{\"shape\":\"\"}},\"name\":\"FRONT OR BACK PLATE MISSING\",\"offsetgroup\":\"FRONT OR BACK PLATE MISSING\",\"orientation\":\"v\",\"showlegend\":true,\"x\":[\"BK\"],\"xaxis\":\"x\",\"y\":[67548],\"yaxis\":\"y\",\"type\":\"histogram\"},{\"alignmentgroup\":\"True\",\"bingroup\":\"x\",\"histfunc\":\"sum\",\"hovertemplate\":\"violation=INSP. STICKER-EXPIRED\\u002fMISSING\\u003cbr\\u003eborough=%{x}\\u003cbr\\u003esum of count=%{y}\\u003cextra\\u003e\\u003c\\u002fextra\\u003e\",\"legendgroup\":\"INSP. STICKER-EXPIRED\\u002fMISSING\",\"marker\":{\"color\":\"#B6E880\",\"pattern\":{\"shape\":\"\"}},\"name\":\"INSP. STICKER-EXPIRED\\u002fMISSING\",\"offsetgroup\":\"INSP. STICKER-EXPIRED\\u002fMISSING\",\"orientation\":\"v\",\"showlegend\":true,\"x\":[\"BK\",\"BX\",\"QN\"],\"xaxis\":\"x\",\"y\":[67548,14182,111668],\"yaxis\":\"y\",\"type\":\"histogram\"},{\"alignmentgroup\":\"True\",\"bingroup\":\"x\",\"histfunc\":\"sum\",\"hovertemplate\":\"violation=NGHT PKG ON RESID STR-COMM VEH\\u003cbr\\u003eborough=%{x}\\u003cbr\\u003esum of count=%{y}\\u003cextra\\u003e\\u003c\\u002fextra\\u003e\",\"legendgroup\":\"NGHT PKG ON RESID STR-COMM VEH\",\"marker\":{\"color\":\"#FF97FF\",\"pattern\":{\"shape\":\"\"}},\"name\":\"NGHT PKG ON RESID STR-COMM VEH\",\"offsetgroup\":\"NGHT PKG ON RESID STR-COMM VEH\",\"orientation\":\"v\",\"showlegend\":true,\"x\":[\"QN\"],\"xaxis\":\"x\",\"y\":[83751],\"yaxis\":\"y\",\"type\":\"histogram\"},{\"alignmentgroup\":\"True\",\"bingroup\":\"x\",\"histfunc\":\"sum\",\"hovertemplate\":\"violation=NO PARKING-DAY\\u002fTIME LIMITS\\u003cbr\\u003eborough=%{x}\\u003cbr\\u003esum of count=%{y}\\u003cextra\\u003e\\u003c\\u002fextra\\u003e\",\"legendgroup\":\"NO PARKING-DAY\\u002fTIME LIMITS\",\"marker\":{\"color\":\"#FECB52\",\"pattern\":{\"shape\":\"\"}},\"name\":\"NO PARKING-DAY\\u002fTIME LIMITS\",\"offsetgroup\":\"NO PARKING-DAY\\u002fTIME LIMITS\",\"orientation\":\"v\",\"showlegend\":true,\"x\":[\"BK\",\"BX\",\"QN\"],\"xaxis\":\"x\",\"y\":[101322,14182,55834],\"yaxis\":\"y\",\"type\":\"histogram\"},{\"alignmentgroup\":\"True\",\"bingroup\":\"x\",\"histfunc\":\"sum\",\"hovertemplate\":\"violation=NO PARKING-STREET CLEANING\\u003cbr\\u003eborough=%{x}\\u003cbr\\u003esum of count=%{y}\\u003cextra\\u003e\\u003c\\u002fextra\\u003e\",\"legendgroup\":\"NO PARKING-STREET CLEANING\",\"marker\":{\"color\":\"#636efa\",\"pattern\":{\"shape\":\"\"}},\"name\":\"NO PARKING-STREET CLEANING\",\"offsetgroup\":\"NO PARKING-STREET CLEANING\",\"orientation\":\"v\",\"showlegend\":true,\"x\":[\"BK\",\"BX\",\"QN\"],\"xaxis\":\"x\",\"y\":[540384,28364,139585],\"yaxis\":\"y\",\"type\":\"histogram\"},{\"alignmentgroup\":\"True\",\"bingroup\":\"x\",\"histfunc\":\"sum\",\"hovertemplate\":\"violation=NO STANDING-BUS STOP\\u003cbr\\u003eborough=%{x}\\u003cbr\\u003esum of count=%{y}\\u003cextra\\u003e\\u003c\\u002fextra\\u003e\",\"legendgroup\":\"NO STANDING-BUS STOP\",\"marker\":{\"color\":\"#EF553B\",\"pattern\":{\"shape\":\"\"}},\"name\":\"NO STANDING-BUS STOP\",\"offsetgroup\":\"NO STANDING-BUS STOP\",\"orientation\":\"v\",\"showlegend\":true,\"x\":[\"BX\",\"QN\"],\"xaxis\":\"x\",\"y\":[28364,55834],\"yaxis\":\"y\",\"type\":\"histogram\"},{\"alignmentgroup\":\"True\",\"bingroup\":\"x\",\"histfunc\":\"sum\",\"hovertemplate\":\"violation=NO STANDING-DAY\\u002fTIME LIMITS\\u003cbr\\u003eborough=%{x}\\u003cbr\\u003esum of count=%{y}\\u003cextra\\u003e\\u003c\\u002fextra\\u003e\",\"legendgroup\":\"NO STANDING-DAY\\u002fTIME LIMITS\",\"marker\":{\"color\":\"#00cc96\",\"pattern\":{\"shape\":\"\"}},\"name\":\"NO STANDING-DAY\\u002fTIME LIMITS\",\"offsetgroup\":\"NO STANDING-DAY\\u002fTIME LIMITS\",\"orientation\":\"v\",\"showlegend\":true,\"x\":[\"BK\",\"BX\"],\"xaxis\":\"x\",\"y\":[202644,28364],\"yaxis\":\"y\",\"type\":\"histogram\"},{\"alignmentgroup\":\"True\",\"bingroup\":\"x\",\"histfunc\":\"sum\",\"hovertemplate\":\"violation=NO STANDING-EXC. TRUCK LOADING\\u003cbr\\u003eborough=%{x}\\u003cbr\\u003esum of count=%{y}\\u003cextra\\u003e\\u003c\\u002fextra\\u003e\",\"legendgroup\":\"NO STANDING-EXC. TRUCK LOADING\",\"marker\":{\"color\":\"#ab63fa\",\"pattern\":{\"shape\":\"\"}},\"name\":\"NO STANDING-EXC. TRUCK LOADING\",\"offsetgroup\":\"NO STANDING-EXC. TRUCK LOADING\",\"orientation\":\"v\",\"showlegend\":true,\"x\":[\"BK\",\"QN\"],\"xaxis\":\"x\",\"y\":[33774,27917],\"yaxis\":\"y\",\"type\":\"histogram\"},{\"alignmentgroup\":\"True\",\"bingroup\":\"x\",\"histfunc\":\"sum\",\"hovertemplate\":\"violation=OBSTRUCTING DRIVEWAY\\u003cbr\\u003eborough=%{x}\\u003cbr\\u003esum of count=%{y}\\u003cextra\\u003e\\u003c\\u002fextra\\u003e\",\"legendgroup\":\"OBSTRUCTING DRIVEWAY\",\"marker\":{\"color\":\"#FFA15A\",\"pattern\":{\"shape\":\"\"}},\"name\":\"OBSTRUCTING DRIVEWAY\",\"offsetgroup\":\"OBSTRUCTING DRIVEWAY\",\"orientation\":\"v\",\"showlegend\":true,\"x\":[\"BK\"],\"xaxis\":\"x\",\"y\":[33774],\"yaxis\":\"y\",\"type\":\"histogram\"},{\"alignmentgroup\":\"True\",\"bingroup\":\"x\",\"histfunc\":\"sum\",\"hovertemplate\":\"violation=PHTO SCHOOL ZN SPEED VIOLATION\\u003cbr\\u003eborough=%{x}\\u003cbr\\u003esum of count=%{y}\\u003cextra\\u003e\\u003c\\u002fextra\\u003e\",\"legendgroup\":\"PHTO SCHOOL ZN SPEED VIOLATION\",\"marker\":{\"color\":\"#19d3f3\",\"pattern\":{\"shape\":\"\"}},\"name\":\"PHTO SCHOOL ZN SPEED VIOLATION\",\"offsetgroup\":\"PHTO SCHOOL ZN SPEED VIOLATION\",\"orientation\":\"v\",\"showlegend\":true,\"x\":[\"BK\",\"BX\",\"MN\",\"QN\",\"ST\"],\"xaxis\":\"x\",\"y\":[3580044,737464,251959,3629210,151712],\"yaxis\":\"y\",\"type\":\"histogram\"},{\"alignmentgroup\":\"True\",\"bingroup\":\"x\",\"histfunc\":\"sum\",\"hovertemplate\":\"violation=REG. STICKER-EXPIRED\\u002fMISSING\\u003cbr\\u003eborough=%{x}\\u003cbr\\u003esum of count=%{y}\\u003cextra\\u003e\\u003c\\u002fextra\\u003e\",\"legendgroup\":\"REG. STICKER-EXPIRED\\u002fMISSING\",\"marker\":{\"color\":\"#FF6692\",\"pattern\":{\"shape\":\"\"}},\"name\":\"REG. STICKER-EXPIRED\\u002fMISSING\",\"offsetgroup\":\"REG. STICKER-EXPIRED\\u002fMISSING\",\"orientation\":\"v\",\"showlegend\":true,\"x\":[\"BK\",\"QN\"],\"xaxis\":\"x\",\"y\":[236418,167502],\"yaxis\":\"y\",\"type\":\"histogram\"},{\"alignmentgroup\":\"True\",\"bingroup\":\"x\",\"histfunc\":\"sum\",\"hovertemplate\":\"violation=SAFETY ZONE\\u003cbr\\u003eborough=%{x}\\u003cbr\\u003esum of count=%{y}\\u003cextra\\u003e\\u003c\\u002fextra\\u003e\",\"legendgroup\":\"SAFETY ZONE\",\"marker\":{\"color\":\"#B6E880\",\"pattern\":{\"shape\":\"\"}},\"name\":\"SAFETY ZONE\",\"offsetgroup\":\"SAFETY ZONE\",\"orientation\":\"v\",\"showlegend\":true,\"x\":[\"QN\"],\"xaxis\":\"x\",\"y\":[27917],\"yaxis\":\"y\",\"type\":\"histogram\"},{\"alignmentgroup\":\"True\",\"bingroup\":\"x\",\"histfunc\":\"sum\",\"hovertemplate\":\"violation=SIDEWALK\\u003cbr\\u003eborough=%{x}\\u003cbr\\u003esum of count=%{y}\\u003cextra\\u003e\\u003c\\u002fextra\\u003e\",\"legendgroup\":\"SIDEWALK\",\"marker\":{\"color\":\"#FF97FF\",\"pattern\":{\"shape\":\"\"}},\"name\":\"SIDEWALK\",\"offsetgroup\":\"SIDEWALK\",\"orientation\":\"v\",\"showlegend\":true,\"x\":[\"BK\"],\"xaxis\":\"x\",\"y\":[33774],\"yaxis\":\"y\",\"type\":\"histogram\"}],                        {\"template\":{\"data\":{\"histogram2dcontour\":[{\"type\":\"histogram2dcontour\",\"colorbar\":{\"outlinewidth\":0,\"ticks\":\"\"},\"colorscale\":[[0.0,\"#0d0887\"],[0.1111111111111111,\"#46039f\"],[0.2222222222222222,\"#7201a8\"],[0.3333333333333333,\"#9c179e\"],[0.4444444444444444,\"#bd3786\"],[0.5555555555555556,\"#d8576b\"],[0.6666666666666666,\"#ed7953\"],[0.7777777777777778,\"#fb9f3a\"],[0.8888888888888888,\"#fdca26\"],[1.0,\"#f0f921\"]]}],\"choropleth\":[{\"type\":\"choropleth\",\"colorbar\":{\"outlinewidth\":0,\"ticks\":\"\"}}],\"histogram2d\":[{\"type\":\"histogram2d\",\"colorbar\":{\"outlinewidth\":0,\"ticks\":\"\"},\"colorscale\":[[0.0,\"#0d0887\"],[0.1111111111111111,\"#46039f\"],[0.2222222222222222,\"#7201a8\"],[0.3333333333333333,\"#9c179e\"],[0.4444444444444444,\"#bd3786\"],[0.5555555555555556,\"#d8576b\"],[0.6666666666666666,\"#ed7953\"],[0.7777777777777778,\"#fb9f3a\"],[0.8888888888888888,\"#fdca26\"],[1.0,\"#f0f921\"]]}],\"heatmap\":[{\"type\":\"heatmap\",\"colorbar\":{\"outlinewidth\":0,\"ticks\":\"\"},\"colorscale\":[[0.0,\"#0d0887\"],[0.1111111111111111,\"#46039f\"],[0.2222222222222222,\"#7201a8\"],[0.3333333333333333,\"#9c179e\"],[0.4444444444444444,\"#bd3786\"],[0.5555555555555556,\"#d8576b\"],[0.6666666666666666,\"#ed7953\"],[0.7777777777777778,\"#fb9f3a\"],[0.8888888888888888,\"#fdca26\"],[1.0,\"#f0f921\"]]}],\"heatmapgl\":[{\"type\":\"heatmapgl\",\"colorbar\":{\"outlinewidth\":0,\"ticks\":\"\"},\"colorscale\":[[0.0,\"#0d0887\"],[0.1111111111111111,\"#46039f\"],[0.2222222222222222,\"#7201a8\"],[0.3333333333333333,\"#9c179e\"],[0.4444444444444444,\"#bd3786\"],[0.5555555555555556,\"#d8576b\"],[0.6666666666666666,\"#ed7953\"],[0.7777777777777778,\"#fb9f3a\"],[0.8888888888888888,\"#fdca26\"],[1.0,\"#f0f921\"]]}],\"contourcarpet\":[{\"type\":\"contourcarpet\",\"colorbar\":{\"outlinewidth\":0,\"ticks\":\"\"}}],\"contour\":[{\"type\":\"contour\",\"colorbar\":{\"outlinewidth\":0,\"ticks\":\"\"},\"colorscale\":[[0.0,\"#0d0887\"],[0.1111111111111111,\"#46039f\"],[0.2222222222222222,\"#7201a8\"],[0.3333333333333333,\"#9c179e\"],[0.4444444444444444,\"#bd3786\"],[0.5555555555555556,\"#d8576b\"],[0.6666666666666666,\"#ed7953\"],[0.7777777777777778,\"#fb9f3a\"],[0.8888888888888888,\"#fdca26\"],[1.0,\"#f0f921\"]]}],\"surface\":[{\"type\":\"surface\",\"colorbar\":{\"outlinewidth\":0,\"ticks\":\"\"},\"colorscale\":[[0.0,\"#0d0887\"],[0.1111111111111111,\"#46039f\"],[0.2222222222222222,\"#7201a8\"],[0.3333333333333333,\"#9c179e\"],[0.4444444444444444,\"#bd3786\"],[0.5555555555555556,\"#d8576b\"],[0.6666666666666666,\"#ed7953\"],[0.7777777777777778,\"#fb9f3a\"],[0.8888888888888888,\"#fdca26\"],[1.0,\"#f0f921\"]]}],\"mesh3d\":[{\"type\":\"mesh3d\",\"colorbar\":{\"outlinewidth\":0,\"ticks\":\"\"}}],\"scatter\":[{\"fillpattern\":{\"fillmode\":\"overlay\",\"size\":10,\"solidity\":0.2},\"type\":\"scatter\"}],\"parcoords\":[{\"type\":\"parcoords\",\"line\":{\"colorbar\":{\"outlinewidth\":0,\"ticks\":\"\"}}}],\"scatterpolargl\":[{\"type\":\"scatterpolargl\",\"marker\":{\"colorbar\":{\"outlinewidth\":0,\"ticks\":\"\"}}}],\"bar\":[{\"error_x\":{\"color\":\"#2a3f5f\"},\"error_y\":{\"color\":\"#2a3f5f\"},\"marker\":{\"line\":{\"color\":\"#E5ECF6\",\"width\":0.5},\"pattern\":{\"fillmode\":\"overlay\",\"size\":10,\"solidity\":0.2}},\"type\":\"bar\"}],\"scattergeo\":[{\"type\":\"scattergeo\",\"marker\":{\"colorbar\":{\"outlinewidth\":0,\"ticks\":\"\"}}}],\"scatterpolar\":[{\"type\":\"scatterpolar\",\"marker\":{\"colorbar\":{\"outlinewidth\":0,\"ticks\":\"\"}}}],\"histogram\":[{\"marker\":{\"pattern\":{\"fillmode\":\"overlay\",\"size\":10,\"solidity\":0.2}},\"type\":\"histogram\"}],\"scattergl\":[{\"type\":\"scattergl\",\"marker\":{\"colorbar\":{\"outlinewidth\":0,\"ticks\":\"\"}}}],\"scatter3d\":[{\"type\":\"scatter3d\",\"line\":{\"colorbar\":{\"outlinewidth\":0,\"ticks\":\"\"}},\"marker\":{\"colorbar\":{\"outlinewidth\":0,\"ticks\":\"\"}}}],\"scattermapbox\":[{\"type\":\"scattermapbox\",\"marker\":{\"colorbar\":{\"outlinewidth\":0,\"ticks\":\"\"}}}],\"scatterternary\":[{\"type\":\"scatterternary\",\"marker\":{\"colorbar\":{\"outlinewidth\":0,\"ticks\":\"\"}}}],\"scattercarpet\":[{\"type\":\"scattercarpet\",\"marker\":{\"colorbar\":{\"outlinewidth\":0,\"ticks\":\"\"}}}],\"carpet\":[{\"aaxis\":{\"endlinecolor\":\"#2a3f5f\",\"gridcolor\":\"white\",\"linecolor\":\"white\",\"minorgridcolor\":\"white\",\"startlinecolor\":\"#2a3f5f\"},\"baxis\":{\"endlinecolor\":\"#2a3f5f\",\"gridcolor\":\"white\",\"linecolor\":\"white\",\"minorgridcolor\":\"white\",\"startlinecolor\":\"#2a3f5f\"},\"type\":\"carpet\"}],\"table\":[{\"cells\":{\"fill\":{\"color\":\"#EBF0F8\"},\"line\":{\"color\":\"white\"}},\"header\":{\"fill\":{\"color\":\"#C8D4E3\"},\"line\":{\"color\":\"white\"}},\"type\":\"table\"}],\"barpolar\":[{\"marker\":{\"line\":{\"color\":\"#E5ECF6\",\"width\":0.5},\"pattern\":{\"fillmode\":\"overlay\",\"size\":10,\"solidity\":0.2}},\"type\":\"barpolar\"}],\"pie\":[{\"automargin\":true,\"type\":\"pie\"}]},\"layout\":{\"autotypenumbers\":\"strict\",\"colorway\":[\"#636efa\",\"#EF553B\",\"#00cc96\",\"#ab63fa\",\"#FFA15A\",\"#19d3f3\",\"#FF6692\",\"#B6E880\",\"#FF97FF\",\"#FECB52\"],\"font\":{\"color\":\"#2a3f5f\"},\"hovermode\":\"closest\",\"hoverlabel\":{\"align\":\"left\"},\"paper_bgcolor\":\"white\",\"plot_bgcolor\":\"#E5ECF6\",\"polar\":{\"bgcolor\":\"#E5ECF6\",\"angularaxis\":{\"gridcolor\":\"white\",\"linecolor\":\"white\",\"ticks\":\"\"},\"radialaxis\":{\"gridcolor\":\"white\",\"linecolor\":\"white\",\"ticks\":\"\"}},\"ternary\":{\"bgcolor\":\"#E5ECF6\",\"aaxis\":{\"gridcolor\":\"white\",\"linecolor\":\"white\",\"ticks\":\"\"},\"baxis\":{\"gridcolor\":\"white\",\"linecolor\":\"white\",\"ticks\":\"\"},\"caxis\":{\"gridcolor\":\"white\",\"linecolor\":\"white\",\"ticks\":\"\"}},\"coloraxis\":{\"colorbar\":{\"outlinewidth\":0,\"ticks\":\"\"}},\"colorscale\":{\"sequential\":[[0.0,\"#0d0887\"],[0.1111111111111111,\"#46039f\"],[0.2222222222222222,\"#7201a8\"],[0.3333333333333333,\"#9c179e\"],[0.4444444444444444,\"#bd3786\"],[0.5555555555555556,\"#d8576b\"],[0.6666666666666666,\"#ed7953\"],[0.7777777777777778,\"#fb9f3a\"],[0.8888888888888888,\"#fdca26\"],[1.0,\"#f0f921\"]],\"sequentialminus\":[[0.0,\"#0d0887\"],[0.1111111111111111,\"#46039f\"],[0.2222222222222222,\"#7201a8\"],[0.3333333333333333,\"#9c179e\"],[0.4444444444444444,\"#bd3786\"],[0.5555555555555556,\"#d8576b\"],[0.6666666666666666,\"#ed7953\"],[0.7777777777777778,\"#fb9f3a\"],[0.8888888888888888,\"#fdca26\"],[1.0,\"#f0f921\"]],\"diverging\":[[0,\"#8e0152\"],[0.1,\"#c51b7d\"],[0.2,\"#de77ae\"],[0.3,\"#f1b6da\"],[0.4,\"#fde0ef\"],[0.5,\"#f7f7f7\"],[0.6,\"#e6f5d0\"],[0.7,\"#b8e186\"],[0.8,\"#7fbc41\"],[0.9,\"#4d9221\"],[1,\"#276419\"]]},\"xaxis\":{\"gridcolor\":\"white\",\"linecolor\":\"white\",\"ticks\":\"\",\"title\":{\"standoff\":15},\"zerolinecolor\":\"white\",\"automargin\":true,\"zerolinewidth\":2},\"yaxis\":{\"gridcolor\":\"white\",\"linecolor\":\"white\",\"ticks\":\"\",\"title\":{\"standoff\":15},\"zerolinecolor\":\"white\",\"automargin\":true,\"zerolinewidth\":2},\"scene\":{\"xaxis\":{\"backgroundcolor\":\"#E5ECF6\",\"gridcolor\":\"white\",\"linecolor\":\"white\",\"showbackground\":true,\"ticks\":\"\",\"zerolinecolor\":\"white\",\"gridwidth\":2},\"yaxis\":{\"backgroundcolor\":\"#E5ECF6\",\"gridcolor\":\"white\",\"linecolor\":\"white\",\"showbackground\":true,\"ticks\":\"\",\"zerolinecolor\":\"white\",\"gridwidth\":2},\"zaxis\":{\"backgroundcolor\":\"#E5ECF6\",\"gridcolor\":\"white\",\"linecolor\":\"white\",\"showbackground\":true,\"ticks\":\"\",\"zerolinecolor\":\"white\",\"gridwidth\":2}},\"shapedefaults\":{\"line\":{\"color\":\"#2a3f5f\"}},\"annotationdefaults\":{\"arrowcolor\":\"#2a3f5f\",\"arrowhead\":0,\"arrowwidth\":1},\"geo\":{\"bgcolor\":\"white\",\"landcolor\":\"#E5ECF6\",\"subunitcolor\":\"white\",\"showland\":true,\"showlakes\":true,\"lakecolor\":\"white\"},\"title\":{\"x\":0.05},\"mapbox\":{\"style\":\"light\"}}},\"xaxis\":{\"anchor\":\"y\",\"domain\":[0.0,1.0],\"title\":{\"text\":\"borough\"}},\"yaxis\":{\"anchor\":\"x\",\"domain\":[0.0,1.0],\"title\":{\"text\":\"sum of count\"}},\"legend\":{\"title\":{\"text\":\"violation\"},\"tracegroupgap\":0},\"title\":{\"text\":\"NY Parking Violation in Sep 2018\"},\"barmode\":\"relative\"},                        {\"responsive\": true}                    ).then(function(){\n",
       "                            \n",
       "var gd = document.getElementById('f153cde3-5e70-4ea2-8eed-62bf2da4b2d8');\n",
       "var x = new MutationObserver(function (mutations, observer) {{\n",
       "        var display = window.getComputedStyle(gd).display;\n",
       "        if (!display || display === 'none') {{\n",
       "            console.log([gd, 'removed!']);\n",
       "            Plotly.purge(gd);\n",
       "            observer.disconnect();\n",
       "        }}\n",
       "}});\n",
       "\n",
       "// Listen for the removal of the full notebook cells\n",
       "var notebookContainer = gd.closest('#notebook-container');\n",
       "if (notebookContainer) {{\n",
       "    x.observe(notebookContainer, {childList: true});\n",
       "}}\n",
       "\n",
       "// Listen for the clearing of the current output cell\n",
       "var outputEl = gd.closest('.output');\n",
       "if (outputEl) {{\n",
       "    x.observe(outputEl, {childList: true});\n",
       "}}\n",
       "\n",
       "                        })                };                });            </script>        </div>"
      ]
     },
     "metadata": {},
     "output_type": "display_data"
    }
   ],
   "source": [
    "px.histogram(violation_counts, \n",
    "                 x='borough', \n",
    "                 y='count', \n",
    "                 color='violation', \n",
    "                 title='NY Parking Violation in Sep 2018')"
   ]
  }
 ],
 "metadata": {
  "kernelspec": {
   "display_name": "base",
   "language": "python",
   "name": "python3"
  },
  "language_info": {
   "codemirror_mode": {
    "name": "ipython",
    "version": 3
   },
   "file_extension": ".py",
   "mimetype": "text/x-python",
   "name": "python",
   "nbconvert_exporter": "python",
   "pygments_lexer": "ipython3",
   "version": "3.12.2"
  }
 },
 "nbformat": 4,
 "nbformat_minor": 5
}
